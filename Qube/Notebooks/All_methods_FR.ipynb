{
 "cells": [
  {
   "cell_type": "code",
   "execution_count": 23,
   "metadata": {},
   "outputs": [
    {
     "data": {
      "text/plain": [
       "Index(['TARGET', 'Rank'], dtype='object')"
      ]
     },
     "execution_count": 23,
     "metadata": {},
     "output_type": "execute_result"
    }
   ],
   "source": [
    "from catboost import CatBoostRegressor, Pool\n",
    "\n",
    "import pandas as pd\n",
    "from sklearn.model_selection import KFold\n",
    "from scipy.stats import spearmanr\n",
    "from sklearn.metrics import mean_squared_error\n",
    "import numpy as np\n",
    "\n",
    "\n",
    "df = pd.read_csv('X_dropped_FR.csv').drop(['ID',\"DAY_ID\"], axis=1)\n",
    "labels=pd.read_csv('Y_dropped_FR.csv').drop('ID', axis=1)\n",
    "\n",
    "labels.columns"
   ]
  },
  {
   "cell_type": "code",
   "execution_count": 33,
   "metadata": {},
   "outputs": [
    {
     "name": "stdout",
     "output_type": "stream",
     "text": [
      "Spearman correlation for the train set [22.873112774575013, 26.6949473420165, 26.6949473420165]\n",
      "                            OLS Regression Results                            \n",
      "==============================================================================\n",
      "Dep. Variable:                 TARGET   R-squared:                       0.038\n",
      "Model:                            OLS   Adj. R-squared:                  0.016\n",
      "Method:                 Least Squares   F-statistic:                     1.767\n",
      "Date:                Sat, 29 Jul 2023   Prob (F-statistic):             0.0316\n",
      "Time:                        18:31:11   Log-Likelihood:                -1056.2\n",
      "No. Observations:                 734   AIC:                             2146.\n",
      "Df Residuals:                     717   BIC:                             2225.\n",
      "Df Model:                          16                                         \n",
      "Covariance Type:            nonrobust                                         \n",
      "====================================================================================\n",
      "                       coef    std err          t      P>|t|      [0.025      0.975]\n",
      "------------------------------------------------------------------------------------\n",
      "const                0.1166      0.080      1.463      0.144      -0.040       0.273\n",
      "FR_CONSUMPTION       0.8420      1.740      0.484      0.629      -2.575       4.259\n",
      "FR_DE_EXCHANGE      -0.0078      0.069     -0.113      0.910      -0.142       0.127\n",
      "FR_NET_EXPORT       -0.1856      0.173     -1.071      0.285      -0.526       0.155\n",
      "FR_GAS               0.0131      0.112      0.117      0.907      -0.207       0.234\n",
      "FR_COAL             -0.0114      0.100     -0.114      0.909      -0.207       0.184\n",
      "FR_HYDRO             0.1976      0.084      2.339      0.020       0.032       0.363\n",
      "FR_NUCLEAR           0.2575      0.265      0.973      0.331      -0.262       0.777\n",
      "FR_SOLAR            -0.0969      0.130     -0.743      0.458      -0.353       0.159\n",
      "FR_WINDPOW          -0.3007      0.387     -0.778      0.437      -1.060       0.458\n",
      "FR_RESIDUAL_LOAD    -1.2271      1.788     -0.686      0.493      -4.737       2.283\n",
      "FR_RAIN             -0.0453      0.040     -1.124      0.261      -0.125       0.034\n",
      "FR_WIND              0.0673      0.055      1.224      0.221      -0.041       0.175\n",
      "FR_TEMP             -0.0160      0.042     -0.384      0.701      -0.098       0.066\n",
      "GAS_RET              0.0356      0.039      0.920      0.358      -0.040       0.112\n",
      "COAL_RET            -0.0310      0.039     -0.802      0.423      -0.107       0.045\n",
      "CARBON_RET           0.0889      0.039      2.253      0.025       0.011       0.166\n",
      "==============================================================================\n",
      "Omnibus:                      316.812   Durbin-Watson:                   2.048\n",
      "Prob(Omnibus):                  0.000   Jarque-Bera (JB):             6443.766\n",
      "Skew:                           1.432   Prob(JB):                         0.00\n",
      "Kurtosis:                      17.230   Cond. No.                         137.\n",
      "==============================================================================\n",
      "\n",
      "Notes:\n",
      "[1] Standard Errors assume that the covariance matrix of the errors is correctly specified.\n"
     ]
    }
   ],
   "source": [
    "\n",
    "from sklearn.linear_model import LinearRegression\n",
    "import statsmodels.api as sm\n",
    "from scipy import stats\n",
    "\n",
    "lr = LinearRegression()\n",
    "\n",
    "\n",
    "\n",
    "X_train_clean = df\n",
    "Y_train_clean = labels\n",
    "\n",
    "lr.fit(X_train_clean, Y_train_clean)\n",
    "\n",
    "output_train = lr.predict(X_train_clean)\n",
    "\n",
    "# print (output_train)\n",
    "def metric_train(output):\n",
    "    if not isinstance(output_train[0], np.ndarray):\n",
    "        return  100 *spearmanr(output, Y_train_clean[\"TARGET\"]).correlation\n",
    "    else:\n",
    "        return  [100 *spearmanr(output[:,0], Y_train_clean[\"TARGET\"]).correlation , 100 *spearmanr(output[:,1], Y_train_clean[\"Rank\"]).correlation, 100 *spearmanr(output[:,1], Y_train_clean[\"TARGET\"]).correlation ]\n",
    "\n",
    "print('Spearman correlation for the train set', ( metric_train(output_train)))\n",
    "\n",
    "\n",
    "X2 = sm.add_constant(X_train_clean)\n",
    "est = sm.OLS(Y_train_clean[\"TARGET\"], X2)\n",
    "est2 = est.fit()\n",
    "print(est2.summary())"
   ]
  },
  {
   "cell_type": "code",
   "execution_count": 34,
   "metadata": {},
   "outputs": [
    {
     "name": "stdout",
     "output_type": "stream",
     "text": [
      "Spearman correlation for the train set [23.231049886808137, 26.73076411580703, 26.73076411580703]\n"
     ]
    }
   ],
   "source": [
    "from sklearn.linear_model import Ridge\n",
    "ridge = Ridge(alpha=0.5)\n",
    "# Fit the ridge regressor\n",
    "ridge.fit(X_train_clean, Y_train_clean)\n",
    "output_train = ridge.predict(X_train_clean)\n",
    "print('Spearman correlation for the train set', ( metric_train(output_train)))"
   ]
  },
  {
   "cell_type": "code",
   "execution_count": 35,
   "metadata": {},
   "outputs": [
    {
     "name": "stdout",
     "output_type": "stream",
     "text": [
      "Spearman correlation for the train set [23.57512214777896, 26.699920966708756, 26.699920966708756]\n",
      "[['FR_CONSUMPTION', 232.1143835398184], ['FR_DE_EXCHANGE', 5.068385706433793], ['FR_NET_EXPORT', -39.033427283524524], ['FR_GAS', -19.594879507421915], ['FR_COAL', 17.25575002640019], ['FR_HYDRO', 62.758545896314814], ['FR_NUCLEAR', 49.85342492231166], ['FR_SOLAR', -44.79029643249677], ['FR_WINDPOW', -102.9902771781182], ['FR_RESIDUAL_LOAD', -316.7316131203882], ['FR_RAIN', -18.038195966326608], ['FR_WIND', 32.96030130704716], ['FR_TEMP', -5.294096869006977], ['GAS_RET', 19.800647768051824], ['COAL_RET', 4.697493302313814], ['CARBON_RET', 60.804971948561956]]\n"
     ]
    }
   ],
   "source": [
    "from sklearn.linear_model import Lasso\n",
    "lasso = Lasso(alpha=0.001,max_iter=100000)\n",
    "# Fit the ridge regressor\n",
    "lasso.fit(X_train_clean, Y_train_clean)\n",
    "output_train = lasso.predict(X_train_clean)\n",
    "print('Spearman correlation for the train set', ( metric_train(output_train)))\n",
    "included_features = [[feature,coef] for feature,coef in zip(X_train_clean.columns,lasso.coef_[1]) ]\n",
    "print(included_features)"
   ]
  },
  {
   "cell_type": "code",
   "execution_count": 36,
   "metadata": {},
   "outputs": [
    {
     "name": "stdout",
     "output_type": "stream",
     "text": [
      "Spearman correlation for the train set 100.0\n"
     ]
    }
   ],
   "source": [
    "from sklearn.tree import DecisionTreeRegressor\n",
    "DT = DecisionTreeRegressor()\n",
    "# Fit the ridge regressor\n",
    "DT.fit(X_train_clean, Y_train_clean[\"TARGET\"])\n",
    "output_train = DT.predict(X_train_clean)\n",
    "# print(output_train)\n",
    "print('Spearman correlation for the train set', ( metric_train(output_train)))"
   ]
  },
  {
   "cell_type": "code",
   "execution_count": 37,
   "metadata": {},
   "outputs": [
    {
     "name": "stdout",
     "output_type": "stream",
     "text": [
      "Spearman correlation for the train set 87.19667622282122\n"
     ]
    }
   ],
   "source": [
    "from sklearn.ensemble import RandomForestRegressor\n",
    "DF = RandomForestRegressor()\n",
    "# Fit the ridge regressor\n",
    "DF.fit(X_train_clean, Y_train_clean[\"TARGET\"])\n",
    "output_train = DF.predict(X_train_clean)\n",
    "# print(output_train)\n",
    "print('Spearman correlation for the train set', ( metric_train(output_train)))"
   ]
  }
 ],
 "metadata": {
  "kernelspec": {
   "display_name": "nnunet",
   "language": "python",
   "name": "python3"
  },
  "language_info": {
   "codemirror_mode": {
    "name": "ipython",
    "version": 3
   },
   "file_extension": ".py",
   "mimetype": "text/x-python",
   "name": "python",
   "nbconvert_exporter": "python",
   "pygments_lexer": "ipython3",
   "version": "3.10.11"
  },
  "orig_nbformat": 4
 },
 "nbformat": 4,
 "nbformat_minor": 2
}
