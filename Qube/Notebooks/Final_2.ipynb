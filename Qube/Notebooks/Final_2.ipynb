{
 "cells": [
  {
   "cell_type": "code",
   "execution_count": 196,
   "metadata": {},
   "outputs": [
    {
     "data": {
      "text/plain": [
       "['DE_CONSUMPTION',\n",
       " 'DE_FR_EXCHANGE',\n",
       " 'DE_NET_EXPORT',\n",
       " 'DE_GAS',\n",
       " 'DE_COAL',\n",
       " 'DE_HYDRO',\n",
       " 'DE_NUCLEAR',\n",
       " 'DE_SOLAR',\n",
       " 'DE_WINDPOW',\n",
       " 'DE_LIGNITE',\n",
       " 'DE_RESIDUAL_LOAD',\n",
       " 'GAS_RET',\n",
       " 'COAL_RET',\n",
       " 'CARBON_RET']"
      ]
     },
     "execution_count": 196,
     "metadata": {},
     "output_type": "execute_result"
    }
   ],
   "source": [
    "from catboost import CatBoostRegressor, Pool\n",
    "\n",
    "import pandas as pd\n",
    "from sklearn.model_selection import KFold\n",
    "from scipy.stats import spearmanr\n",
    "from sklearn.metrics import mean_squared_error\n",
    "\n",
    "df = pd.read_csv('X_imputed_DE.csv').drop(['ID',\"DAY_ID\",\"DE_RAIN\",\"DE_WIND\",\"DE_TEMP\"], axis=1)\n",
    "labels=pd.read_csv('Y_imputed_DE.csv').drop('ID', axis=1)\n",
    "labels[\"Rank_2\"]=labels[\"Rank\"]**2\n",
    "\n",
    "# df_FR = pd.read_csv('X_imputed_FR.csv').drop(['ID',\"DAY_ID\"], axis=1)\n",
    "df_FR = pd.read_csv('X_imputed_FR.csv').drop(['ID',\"DAY_ID\",\"FR_DE_EXCHANGE\",\"FR_NET_EXPORT\",\"FR_RAIN\",\"FR_WIND\",\"FR_TEMP\"], axis=1)\n",
    "labels_FR=pd.read_csv('Y_imputed_FR.csv').drop('ID', axis=1)\n",
    "\n",
    "list(df.columns)"
   ]
  },
  {
   "cell_type": "code",
   "execution_count": 199,
   "metadata": {},
   "outputs": [
    {
     "name": "stdout",
     "output_type": "stream",
     "text": [
      "powers added\n",
      "16369 colunms to add\n"
     ]
    },
    {
     "name": "stderr",
     "output_type": "stream",
     "text": [
      "  0%|          | 0/16369 [00:00<?, ?it/s]"
     ]
    },
    {
     "name": "stderr",
     "output_type": "stream",
     "text": [
      "100%|██████████| 16369/16369 [01:02<00:00, 262.57it/s]\n"
     ]
    },
    {
     "name": "stdout",
     "output_type": "stream",
     "text": [
      "n_uplet added\n",
      "_x_CARBON_RET_x_COAL_RET_x_DE_LIGNITE_x_DE_WINDPOW_x_DE_HYDRO_x_DE_GAS_x_DE_NET_EXPORT_x_DE_CONSUMPTION                                                                       0.265474\n",
      "_x_CARBON_RET_x_COAL_RET_x_DE_LIGNITE_x_DE_WINDPOW_x_DE_SOLAR_x_DE_HYDRO_x_DE_COAL_x_DE_GAS_x_DE_CONSUMPTION                                                                  0.264804\n",
      "_x_CARBON_RET_x_COAL_RET_x_DE_LIGNITE_x_DE_WINDPOW_x_DE_SOLAR_x_DE_HYDRO_x_DE_GAS_x_DE_FR_EXCHANGE_x_DE_CONSUMPTION                                                           0.261189\n",
      "_x_CARBON_RET_x_COAL_RET_x_GAS_RET_x_DE_LIGNITE_x_DE_SOLAR_x_DE_COAL_x_DE_NET_EXPORT_x_DE_CONSUMPTION                                                                         0.258630\n",
      "_x_CARBON_RET_x_COAL_RET_x_GAS_RET_x_DE_LIGNITE_x_DE_WINDPOW_x_DE_COAL_x_DE_GAS_x_DE_NET_EXPORT_x_DE_FR_EXCHANGE_x_DE_CONSUMPTION                                             0.258111\n",
      "_x_CARBON_RET_x_GAS_RET_x_DE_LIGNITE_x_DE_WINDPOW_x_DE_SOLAR_x_DE_HYDRO_x_DE_COAL_x_DE_GAS_x_DE_FR_EXCHANGE                                                                   0.257575\n",
      "_x_CARBON_RET_x_COAL_RET_x_GAS_RET_x_DE_LIGNITE_x_DE_WINDPOW_x_DE_SOLAR_x_DE_HYDRO_x_DE_COAL_x_DE_GAS_x_DE_FR_EXCHANGE                                                        0.255628\n",
      "_x_CARBON_RET_x_COAL_RET_x_DE_LIGNITE_x_DE_WINDPOW_x_DE_HYDRO_x_DE_COAL_x_DE_NET_EXPORT                                                                                       0.255233\n",
      "_x_CARBON_RET_x_COAL_RET_x_DE_LIGNITE_x_DE_WINDPOW_x_DE_HYDRO_x_DE_COAL_x_DE_GAS_x_DE_NET_EXPORT_x_DE_FR_EXCHANGE_x_DE_CONSUMPTION                                            0.255188\n",
      "_x_CARBON_RET_x_COAL_RET_x_DE_LIGNITE_x_DE_HYDRO_x_DE_COAL_x_DE_GAS_x_DE_FR_EXCHANGE_x_DE_CONSUMPTION                                                                         0.253988\n",
      "_x_CARBON_RET_x_COAL_RET_x_GAS_RET_x_DE_LIGNITE_x_DE_WINDPOW_x_DE_SOLAR_x_DE_HYDRO_x_DE_COAL_x_DE_FR_EXCHANGE                                                                 0.253699\n",
      "_x_CARBON_RET_x_COAL_RET_x_GAS_RET_x_DE_LIGNITE_x_DE_WINDPOW_x_DE_HYDRO_x_DE_GAS_x_DE_NET_EXPORT_x_DE_FR_EXCHANGE                                                             0.253201\n",
      "_x_CARBON_RET_x_COAL_RET_x_GAS_RET_x_DE_LIGNITE_x_DE_SOLAR_x_DE_HYDRO_x_DE_COAL_x_DE_GAS_x_DE_NET_EXPORT_x_DE_CONSUMPTION                                                     0.253071\n",
      "_x_CARBON_RET_x_COAL_RET_x_DE_LIGNITE_x_DE_HYDRO_x_DE_GAS_x_DE_NET_EXPORT_x_DE_FR_EXCHANGE_x_DE_CONSUMPTION                                                                   0.252907\n",
      "_x_CARBON_RET_x_COAL_RET_x_GAS_RET_x_DE_LIGNITE_x_DE_WINDPOW_x_DE_SOLAR_x_DE_COAL_x_DE_GAS_x_DE_FR_EXCHANGE                                                                   0.252390\n",
      "_x_CARBON_RET_x_COAL_RET_x_DE_LIGNITE_x_DE_HYDRO_x_DE_COAL_x_DE_NET_EXPORT_x_DE_CONSUMPTION                                                                                   0.252301\n",
      "_x_CARBON_RET_x_COAL_RET_x_GAS_RET_x_DE_LIGNITE_x_DE_WINDPOW_x_DE_SOLAR_x_DE_HYDRO_x_DE_COAL_x_DE_CONSUMPTION                                                                 0.252279\n",
      "_x_GAS_RET_x_DE_LIGNITE_x_DE_WINDPOW_x_DE_SOLAR_x_DE_HYDRO_x_DE_COAL_x_DE_GAS_x_DE_NET_EXPORT_x_DE_FR_EXCHANGE_x_DE_CONSUMPTION                                               0.251990\n",
      "_x_CARBON_RET_x_COAL_RET_x_GAS_RET_x_DE_LIGNITE_x_DE_SOLAR_x_DE_HYDRO_x_DE_GAS_x_DE_NET_EXPORT_x_DE_FR_EXCHANGE_x_DE_CONSUMPTION                                              0.251932\n",
      "_x_CARBON_RET_x_COAL_RET_x_GAS_RET_x_DE_LIGNITE_x_DE_SOLAR_x_DE_HYDRO_x_DE_COAL_x_DE_GAS_x_DE_NET_EXPORT_x_DE_FR_EXCHANGE                                                     0.251614\n",
      "_x_CARBON_RET_x_COAL_RET_x_GAS_RET_x_DE_LIGNITE_x_DE_SOLAR_x_DE_HYDRO_x_DE_COAL_x_DE_NET_EXPORT_x_DE_FR_EXCHANGE                                                              0.251527\n",
      "_x_CARBON_RET_x_COAL_RET_x_DE_LIGNITE_x_DE_HYDRO_x_DE_GAS_x_DE_FR_EXCHANGE                                                                                                    0.250910\n",
      "DE_RESIDUAL_LOAD                                                                                                                                                              0.250898\n",
      "_x_CARBON_RET_x_COAL_RET_x_GAS_RET_x_DE_LIGNITE_x_DE_WINDPOW_x_DE_SOLAR_x_DE_HYDRO_x_DE_COAL_x_DE_GAS_x_DE_NET_EXPORT_x_DE_FR_EXCHANGE_x_DE_CONSUMPTION                       0.250818\n",
      "_x_CARBON_RET_x_GAS_RET_x_DE_LIGNITE_x_DE_WINDPOW_x_DE_SOLAR_x_DE_HYDRO_x_DE_GAS                                                                                              0.250528\n",
      "_x_COAL_RET_x_GAS_RET_x_DE_LIGNITE_x_DE_WINDPOW_x_DE_SOLAR_x_DE_COAL_x_DE_GAS_x_DE_FR_EXCHANGE                                                                                0.250450\n",
      "_x_CARBON_RET_x_COAL_RET_x_GAS_RET_x_DE_LIGNITE_x_DE_HYDRO_x_DE_COAL_x_DE_GAS_x_DE_NET_EXPORT_x_DE_CONSUMPTION                                                                0.250020\n",
      "_x_CARBON_RET_x_COAL_RET_x_GAS_RET_x_DE_LIGNITE_x_DE_SOLAR_x_DE_HYDRO_x_DE_COAL_x_DE_GAS_x_DE_FR_EXCHANGE                                                                    -0.250027\n",
      "_x_COAL_RET_x_GAS_RET_x_DE_LIGNITE_x_DE_WINDPOW_x_DE_SOLAR_x_DE_HYDRO_x_DE_COAL_x_DE_GAS_x_DE_NET_EXPORT_x_DE_FR_EXCHANGE                                                    -0.250168\n",
      "DE_WINDPOW                                                                                                                                                                   -0.250204\n",
      "_x_CARBON_RET_x_COAL_RET_x_GAS_RET_x_DE_LIGNITE_x_DE_WINDPOW_x_DE_HYDRO_x_DE_COAL_x_DE_GAS_x_DE_NET_EXPORT_x_DE_FR_EXCHANGE                                                  -0.250429\n",
      "_x_CARBON_RET_x_COAL_RET_x_GAS_RET_x_DE_LIGNITE_x_DE_HYDRO_x_DE_GAS_x_DE_NET_EXPORT_x_DE_CONSUMPTION                                                                         -0.250523\n",
      "_x_CARBON_RET_x_COAL_RET_x_DE_LIGNITE_x_DE_WINDPOW_x_DE_SOLAR_x_DE_HYDRO_x_DE_GAS_x_DE_CONSUMPTION                                                                           -0.250570\n",
      "DE_NET_EXPORT                                                                                                                                                                -0.250616\n",
      "_x_CARBON_RET_x_COAL_RET_x_GAS_RET_x_DE_LIGNITE_x_DE_WINDPOW_x_DE_SOLAR_x_DE_HYDRO_x_DE_COAL_x_DE_GAS_x_DE_NET_EXPORT_x_DE_FR_EXCHANGE                                       -0.251030\n",
      "_x_CARBON_RET_x_COAL_RET_x_DE_LIGNITE_x_DE_WINDPOW_x_DE_SOLAR_x_DE_HYDRO_x_DE_COAL_x_DE_NET_EXPORT_x_DE_CONSUMPTION                                                          -0.252138\n",
      "_x_CARBON_RET_x_GAS_RET_x_DE_LIGNITE_x_DE_WINDPOW_x_DE_SOLAR_x_DE_HYDRO_x_DE_GAS_x_DE_NET_EXPORT_x_DE_FR_EXCHANGE_x_DE_CONSUMPTION                                           -0.252241\n",
      "_x_COAL_RET_x_GAS_RET_x_DE_LIGNITE_x_DE_WINDPOW_x_DE_SOLAR_x_DE_HYDRO_x_DE_COAL_x_DE_NET_EXPORT_x_DE_FR_EXCHANGE                                                             -0.252387\n",
      "_x_CARBON_RET_x_COAL_RET_x_GAS_RET_x_DE_LIGNITE_x_DE_SOLAR_x_DE_HYDRO_x_DE_COAL_x_DE_FR_EXCHANGE                                                                             -0.252413\n",
      "_x_COAL_RET_x_GAS_RET_x_DE_LIGNITE_x_DE_WINDPOW_x_DE_SOLAR_x_DE_COAL_x_DE_GAS_x_DE_NET_EXPORT_x_DE_FR_EXCHANGE                                                               -0.252657\n",
      "_x_CARBON_RET_x_GAS_RET_x_DE_LIGNITE_x_DE_SOLAR_x_DE_HYDRO_x_DE_COAL_x_DE_GAS_x_DE_FR_EXCHANGE                                                                               -0.252796\n",
      "_x_CARBON_RET_x_COAL_RET_x_GAS_RET_x_DE_LIGNITE_x_DE_WINDPOW_x_DE_SOLAR_x_DE_HYDRO_x_DE_COAL_x_DE_NET_EXPORT_x_DE_CONSUMPTION                                                -0.252878\n",
      "_x_CARBON_RET_x_GAS_RET_x_DE_LIGNITE_x_DE_WINDPOW_x_DE_SOLAR_x_DE_HYDRO_x_DE_COAL_x_DE_GAS_x_DE_NET_EXPORT_x_DE_FR_EXCHANGE                                                  -0.252914\n",
      "_x_CARBON_RET_x_COAL_RET_x_GAS_RET_x_DE_RESIDUAL_LOAD_x_DE_LIGNITE_x_DE_WINDPOW_x_DE_SOLAR_x_DE_HYDRO_x_DE_COAL_x_DE_GAS_x_DE_NET_EXPORT_x_DE_FR_EXCHANGE_x_DE_CONSUMPTION   -0.254285\n",
      "_x_CARBON_RET_x_COAL_RET_x_GAS_RET_x_DE_LIGNITE_x_DE_WINDPOW_x_DE_SOLAR_x_DE_HYDRO_x_DE_COAL_x_DE_GAS_x_DE_NET_EXPORT_x_DE_CONSUMPTION                                       -0.255504\n",
      "_x_CARBON_RET_x_COAL_RET_x_GAS_RET_x_DE_WINDPOW_x_DE_SOLAR_x_DE_HYDRO_x_DE_COAL_x_DE_GAS_x_DE_NET_EXPORT_x_DE_FR_EXCHANGE_x_DE_CONSUMPTION                                   -0.255576\n",
      "_x_CARBON_RET_x_GAS_RET_x_DE_WINDPOW_x_DE_SOLAR_x_DE_HYDRO_x_DE_COAL_x_DE_GAS_x_DE_NET_EXPORT_x_DE_FR_EXCHANGE_x_DE_CONSUMPTION                                              -0.256521\n",
      "_x_CARBON_RET_x_COAL_RET_x_GAS_RET_x_DE_LIGNITE_x_DE_WINDPOW_x_DE_SOLAR_x_DE_HYDRO_x_DE_GAS_x_DE_NET_EXPORT_x_DE_FR_EXCHANGE_x_DE_CONSUMPTION                                -0.257051\n",
      "_x_COAL_RET_x_GAS_RET_x_DE_LIGNITE_x_DE_WINDPOW_x_DE_SOLAR_x_DE_HYDRO_x_DE_COAL_x_DE_GAS_x_DE_NET_EXPORT_x_DE_CONSUMPTION                                                    -0.257561\n",
      "_x_CARBON_RET_x_COAL_RET_x_GAS_RET_x_DE_LIGNITE_x_DE_HYDRO_x_DE_COAL_x_DE_GAS_x_DE_NET_EXPORT_x_DE_FR_EXCHANGE_x_DE_CONSUMPTION                                              -0.259121\n",
      "_x_CARBON_RET_x_COAL_RET_x_DE_LIGNITE_x_DE_HYDRO_x_DE_COAL_x_DE_GAS_x_DE_NET_EXPORT_x_DE_FR_EXCHANGE_x_DE_CONSUMPTION                                                        -0.260089\n",
      "_x_GAS_RET_x_DE_LIGNITE_x_DE_WINDPOW_x_DE_SOLAR_x_DE_HYDRO_x_DE_GAS_x_DE_NET_EXPORT_x_DE_FR_EXCHANGE_x_DE_CONSUMPTION                                                        -0.264183\n",
      "_x_COAL_RET_x_GAS_RET_x_DE_LIGNITE_x_DE_WINDPOW_x_DE_SOLAR_x_DE_HYDRO_x_DE_GAS_x_DE_NET_EXPORT_x_DE_FR_EXCHANGE_x_DE_CONSUMPTION                                             -0.266040\n",
      "_x_CARBON_RET_x_COAL_RET_x_DE_LIGNITE_x_DE_WINDPOW_x_DE_HYDRO_x_DE_COAL_x_DE_GAS_x_DE_NET_EXPORT_x_DE_CONSUMPTION                                                            -0.266106\n",
      "dtype: float64\n"
     ]
    }
   ],
   "source": [
    "\n",
    "from Brute_force_feature_engineering import *\n",
    "\n",
    "base_columns=list(df.columns)\n",
    "df_copy,corr=main_brute(df,base_columns,labels,n_uplet=20,thresh=0.25)\n",
    "print(corr)\n",
    "df_copy2=df_copy[list(corr.index)+base_columns]"
   ]
  },
  {
   "cell_type": "code",
   "execution_count": 198,
   "metadata": {},
   "outputs": [
    {
     "name": "stdout",
     "output_type": "stream",
     "text": [
      "powers added\n",
      "2024 colunms to add\n"
     ]
    },
    {
     "name": "stderr",
     "output_type": "stream",
     "text": [
      "100%|██████████| 2024/2024 [00:03<00:00, 529.12it/s]\n"
     ]
    },
    {
     "name": "stdout",
     "output_type": "stream",
     "text": [
      "n_uplet added\n",
      "_x_GAS_RET_x_FR_WINDPOW                                                                           0.153600\n",
      "_x_CARBON_RET_x_GAS_RET                                                                           0.150299\n",
      "_x_CARBON_RET_x_GAS_RET_x_FR_RESIDUAL_LOAD_x_FR_GAS                                               0.142039\n",
      "_x_CARBON_RET_x_GAS_RET_x_FR_SOLAR_x_FR_CONSUMPTION                                              -0.132993\n",
      "_x_CARBON_RET_x_GAS_RET_x_FR_SOLAR_x_FR_NUCLEAR_x_FR_HYDRO_x_FR_GAS                              -0.133298\n",
      "_x_CARBON_RET_x_GAS_RET_x_FR_RESIDUAL_LOAD_x_FR_SOLAR_x_FR_NUCLEAR_x_FR_HYDRO_x_FR_CONSUMPTION   -0.133704\n",
      "_x_CARBON_RET_x_GAS_RET_x_FR_RESIDUAL_LOAD_x_FR_SOLAR_x_FR_HYDRO_x_FR_GAS_x_FR_CONSUMPTION       -0.133785\n",
      "_x_CARBON_RET_x_GAS_RET_x_FR_SOLAR_x_FR_HYDRO_x_FR_GAS                                           -0.135605\n",
      "_x_CARBON_RET_x_GAS_RET_x_FR_SOLAR_x_FR_NUCLEAR_x_FR_GAS_x_FR_CONSUMPTION                        -0.136024\n",
      "_x_CARBON_RET_x_GAS_RET_x_FR_RESIDUAL_LOAD_x_FR_SOLAR_x_FR_HYDRO_x_FR_CONSUMPTION                -0.136252\n",
      "_x_CARBON_RET_x_GAS_RET_x_FR_RESIDUAL_LOAD_x_FR_SOLAR_x_FR_HYDRO_x_FR_GAS                        -0.136515\n",
      "_x_CARBON_RET_x_GAS_RET_x_FR_RESIDUAL_LOAD_x_FR_SOLAR_x_FR_NUCLEAR_x_FR_CONSUMPTION              -0.136658\n",
      "_x_CARBON_RET_x_GAS_RET_x_FR_RESIDUAL_LOAD_x_FR_SOLAR                                            -0.137215\n",
      "_x_CARBON_RET_x_GAS_RET_x_FR_SOLAR_x_FR_HYDRO_x_FR_GAS_x_FR_CONSUMPTION                          -0.137238\n",
      "_x_CARBON_RET_x_GAS_RET_x_FR_RESIDUAL_LOAD_x_FR_SOLAR_x_FR_NUCLEAR_x_FR_GAS                      -0.138189\n",
      "_x_CARBON_RET_x_GAS_RET_x_FR_SOLAR_x_FR_HYDRO_x_FR_CONSUMPTION                                   -0.140783\n",
      "_x_CARBON_RET_x_GAS_RET_x_FR_RESIDUAL_LOAD_x_FR_SOLAR_x_FR_GAS_x_FR_CONSUMPTION                  -0.142222\n",
      "_x_CARBON_RET_x_GAS_RET_x_FR_RESIDUAL_LOAD_x_FR_SOLAR_x_FR_HYDRO                                 -0.142504\n",
      "_x_CARBON_RET_x_GAS_RET_x_FR_SOLAR_x_FR_GAS                                                      -0.144380\n",
      "_x_CARBON_RET_x_GAS_RET_x_FR_WINDPOW_x_FR_NUCLEAR                                                -0.152689\n",
      "_x_CARBON_RET_x_GAS_RET_x_FR_RESIDUAL_LOAD_x_FR_WINDPOW                                          -0.180726\n",
      "_x_CARBON_RET_x_GAS_RET_x_FR_WINDPOW_x_FR_GAS                                                    -0.181472\n",
      "dtype: float64\n"
     ]
    }
   ],
   "source": [
    "base_columns_FR=list(df_FR.columns)\n",
    "df_copy_FR,corr_FR=main_brute(df_FR,base_columns_FR,labels_FR,n_uplet=9,thresh=0.13)\n",
    "print(corr_FR)\n",
    "df_copy2_FR=df_copy_FR[list(corr_FR.index)+base_columns_FR]"
   ]
  },
  {
   "cell_type": "code",
   "execution_count": 200,
   "metadata": {},
   "outputs": [
    {
     "data": {
      "text/html": [
       "<div>\n",
       "<style scoped>\n",
       "    .dataframe tbody tr th:only-of-type {\n",
       "        vertical-align: middle;\n",
       "    }\n",
       "\n",
       "    .dataframe tbody tr th {\n",
       "        vertical-align: top;\n",
       "    }\n",
       "\n",
       "    .dataframe thead th {\n",
       "        text-align: right;\n",
       "    }\n",
       "</style>\n",
       "<table border=\"1\" class=\"dataframe\">\n",
       "  <thead>\n",
       "    <tr style=\"text-align: right;\">\n",
       "      <th></th>\n",
       "    </tr>\n",
       "  </thead>\n",
       "  <tbody>\n",
       "  </tbody>\n",
       "</table>\n",
       "</div>"
      ],
      "text/plain": [
       "Empty DataFrame\n",
       "Columns: []\n",
       "Index: []"
      ]
     },
     "execution_count": 200,
     "metadata": {},
     "output_type": "execute_result"
    }
   ],
   "source": [
    "inf_mask = df_copy.isin([np.inf])\n",
    "df_copy.loc[inf_mask.any(axis=1), inf_mask.any(axis=0)]"
   ]
  },
  {
   "cell_type": "code",
   "execution_count": 201,
   "metadata": {},
   "outputs": [],
   "source": [
    "import numpy as np\n",
    "from sklearn.model_selection import train_test_split\n",
    "X_train_clean_DE = df\n",
    "Y_train_clean_DE = labels\n",
    "X_train_clean_FR = df_FR\n",
    "Y_train_clean_FR = labels_FR\n",
    "X_train_clean_FR, X_test_FR, Y_train_clean_FR, y_test_FR = train_test_split(X_train_clean_FR, Y_train_clean_FR, test_size=0.25)\n",
    "X_train_clean_DE, X_test_DE, Y_train_clean_DE, y_test_DE = train_test_split(X_train_clean_DE, Y_train_clean_DE, test_size=0.25)\n",
    "\n",
    "# print (output_train[:,1])\n",
    "def metric_train(output,df):\n",
    "    term=output[0]\n",
    "    if not isinstance(term, np.ndarray):\n",
    "        return  100 *spearmanr(output, df[\"TARGET\"]).correlation\n",
    "    else:\n",
    "        return  [100 *spearmanr(output[:,i], df[\"TARGET\"]).correlation for i in range(len(term)) ]"
   ]
  },
  {
   "cell_type": "code",
   "execution_count": 202,
   "metadata": {},
   "outputs": [],
   "source": [
    "def average_stats(df,labels,regressor,columns=['TARGET','Rank'],iterations=20,depth=None,group=False):\n",
    "    valid_list=[]\n",
    "    for i in range(iterations):\n",
    "        X_train_clean_DE, X_test_DE, Y_train_clean_DE, y_test_DE = train_test_split(df, labels, test_size=0.25)\n",
    "        if group: \n",
    "            Y_train_clean_DE['Rank_group']=pd.qcut(Y_train_clean_DE.Rank,30).cat.codes\n",
    "            if columns is None:\n",
    "                columns= 'Rank_group'\n",
    "            elif 'Rank_group'  not in columns: \n",
    "                if isinstance(columns,list):\n",
    "                    columns=columns+['Rank_group']\n",
    "                else:\n",
    "                    columns=[columns]+['Rank_group']\n",
    "        if depth is None:\n",
    "            DF = regressor()\n",
    "        else:            \n",
    "            DF = regressor(max_depth=depth)\n",
    "        #   Fit the ridge regressor\n",
    "\n",
    "        DF.fit(X_train_clean_DE, Y_train_clean_DE[columns])\n",
    "        output_train = DF.predict(X_test_DE)\n",
    "        # print(output_train)\n",
    "        validation=metric_train(output_train,y_test_DE)\n",
    "        \n",
    "        valid_list+=[validation]\n",
    "    \n",
    "    if isinstance(columns,list):\n",
    "        for i,column in enumerate(columns):\n",
    "            print( f\"average {column} score for \", sum([row[i] for row in valid_list])/len(valid_list) )\n",
    "    else:\n",
    "        print( f\"average {columns} score for \", sum(valid_list)/len(valid_list) )\n",
    "    \n",
    "    print(\"\\n\")\n"
   ]
  },
  {
   "cell_type": "code",
   "execution_count": 203,
   "metadata": {},
   "outputs": [],
   "source": [
    "def average_stats_(df,labels,regressor,columns=['TARGET','Rank'],iterations=20,depth=None,group=False):\n",
    "    valid_list=[]\n",
    "    for i in range(iterations):\n",
    "        X_train_clean_DE, X_test_DE, Y_train_clean_DE, y_test_DE = train_test_split(df, labels, test_size=0.25)\n",
    "        if group: \n",
    "            Y_train_clean_DE['Rank_group']=pd.qcut(Y_train_clean_DE.Rank,30).cat.codes\n",
    "            if columns is None:\n",
    "                columns= 'Rank_group'\n",
    "            elif 'Rank_group'  not in columns: \n",
    "                if isinstance(columns,list):\n",
    "                    columns=columns+['Rank_group']\n",
    "                else:\n",
    "                    columns=[columns]+['Rank_group']\n",
    "        if depth is None:\n",
    "            DF = regressor()\n",
    "        else:            \n",
    "            DF = regressor(max_depth=depth)\n",
    "        #   Fit the ridge regressor\n",
    "\n",
    "        DF.fit(X_train_clean_DE, Y_train_clean_DE[columns])\n",
    "        output_train = DF.predict(X_test_DE)\n",
    "        # print(output_train)\n",
    "        validation=metric_train(output_train,y_test_DE)\n",
    "        \n",
    "        valid_list+=[validation]\n",
    "    \n",
    "    if isinstance(columns,list):\n",
    "        for i,column in enumerate(columns):\n",
    "            print( f\"average {column} score for \", sum([row[i] for row in valid_list])/len(valid_list) )\n",
    "    else:\n",
    "        print( f\"average {columns} score for \", sum(valid_list)/len(valid_list) )\n",
    "    \n",
    "    print(\"\\n\")\n"
   ]
  },
  {
   "cell_type": "code",
   "execution_count": 204,
   "metadata": {},
   "outputs": [
    {
     "name": "stdout",
     "output_type": "stream",
     "text": [
      "average TARGET score for  32.352674136333746\n",
      "average Rank score for  32.84419846055667\n",
      "\n",
      "\n",
      "average Rank score for  34.93084012878229\n",
      "\n",
      "\n",
      "average TARGET score for  26.659680594798015\n",
      "\n",
      "\n"
     ]
    }
   ],
   "source": [
    "from sklearn.ensemble import RandomForestRegressor\n",
    "\n",
    "average_stats(df_copy2,labels,RandomForestRegressor,depth=3)\n",
    "average_stats(df_copy2,labels,RandomForestRegressor,columns='Rank',depth=3)\n",
    "average_stats(df_copy2,labels,RandomForestRegressor,columns='TARGET',depth=3)"
   ]
  },
  {
   "cell_type": "code",
   "execution_count": 205,
   "metadata": {},
   "outputs": [
    {
     "name": "stdout",
     "output_type": "stream",
     "text": [
      "average TARGET score for  32.75692439453148\n",
      "average Rank score for  33.262689952599224\n",
      "\n",
      "\n",
      "average Rank score for  34.76429066110044\n",
      "\n",
      "\n",
      "average TARGET score for  25.265252729714547\n",
      "\n",
      "\n"
     ]
    }
   ],
   "source": [
    "average_stats(df,labels,RandomForestRegressor,depth=3)\n",
    "average_stats(df,labels,RandomForestRegressor,columns='Rank',depth=3)\n",
    "average_stats(df,labels,RandomForestRegressor,columns='TARGET',depth=3)\n"
   ]
  },
  {
   "cell_type": "code",
   "execution_count": 206,
   "metadata": {},
   "outputs": [
    {
     "name": "stdout",
     "output_type": "stream",
     "text": [
      "average Rank_group score for  36.30638250694482\n",
      "\n",
      "\n",
      "average Rank_group score for  30.68978835793998\n",
      "\n",
      "\n"
     ]
    }
   ],
   "source": [
    "average_stats(df,labels,RandomForestRegressor,columns=None,depth=3,group=True)\n",
    "average_stats(df_copy2,labels,RandomForestRegressor,columns=None,depth=3,group=True)"
   ]
  },
  {
   "cell_type": "code",
   "execution_count": 207,
   "metadata": {},
   "outputs": [
    {
     "name": "stdout",
     "output_type": "stream",
     "text": [
      "average TARGET score for  17.524418953781517\n",
      "average Rank score for  19.002513666718052\n",
      "\n",
      "\n",
      "average Rank score for  18.585382918594313\n",
      "\n",
      "\n",
      "average TARGET score for  8.441262153374547\n",
      "\n",
      "\n"
     ]
    }
   ],
   "source": [
    "average_stats(df_FR,labels_FR,RandomForestRegressor,depth=3)\n",
    "average_stats(df_FR,labels_FR,RandomForestRegressor,columns='Rank',depth=3)\n",
    "average_stats(df_FR,labels_FR,RandomForestRegressor,columns='TARGET',depth=3)"
   ]
  },
  {
   "cell_type": "code",
   "execution_count": 208,
   "metadata": {},
   "outputs": [
    {
     "name": "stdout",
     "output_type": "stream",
     "text": [
      "average TARGET score for  19.429634761550854\n",
      "average Rank score for  20.560434314123267\n",
      "\n",
      "\n",
      "average Rank score for  20.69651055626914\n",
      "\n",
      "\n",
      "average TARGET score for  14.259310752491492\n",
      "\n",
      "\n"
     ]
    }
   ],
   "source": [
    "average_stats(df_copy2_FR,labels_FR,RandomForestRegressor,depth=3)\n",
    "average_stats(df_copy2_FR,labels_FR,RandomForestRegressor,columns='Rank',depth=3)\n",
    "average_stats(df_copy2_FR,labels_FR,RandomForestRegressor,columns='TARGET',depth=3)"
   ]
  },
  {
   "cell_type": "code",
   "execution_count": 209,
   "metadata": {},
   "outputs": [
    {
     "name": "stdout",
     "output_type": "stream",
     "text": [
      "average Rank_group score for  18.46192922678766\n",
      "\n",
      "\n",
      "average Rank_group score for  17.67332174097308\n",
      "\n",
      "\n"
     ]
    }
   ],
   "source": [
    "average_stats(df_copy2_FR,labels_FR,RandomForestRegressor,columns=None,depth=3,group=True)\n",
    "average_stats(df_FR,labels_FR,RandomForestRegressor,columns=None,depth=3,group=True)"
   ]
  },
  {
   "cell_type": "code",
   "execution_count": 210,
   "metadata": {},
   "outputs": [
    {
     "name": "stdout",
     "output_type": "stream",
     "text": [
      "average TARGET score for  10.874659238669448\n",
      "average Rank score for  30.935364068064494\n",
      "\n",
      "\n",
      "average Rank score for  29.5422527335191\n",
      "\n",
      "\n",
      "average TARGET score for  11.008569212319385\n",
      "\n",
      "\n",
      "average Rank_group score for  29.886952490934064\n",
      "\n",
      "\n",
      "average TARGET score for  19.432688024490634\n",
      "average Rank score for  37.99639649742855\n",
      "\n",
      "\n",
      "average Rank score for  37.43823405406133\n",
      "\n",
      "\n",
      "average TARGET score for  18.25836124093441\n",
      "\n",
      "\n",
      "average Rank_group score for  37.61988403737143\n",
      "\n",
      "\n"
     ]
    }
   ],
   "source": [
    "from mord import OrdinalRidge,LAD\n",
    "with warnings.catch_warnings():\n",
    "    warnings.simplefilter(\"ignore\")\n",
    "    \n",
    "    average_stats(df_copy2,labels,OrdinalRidge,iterations=100)\n",
    "    average_stats(df_copy2,labels,OrdinalRidge,columns='Rank',iterations=100)\n",
    "    average_stats(df_copy2,labels,OrdinalRidge,columns='TARGET',iterations=100)\n",
    "    average_stats(df_copy2,labels,OrdinalRidge,columns=None, group=True,iterations=100)\n",
    "    \n",
    "    \n",
    "    average_stats(df,labels,OrdinalRidge,iterations=100)\n",
    "    average_stats(df,labels,OrdinalRidge,columns='Rank',iterations=100)\n",
    "    average_stats(df,labels,OrdinalRidge,columns='TARGET',iterations=100)\n",
    "    average_stats(df,labels,OrdinalRidge,columns=None, group=True,iterations=100)\n",
    "    "
   ]
  },
  {
   "cell_type": "code",
   "execution_count": 211,
   "metadata": {},
   "outputs": [
    {
     "name": "stdout",
     "output_type": "stream",
     "text": [
      "average TARGET score for  nan\n",
      "average Rank score for  16.681366495657585\n",
      "\n",
      "\n",
      "average Rank score for  15.245328766098751\n",
      "\n",
      "\n",
      "average TARGET score for  3.483115463774554\n",
      "\n",
      "\n",
      "average Rank_group score for  16.927773299304082\n",
      "\n",
      "\n",
      "average TARGET score for  nan\n",
      "average Rank score for  18.802887219049854\n",
      "\n",
      "\n",
      "average Rank score for  19.980412204254016\n",
      "\n",
      "\n",
      "average TARGET score for  nan\n",
      "\n",
      "\n",
      "average Rank_group score for  17.812501983223473\n",
      "\n",
      "\n"
     ]
    }
   ],
   "source": [
    "from mord import OrdinalRidge,LAD\n",
    "with warnings.catch_warnings():\n",
    "    warnings.simplefilter(\"ignore\")\n",
    "    \n",
    "    average_stats(df_copy2_FR,labels_FR,OrdinalRidge,iterations=100)\n",
    "    average_stats(df_copy2_FR,labels_FR,OrdinalRidge,columns='Rank',iterations=100)\n",
    "    average_stats(df_copy2_FR,labels_FR,OrdinalRidge,columns='TARGET',iterations=100)\n",
    "    average_stats(df_copy2_FR,labels_FR,OrdinalRidge,columns=None, group=True,iterations=100)\n",
    "    \n",
    "    \n",
    "    average_stats(df_FR,labels_FR,OrdinalRidge,iterations=100)\n",
    "    average_stats(df_FR,labels_FR,OrdinalRidge,columns='Rank',iterations=100)\n",
    "    average_stats(df_FR,labels_FR,OrdinalRidge,columns='TARGET',iterations=100)\n",
    "    average_stats(df_FR,labels_FR,OrdinalRidge,columns=None, group=True,iterations=100)\n",
    "    "
   ]
  },
  {
   "cell_type": "code",
   "execution_count": 10,
   "metadata": {},
   "outputs": [
    {
     "name": "stdout",
     "output_type": "stream",
     "text": [
      "average target score for  37.3517693287154\n",
      "\n",
      "\n",
      "average target score for  35.0827280723113\n",
      "\n",
      "\n",
      "average target score for  23.198594512815276\n",
      "\n",
      "\n",
      "average target score for  20.744098194867448\n",
      "\n",
      "\n"
     ]
    }
   ],
   "source": [
    "from mord import OrdinalRidge,LAD\n",
    "with warnings.catch_warnings():\n",
    "    warnings.simplefilter(\"ignore\")\n",
    "    average_stats_ord(df_copy2,labels,OrdinalRidge,100)\n",
    "    average_stats_ord(df,labels,OrdinalRidge,100)\n",
    "\n",
    "    average_stats_ord(df_copy2_FR,labels_FR,OrdinalRidge,20)\n",
    "    average_stats_ord(df_FR,labels_FR,OrdinalRidge,100)\n",
    "# average_stats_ord(df_copy2,labels,LAD,20)\n",
    "# average_stats_ord(df,labels,LAD,20)"
   ]
  },
  {
   "cell_type": "code",
   "execution_count": 175,
   "metadata": {},
   "outputs": [],
   "source": [
    "Y_train_clean_DE['Rank_group']=pd.qcut(Y_train_clean_DE.Rank,31).cat.codes\n",
    "\n",
    "Y_train_clean_FR['Rank_group']=pd.qcut(Y_train_clean_FR.Rank,10).cat.codes"
   ]
  },
  {
   "cell_type": "code",
   "execution_count": 176,
   "metadata": {},
   "outputs": [
    {
     "data": {
      "text/plain": [
       "583     3\n",
       "267     9\n",
       "333    19\n",
       "92      3\n",
       "173    30\n",
       "       ..\n",
       "324    26\n",
       "221    18\n",
       "132     1\n",
       "165     6\n",
       "355    28\n",
       "Name: Rank_group, Length: 447, dtype: int8"
      ]
     },
     "execution_count": 176,
     "metadata": {},
     "output_type": "execute_result"
    }
   ],
   "source": [
    "Y_train_clean_DE['Rank_group']"
   ]
  },
  {
   "cell_type": "code",
   "execution_count": 181,
   "metadata": {},
   "outputs": [
    {
     "name": "stdout",
     "output_type": "stream",
     "text": [
      "[LightGBM] [Warning] Auto-choosing col-wise multi-threading, the overhead of testing was 0.105297 seconds.\n",
      "You can set `force_col_wise=true` to remove the overhead.\n",
      "[LightGBM] [Info] Total Bins 2089\n",
      "[LightGBM] [Info] Number of data points in the train set: 447, number of used features: 14\n",
      "[LightGBM] [Warning] No further splits with positive gain, best gain: -inf\n",
      "[LightGBM] [Warning] No further splits with positive gain, best gain: -inf\n",
      "[LightGBM] [Warning] No further splits with positive gain, best gain: -inf\n",
      "[LightGBM] [Warning] No further splits with positive gain, best gain: -inf\n",
      "[LightGBM] [Warning] No further splits with positive gain, best gain: -inf\n",
      "[LightGBM] [Warning] No further splits with positive gain, best gain: -inf\n",
      "[LightGBM] [Warning] No further splits with positive gain, best gain: -inf\n",
      "[LightGBM] [Warning] No further splits with positive gain, best gain: -inf\n",
      "[LightGBM] [Warning] No further splits with positive gain, best gain: -inf\n",
      "[LightGBM] [Warning] No further splits with positive gain, best gain: -inf\n",
      "[LightGBM] [Warning] No further splits with positive gain, best gain: -inf\n",
      "[LightGBM] [Warning] No further splits with positive gain, best gain: -inf\n",
      "[LightGBM] [Warning] No further splits with positive gain, best gain: -inf\n",
      "[LightGBM] [Warning] No further splits with positive gain, best gain: -inf\n",
      "[LightGBM] [Warning] No further splits with positive gain, best gain: -inf\n",
      "[LightGBM] [Warning] No further splits with positive gain, best gain: -inf\n",
      "[LightGBM] [Warning] No further splits with positive gain, best gain: -inf\n",
      "[LightGBM] [Warning] No further splits with positive gain, best gain: -inf\n",
      "[LightGBM] [Warning] No further splits with positive gain, best gain: -inf\n",
      "[LightGBM] [Warning] No further splits with positive gain, best gain: -inf\n",
      "[LightGBM] [Warning] No further splits with positive gain, best gain: -inf\n",
      "[LightGBM] [Warning] No further splits with positive gain, best gain: -inf\n",
      "[LightGBM] [Warning] No further splits with positive gain, best gain: -inf\n",
      "[LightGBM] [Warning] No further splits with positive gain, best gain: -inf\n",
      "[LightGBM] [Warning] No further splits with positive gain, best gain: -inf\n",
      "[LightGBM] [Warning] No further splits with positive gain, best gain: -inf\n",
      "[LightGBM] [Warning] No further splits with positive gain, best gain: -inf\n",
      "[LightGBM] [Warning] No further splits with positive gain, best gain: -inf\n",
      "[LightGBM] [Warning] No further splits with positive gain, best gain: -inf\n",
      "[LightGBM] [Warning] No further splits with positive gain, best gain: -inf\n",
      "[LightGBM] [Warning] No further splits with positive gain, best gain: -inf\n",
      "[LightGBM] [Warning] No further splits with positive gain, best gain: -inf\n",
      "[LightGBM] [Warning] No further splits with positive gain, best gain: -inf\n",
      "[LightGBM] [Warning] No further splits with positive gain, best gain: -inf\n",
      "[LightGBM] [Warning] No further splits with positive gain, best gain: -inf\n",
      "[LightGBM] [Warning] No further splits with positive gain, best gain: -inf\n",
      "[LightGBM] [Warning] No further splits with positive gain, best gain: -inf\n",
      "[LightGBM] [Warning] No further splits with positive gain, best gain: -inf\n",
      "[LightGBM] [Warning] No further splits with positive gain, best gain: -inf\n",
      "[LightGBM] [Warning] No further splits with positive gain, best gain: -inf\n",
      "[LightGBM] [Warning] No further splits with positive gain, best gain: -inf\n",
      "[LightGBM] [Warning] No further splits with positive gain, best gain: -inf\n",
      "[LightGBM] [Warning] No further splits with positive gain, best gain: -inf\n",
      "[LightGBM] [Warning] No further splits with positive gain, best gain: -inf\n",
      "[LightGBM] [Warning] No further splits with positive gain, best gain: -inf\n",
      "[LightGBM] [Warning] No further splits with positive gain, best gain: -inf\n",
      "[LightGBM] [Warning] No further splits with positive gain, best gain: -inf\n",
      "[LightGBM] [Warning] No further splits with positive gain, best gain: -inf\n",
      "[LightGBM] [Warning] No further splits with positive gain, best gain: -inf\n",
      "[LightGBM] [Warning] No further splits with positive gain, best gain: -inf\n",
      "[LightGBM] [Warning] No further splits with positive gain, best gain: -inf\n",
      "[LightGBM] [Warning] No further splits with positive gain, best gain: -inf\n",
      "[LightGBM] [Warning] No further splits with positive gain, best gain: -inf\n",
      "[LightGBM] [Warning] No further splits with positive gain, best gain: -inf\n",
      "[LightGBM] [Warning] No further splits with positive gain, best gain: -inf\n",
      "[LightGBM] [Warning] No further splits with positive gain, best gain: -inf\n",
      "[LightGBM] [Warning] No further splits with positive gain, best gain: -inf\n",
      "[LightGBM] [Warning] No further splits with positive gain, best gain: -inf\n",
      "[LightGBM] [Warning] No further splits with positive gain, best gain: -inf\n",
      "[LightGBM] [Warning] No further splits with positive gain, best gain: -inf\n",
      "[LightGBM] [Warning] No further splits with positive gain, best gain: -inf\n",
      "[LightGBM] [Warning] No further splits with positive gain, best gain: -inf\n",
      "[LightGBM] [Warning] No further splits with positive gain, best gain: -inf\n",
      "[LightGBM] [Warning] No further splits with positive gain, best gain: -inf\n",
      "[LightGBM] [Warning] No further splits with positive gain, best gain: -inf\n",
      "[LightGBM] [Warning] No further splits with positive gain, best gain: -inf\n",
      "[LightGBM] [Warning] No further splits with positive gain, best gain: -inf\n",
      "[LightGBM] [Warning] No further splits with positive gain, best gain: -inf\n",
      "[LightGBM] [Warning] No further splits with positive gain, best gain: -inf\n",
      "[LightGBM] [Warning] No further splits with positive gain, best gain: -inf\n",
      "[LightGBM] [Warning] No further splits with positive gain, best gain: -inf\n",
      "[LightGBM] [Warning] No further splits with positive gain, best gain: -inf\n",
      "[LightGBM] [Warning] No further splits with positive gain, best gain: -inf\n",
      "[LightGBM] [Warning] No further splits with positive gain, best gain: -inf\n",
      "[LightGBM] [Warning] No further splits with positive gain, best gain: -inf\n",
      "[LightGBM] [Warning] No further splits with positive gain, best gain: -inf\n",
      "[LightGBM] [Warning] No further splits with positive gain, best gain: -inf\n",
      "[LightGBM] [Warning] No further splits with positive gain, best gain: -inf\n",
      "[LightGBM] [Warning] No further splits with positive gain, best gain: -inf\n",
      "[LightGBM] [Warning] No further splits with positive gain, best gain: -inf\n",
      "[LightGBM] [Warning] No further splits with positive gain, best gain: -inf\n",
      "[LightGBM] [Warning] No further splits with positive gain, best gain: -inf\n",
      "[LightGBM] [Warning] No further splits with positive gain, best gain: -inf\n",
      "[LightGBM] [Warning] No further splits with positive gain, best gain: -inf\n",
      "[LightGBM] [Warning] No further splits with positive gain, best gain: -inf\n",
      "[LightGBM] [Warning] No further splits with positive gain, best gain: -inf\n",
      "[LightGBM] [Warning] No further splits with positive gain, best gain: -inf\n",
      "[LightGBM] [Warning] No further splits with positive gain, best gain: -inf\n",
      "[LightGBM] [Warning] No further splits with positive gain, best gain: -inf\n",
      "[LightGBM] [Warning] No further splits with positive gain, best gain: -inf\n",
      "[LightGBM] [Warning] No further splits with positive gain, best gain: -inf\n",
      "[LightGBM] [Warning] No further splits with positive gain, best gain: -inf\n",
      "[LightGBM] [Warning] No further splits with positive gain, best gain: -inf\n",
      "[LightGBM] [Warning] No further splits with positive gain, best gain: -inf\n",
      "[LightGBM] [Warning] No further splits with positive gain, best gain: -inf\n",
      "[LightGBM] [Warning] No further splits with positive gain, best gain: -inf\n",
      "[LightGBM] [Warning] No further splits with positive gain, best gain: -inf\n",
      "[LightGBM] [Warning] No further splits with positive gain, best gain: -inf\n",
      "[LightGBM] [Warning] No further splits with positive gain, best gain: -inf\n",
      "[LightGBM] [Warning] No further splits with positive gain, best gain: -inf\n",
      "Spearman correlation for the validation set 6.926174496644295\n",
      "Spearman correlation for the train set 11.465524451495211\n"
     ]
    }
   ],
   "source": [
    "import lightgbm as lgb\n",
    "params = {\n",
    "    'objective': 'lambdarank',\n",
    "    'metric': 'ndcg',\n",
    "    'boosting_type': 'gbdt',\n",
    "    'learning_rate': 0.005,\n",
    "    'num_leaves': 30,\n",
    "    'n_estimators': 100\n",
    "}\n",
    "\n",
    "DF_DE = lgb.LGBMRanker(**params)\n",
    "DF_DE.fit(X_train_clean_DE, Y_train_clean_DE['Rank_group'],group=[len(X_train_clean_DE)])\n",
    "output_train = DF_DE.predict(X_test_DE)\n",
    "# print(output_train)\n",
    "print('Spearman correlation for the validation set', ( metric_train(output_train,y_test_DE)))\n",
    "print('Spearman correlation for the train set', ( metric_train(DF_DE.predict(X_train_clean_DE),Y_train_clean_DE)))"
   ]
  },
  {
   "cell_type": "code",
   "execution_count": 142,
   "metadata": {},
   "outputs": [
    {
     "data": {
      "text/plain": [
       "583     143\n",
       "267     386\n",
       "333    1019\n",
       "92      162\n",
       "173    1463\n",
       "       ... \n",
       "324    1329\n",
       "221    1007\n",
       "132      71\n",
       "165     255\n",
       "355    1393\n",
       "Name: Rank, Length: 447, dtype: int64"
      ]
     },
     "execution_count": 142,
     "metadata": {},
     "output_type": "execute_result"
    }
   ],
   "source": [
    "Y_train_clean_DE['Rank'].astype(int)"
   ]
  },
  {
   "cell_type": "code",
   "execution_count": 148,
   "metadata": {},
   "outputs": [
    {
     "name": "stdout",
     "output_type": "stream",
     "text": [
      "Spearman correlation for the validation set 4.981097333797748\n",
      "Spearman correlation for the train set 86.03621734681876\n"
     ]
    }
   ],
   "source": [
    "from sklearn.ensemble import RandomForestClassifier\n",
    "DF_DE = RandomForestClassifier(max_depth=10)\n",
    "# Fit the ridge regressor\n",
    "DF_DE.fit(X_train_clean_DE, Y_train_clean_DE['Rank'].astype(int))\n",
    "output_train = DF_DE.predict(X_test_DE)\n",
    "# print(output_train)\n",
    "print('Spearman correlation for the validation set', ( metric_train(output_train,y_test_DE)))\n",
    "print('Spearman correlation for the train set', ( metric_train(DF_DE.predict(X_train_clean_DE),Y_train_clean_DE)))"
   ]
  },
  {
   "cell_type": "code",
   "execution_count": 136,
   "metadata": {},
   "outputs": [
    {
     "name": "stdout",
     "output_type": "stream",
     "text": [
      "Spearman correlation for the validation set 37.782435468402504\n",
      "Spearman correlation for the train set 51.70538304981839\n"
     ]
    }
   ],
   "source": [
    "from sklearn.ensemble import RandomForestRegressor\n",
    "DF_DE = RandomForestRegressor(max_depth=2)\n",
    "# Fit the ridge regressor\n",
    "DF_DE.fit(X_train_clean_DE, Y_train_clean_DE['Rank_group'])\n",
    "output_train = DF_DE.predict(X_test_DE)\n",
    "# print(output_train)\n",
    "print('Spearman correlation for the validation set', ( metric_train(output_train,y_test_DE)))\n",
    "print('Spearman correlation for the train set', ( metric_train(DF_DE.predict(X_train_clean_DE),Y_train_clean_DE)))"
   ]
  },
  {
   "cell_type": "code",
   "execution_count": 28,
   "metadata": {},
   "outputs": [
    {
     "name": "stdout",
     "output_type": "stream",
     "text": [
      "Spearman correlation for the Validation set [18.11907364009942, 24.937080479858324]\n",
      "Spearman correlation for the train set [59.8641556609763, 66.96166829593699]\n"
     ]
    }
   ],
   "source": [
    "from xgboost import XGBRegressor\n",
    "from lightgbm import LGBMRegressor\n",
    "XGB_DE = XGBRegressor(max_depth=1)\n",
    "# Fit the ridge regressor\n",
    "XGB_DE.fit(X_train_clean_DE, Y_train_clean_DE)\n",
    "output_train = XGB_DE.predict(X_test_DE)\n",
    "# print(output_train)\n",
    "print('Spearman correlation for the Validation set', ( metric_train(output_train,y_test_DE)))\n",
    "print('Spearman correlation for the train set', ( metric_train(XGB_DE.predict(X_train_clean_DE),Y_train_clean_DE)))"
   ]
  },
  {
   "cell_type": "code",
   "execution_count": 165,
   "metadata": {},
   "outputs": [
    {
     "name": "stdout",
     "output_type": "stream",
     "text": [
      "Spearman correlation for the Validation set 14.493500998036932\n",
      "Spearman correlation for the train set 64.96589995260416\n"
     ]
    }
   ],
   "source": [
    "from sklearn.ensemble import RandomForestClassifier\n",
    "DF_FR = RandomForestClassifier(max_depth=6)\n",
    "# Fit the ridge regressor\n",
    "DF_FR.fit(X_train_clean_FR, Y_train_clean_FR['Rank'].astype(int))\n",
    "output_train = DF_FR.predict(X_test_FR)\n",
    "# print(output_train)\n",
    "print('Spearman correlation for the Validation set', ( metric_train(output_train,y_test_FR)))\n",
    "print('Spearman correlation for the train set', ( metric_train(DF_FR.predict(X_train_clean_FR),Y_train_clean_FR)))"
   ]
  },
  {
   "cell_type": "code",
   "execution_count": 66,
   "metadata": {},
   "outputs": [
    {
     "name": "stdout",
     "output_type": "stream",
     "text": [
      "Spearman correlation for the Validation set 20.38084413708077\n",
      "Spearman correlation for the train set 82.4383230479599\n"
     ]
    }
   ],
   "source": [
    "from sklearn.ensemble import RandomForestRegressor\n",
    "DF_FR = RandomForestRegressor(max_depth=6)\n",
    "# Fit the ridge regressor\n",
    "DF_FR.fit(X_train_clean_FR, Y_train_clean_FR['Rank_group'])\n",
    "output_train = DF_FR.predict(X_test_FR)\n",
    "# print(output_train)\n",
    "print('Spearman correlation for the Validation set', ( metric_train(output_train,y_test_FR)))\n",
    "print('Spearman correlation for the train set', ( metric_train(DF_FR.predict(X_train_clean_FR),Y_train_clean_FR)))"
   ]
  },
  {
   "cell_type": "code",
   "execution_count": 41,
   "metadata": {},
   "outputs": [
    {
     "name": "stdout",
     "output_type": "stream",
     "text": [
      "Spearman correlation for the Validation set [13.437535531717446, 17.771587690073098]\n",
      "Spearman correlation for the train set [41.232491128221305, 55.59977310447102]\n"
     ]
    }
   ],
   "source": [
    "from xgboost import XGBRegressor\n",
    "from lightgbm import LGBMRegressor\n",
    "XGB_FR = XGBRegressor(max_depth=1)\n",
    "# Fit the ridge regressor\n",
    "XGB_FR.fit(X_train_clean_FR, Y_train_clean_FR)\n",
    "output_train = XGB_FR.predict(X_test_FR)\n",
    "# print(output_train)\n",
    "print('Spearman correlation for the Validation set', ( metric_train(output_train,y_test_FR)))\n",
    "print('Spearman correlation for the train set', ( metric_train(XGB_FR.predict(X_train_clean_FR),Y_train_clean_FR)))"
   ]
  },
  {
   "cell_type": "code",
   "execution_count": 202,
   "metadata": {},
   "outputs": [
    {
     "name": "stdout",
     "output_type": "stream",
     "text": [
      "[LightGBM] [Warning] Auto-choosing col-wise multi-threading, the overhead of testing was 0.000554 seconds.\n",
      "You can set `force_col_wise=true` to remove the overhead.\n",
      "[LightGBM] [Info] Total Bins 2018\n",
      "[LightGBM] [Info] Number of data points in the train set: 550, number of used features: 11\n",
      "[LightGBM] [Info] Start training from score 728.219091\n",
      "693.1255833929005\n",
      "Spearman correlation for the Validation set 21.685499480320768\n",
      "Spearman correlation for the train set 38.60464097289937\n"
     ]
    }
   ],
   "source": [
    "from xgboost import XGBRegressor\n",
    "from lightgbm import LGBMRegressor\n",
    "LGB_FR = LGBMRegressor(max_depth=1)\n",
    "# Fit the ridge regressor\n",
    "LGB_FR.fit(X_train_clean_FR, Y_train_clean_FR[\"Rank\"])\n",
    "output_train = LGB_FR.predict(X_test_FR)\n",
    "print(output_train[0])\n",
    "print('Spearman correlation for the Validation set', ( metric_train(output_train,y_test_FR)))\n",
    "print('Spearman correlation for the train set', ( metric_train(LGB_FR.predict(X_train_clean_FR),Y_train_clean_FR)))"
   ]
  },
  {
   "cell_type": "code",
   "execution_count": 220,
   "metadata": {},
   "outputs": [
    {
     "data": {
      "text/plain": [
       "Index([], dtype='object')"
      ]
     },
     "execution_count": 220,
     "metadata": {},
     "output_type": "execute_result"
    }
   ],
   "source": [
    "X_test=pd.read_csv(\"X_test_final.csv\")\n",
    "data=X_test.drop('COUNTRY',axis=1)\n",
    "# Fill missing values with the mean (you can choose other imputation strategies as well)\n",
    "X_test.fillna(data.mean(), inplace=True)\n",
    "inf_mask = X_test.isna()\n",
    "X_test.loc[inf_mask.any(axis=1), inf_mask.any(axis=0)].columns"
   ]
  },
  {
   "cell_type": "code",
   "execution_count": 84,
   "metadata": {},
   "outputs": [
    {
     "name": "stderr",
     "output_type": "stream",
     "text": [
      "/tmp/ipykernel_1522238/2923754365.py:6: UserWarning: This pattern is interpreted as a regular expression, and has match groups. To actually get the groups, use str.extract.\n",
      "  X_test_DE = X_test[X_test['COUNTRY'].str.startswith('DE')].loc[:, X_test.columns.str.contains('^(ID|DE|GAS|COAL|CARBON)')]\n",
      "/tmp/ipykernel_1522238/2923754365.py:10: UserWarning: This pattern is interpreted as a regular expression, and has match groups. To actually get the groups, use str.extract.\n",
      "  X_test_FR = X_test[X_test['COUNTRY'].str.startswith('FR')].loc[:, X_test.columns.str.contains('^(ID|FR|GAS|COAL|CARBON)')]\n"
     ]
    }
   ],
   "source": [
    "\n",
    "X_test=X_test.drop([\"FR_NET_IMPORT\",\"DE_NET_IMPORT\",\"FR_DE_EXCHANGE\",\"FR_NET_EXPORT\",\"DE_WIND\",\"FR_WIND\",\"DE_RAIN\",\"FR_RAIN\",\"DE_TEMP\",\"FR_TEMP\"],axis=1)\n",
    "X_test.head()\n",
    "\n",
    "# Create sub-dataset 'trainX_DE' with rows where ID is 'DE' and keep columns starting with 'ID'\n",
    "X_test_DE = X_test[X_test['COUNTRY'].str.startswith('DE')].loc[:, X_test.columns.str.contains('^(ID|DE|GAS|COAL|CARBON)')]\n",
    "\n",
    "\n",
    "# Create sub-dataset 'trainX_FR' with rows where ID is 'FR' and keep columns starting with 'ID'\n",
    "X_test_FR = X_test[X_test['COUNTRY'].str.startswith('FR')].loc[:, X_test.columns.str.contains('^(ID|FR|GAS|COAL|CARBON)')]"
   ]
  },
  {
   "cell_type": "code",
   "execution_count": 85,
   "metadata": {},
   "outputs": [
    {
     "name": "stdout",
     "output_type": "stream",
     "text": [
      "ID                  0\n",
      "FR_CONSUMPTION      0\n",
      "FR_GAS              0\n",
      "FR_COAL             0\n",
      "FR_HYDRO            0\n",
      "FR_NUCLEAR          0\n",
      "FR_SOLAR            0\n",
      "FR_WINDPOW          0\n",
      "FR_RESIDUAL_LOAD    0\n",
      "GAS_RET             0\n",
      "COAL_RET            0\n",
      "CARBON_RET          0\n",
      "dtype: int64\n",
      "ID                  0\n",
      "DE_CONSUMPTION      0\n",
      "DE_FR_EXCHANGE      0\n",
      "DE_NET_EXPORT       0\n",
      "DE_GAS              0\n",
      "DE_COAL             0\n",
      "DE_HYDRO            0\n",
      "DE_NUCLEAR          0\n",
      "DE_SOLAR            0\n",
      "DE_WINDPOW          0\n",
      "DE_LIGNITE          0\n",
      "DE_RESIDUAL_LOAD    0\n",
      "GAS_RET             0\n",
      "COAL_RET            0\n",
      "CARBON_RET          0\n",
      "dtype: int64\n"
     ]
    }
   ],
   "source": [
    "print(X_test_FR.isnull().sum())\n",
    "print(X_test_DE.isnull().sum())\n"
   ]
  },
  {
   "cell_type": "code",
   "execution_count": 110,
   "metadata": {},
   "outputs": [
    {
     "data": {
      "text/plain": [
       "array([[-1.87386115e-01,  5.38745000e+02],\n",
       "       [ 6.88223855e-01,  7.69880000e+02],\n",
       "       [-8.14621016e-01,  3.20205000e+02],\n",
       "       [ 5.23744779e-01,  9.58680000e+02],\n",
       "       [ 7.17551427e-02,  7.72320000e+02],\n",
       "       [ 4.04714404e-02,  7.29975000e+02],\n",
       "       [ 3.04658517e-01,  8.07270000e+02],\n",
       "       [ 3.76156778e-01,  7.51595000e+02],\n",
       "       [ 4.54008943e-02,  5.93965000e+02],\n",
       "       [-8.41711968e-01,  2.40195000e+02],\n",
       "       [ 3.40854929e-01,  8.13930000e+02],\n",
       "       [ 4.09560705e-01,  8.85690000e+02],\n",
       "       [ 9.25010231e-01,  1.08611000e+03],\n",
       "       [ 4.24942478e-01,  9.15030000e+02],\n",
       "       [ 4.35795427e-02,  7.22660000e+02],\n",
       "       [ 6.86836110e-02,  6.85680000e+02],\n",
       "       [ 1.28556128e-01,  7.28510000e+02],\n",
       "       [ 6.03782929e-01,  1.00260000e+03],\n",
       "       [ 2.55187580e-01,  8.31810000e+02],\n",
       "       [ 1.71038854e-01,  7.92750000e+02],\n",
       "       [ 2.16358019e-01,  7.70050000e+02],\n",
       "       [ 2.33589427e-01,  7.27685000e+02],\n",
       "       [-1.03219461e+00,  2.03595000e+02],\n",
       "       [ 5.63729558e-01,  1.00268000e+03],\n",
       "       [ 2.39411833e-01,  7.56505000e+02],\n",
       "       [ 1.01638505e-01,  7.40120000e+02],\n",
       "       [ 1.80816614e-01,  8.35340000e+02],\n",
       "       [-5.37342393e-03,  6.74835000e+02],\n",
       "       [ 8.46607784e-01,  8.68350000e+02],\n",
       "       [ 2.75932781e-01,  7.61610000e+02],\n",
       "       [ 3.12065447e-01,  8.24830000e+02],\n",
       "       [ 4.46797950e-01,  9.14180000e+02],\n",
       "       [ 1.03235384e-01,  6.15100000e+02],\n",
       "       [ 1.90308151e-01,  6.92015000e+02],\n",
       "       [-4.17634940e-01,  4.10720000e+02],\n",
       "       [ 5.19381123e-01,  8.32520000e+02],\n",
       "       [-3.24497371e-01,  5.74240000e+02],\n",
       "       [ 3.58387275e-01,  8.97815000e+02],\n",
       "       [ 6.23356689e-01,  9.26340000e+02],\n",
       "       [ 7.22019910e-01,  1.13445000e+03],\n",
       "       [ 1.97409056e-01,  7.11770000e+02],\n",
       "       [ 2.81439707e-01,  9.27720000e+02],\n",
       "       [ 4.46337817e-01,  9.18790000e+02],\n",
       "       [ 8.91064335e-01,  1.18035000e+03],\n",
       "       [-2.84884972e-02,  6.35115000e+02],\n",
       "       [ 4.80712136e-01,  9.50700000e+02],\n",
       "       [ 5.01991344e-01,  9.99940000e+02],\n",
       "       [ 5.81789064e-01,  1.14553000e+03],\n",
       "       [ 2.39775883e-01,  8.28220000e+02],\n",
       "       [-1.42619891e-01,  5.21610000e+02],\n",
       "       [ 5.78373815e-01,  1.14002000e+03],\n",
       "       [ 8.46423709e-01,  1.01295000e+03],\n",
       "       [ 5.89183580e-01,  8.91405000e+02],\n",
       "       [ 2.02663139e-01,  9.44125000e+02],\n",
       "       [ 6.80782037e-02,  7.84400000e+02],\n",
       "       [ 1.29283915e-01,  7.12610000e+02],\n",
       "       [ 4.42666511e-01,  1.00740000e+03],\n",
       "       [ 7.11748259e-02,  6.94970000e+02],\n",
       "       [ 1.10248236e-01,  5.73800000e+02],\n",
       "       [ 6.88820008e-01,  9.00430000e+02],\n",
       "       [ 3.38658628e-01,  7.93450000e+02],\n",
       "       [ 4.94682082e-02,  6.10160000e+02],\n",
       "       [ 2.76369843e-01,  7.38680000e+02],\n",
       "       [ 1.38152165e-01,  8.87685000e+02],\n",
       "       [-3.49754467e-01,  4.53410000e+02],\n",
       "       [ 3.50207801e-01,  8.88575000e+02],\n",
       "       [ 1.53668611e-01,  6.96800000e+02],\n",
       "       [ 5.13663605e-01,  8.67830000e+02],\n",
       "       [ 1.43559452e-01,  9.16410000e+02],\n",
       "       [ 3.60266484e-01,  9.71620000e+02],\n",
       "       [ 4.85050031e-01,  9.07730000e+02],\n",
       "       [ 6.25687940e-01,  9.26980000e+02],\n",
       "       [ 6.30835992e-02,  6.72035000e+02],\n",
       "       [ 4.60162189e-02,  7.53240000e+02],\n",
       "       [ 4.32980903e-01,  1.04139000e+03],\n",
       "       [-7.07029865e-01,  3.16970000e+02],\n",
       "       [ 1.61210317e-01,  6.59560000e+02],\n",
       "       [ 4.25167096e-02,  7.39115000e+02],\n",
       "       [ 1.97555761e-01,  8.97840000e+02],\n",
       "       [ 5.37549042e-01,  8.74900000e+02],\n",
       "       [-6.81540945e-01,  2.91670000e+02],\n",
       "       [ 8.06260839e-01,  1.18514000e+03],\n",
       "       [ 4.13645407e-01,  8.67925000e+02],\n",
       "       [ 1.23619365e-01,  8.25800000e+02],\n",
       "       [ 1.53818910e-01,  7.95650000e+02],\n",
       "       [ 4.40594509e-01,  9.91230000e+02],\n",
       "       [ 6.74567964e-01,  1.13348000e+03],\n",
       "       [ 1.66064868e-02,  6.35620000e+02],\n",
       "       [ 3.56368752e-01,  8.78610000e+02],\n",
       "       [ 3.74502297e-01,  9.78940000e+02],\n",
       "       [ 3.00303973e-01,  9.56405000e+02],\n",
       "       [ 4.30537219e-01,  9.52520000e+02],\n",
       "       [ 3.66582623e-01,  7.88820000e+02],\n",
       "       [-6.14480528e-01,  3.22960000e+02],\n",
       "       [ 7.87144236e-01,  1.03827000e+03],\n",
       "       [ 5.97892777e-01,  1.07832000e+03],\n",
       "       [ 3.36723648e-01,  9.07420000e+02],\n",
       "       [ 1.88419358e-01,  7.61620000e+02],\n",
       "       [ 2.76584076e-01,  9.17970000e+02],\n",
       "       [ 2.16491712e-01,  8.55350000e+02],\n",
       "       [-4.07710333e-02,  6.36060000e+02],\n",
       "       [-3.92458139e-01,  4.67130000e+02],\n",
       "       [-8.20228822e-01,  3.42265000e+02],\n",
       "       [-3.21750198e-01,  4.42060000e+02],\n",
       "       [ 1.86768634e-01,  7.97710000e+02],\n",
       "       [ 1.16053271e-01,  7.65590000e+02],\n",
       "       [ 1.92141192e-01,  6.99570000e+02],\n",
       "       [-6.29718484e-01,  3.25270000e+02],\n",
       "       [ 7.08600233e-01,  9.89705000e+02],\n",
       "       [ 4.61558984e-01,  1.02954000e+03],\n",
       "       [-4.18271297e-01,  4.60750000e+02],\n",
       "       [ 6.95166306e-02,  8.15930000e+02],\n",
       "       [ 2.37818320e-01,  7.09720000e+02],\n",
       "       [ 7.43304381e-01,  1.18371000e+03],\n",
       "       [-5.31110365e-02,  5.97730000e+02],\n",
       "       [ 6.45945997e-01,  9.76910000e+02],\n",
       "       [-1.52794364e-01,  5.67720000e+02],\n",
       "       [ 2.76482336e-01,  7.95340000e+02],\n",
       "       [ 7.38509810e-02,  7.36090000e+02],\n",
       "       [-1.22526767e-01,  5.83840000e+02],\n",
       "       [ 6.76376510e-01,  9.45190000e+02],\n",
       "       [ 4.43186257e-01,  9.84840000e+02],\n",
       "       [-2.50824797e-01,  4.33760000e+02],\n",
       "       [ 8.81803255e-02,  6.76745000e+02],\n",
       "       [-4.42925097e-01,  4.94070000e+02],\n",
       "       [ 1.31080849e-01,  6.82400000e+02],\n",
       "       [ 1.04084640e+00,  1.00530000e+03],\n",
       "       [ 5.43209323e-01,  8.15910000e+02],\n",
       "       [ 5.80795790e-01,  9.39410000e+02],\n",
       "       [ 1.87948543e-01,  7.31205000e+02],\n",
       "       [-4.30914000e-01,  4.32270000e+02],\n",
       "       [ 7.83788750e-02,  6.98505000e+02],\n",
       "       [ 3.05720846e-01,  9.43790000e+02],\n",
       "       [-3.20467699e-01,  4.11720000e+02],\n",
       "       [ 1.05336882e-01,  6.95120000e+02],\n",
       "       [-3.50021597e-01,  4.27490000e+02],\n",
       "       [ 2.51840371e-01,  7.89690000e+02],\n",
       "       [ 1.35503847e-01,  7.04580000e+02],\n",
       "       [ 2.89980923e-01,  8.32230000e+02],\n",
       "       [-1.78647923e-01,  4.99320000e+02],\n",
       "       [ 6.15500592e-01,  1.08018000e+03],\n",
       "       [ 9.10082429e-03,  7.35810000e+02],\n",
       "       [ 2.41838534e-01,  7.92930000e+02],\n",
       "       [ 5.14921520e-01,  9.20640000e+02],\n",
       "       [ 2.68429203e-02,  6.19560000e+02],\n",
       "       [ 5.63434081e-01,  9.78720000e+02],\n",
       "       [ 1.06395408e-01,  8.23500000e+02],\n",
       "       [-4.34727470e-01,  4.11190000e+02],\n",
       "       [ 1.54625880e-01,  7.38760000e+02],\n",
       "       [ 5.50307170e-01,  8.20220000e+02],\n",
       "       [-4.37413016e-01,  3.09560000e+02],\n",
       "       [ 6.20898142e-01,  1.12531000e+03],\n",
       "       [ 5.30494991e-01,  1.04824000e+03],\n",
       "       [-2.49812614e-01,  4.79190000e+02],\n",
       "       [ 4.22684455e-01,  9.40240000e+02],\n",
       "       [-2.87382689e-03,  6.34925000e+02],\n",
       "       [ 4.87164468e-01,  7.36800000e+02],\n",
       "       [-3.33961385e-01,  5.13940000e+02],\n",
       "       [ 6.59365550e-02,  6.82700000e+02],\n",
       "       [ 1.45974129e-01,  6.99515000e+02],\n",
       "       [-3.89755134e-01,  3.30440000e+02],\n",
       "       [ 2.20615009e-01,  7.08400000e+02],\n",
       "       [ 2.73628901e-02,  7.56760000e+02],\n",
       "       [ 2.63657532e-01,  7.79360000e+02],\n",
       "       [ 2.03137848e-01,  8.93310000e+02],\n",
       "       [ 1.65675147e-01,  8.35860000e+02],\n",
       "       [ 6.85306149e-01,  9.53490000e+02],\n",
       "       [ 6.09162697e-02,  6.44410000e+02],\n",
       "       [ 2.61156482e-01,  8.32840000e+02],\n",
       "       [ 1.30099346e-01,  8.48140000e+02],\n",
       "       [ 2.84329331e-01,  7.23430000e+02],\n",
       "       [ 4.38524742e-01,  8.84310000e+02],\n",
       "       [ 3.02573187e-01,  9.38165000e+02],\n",
       "       [ 5.02851839e-01,  1.01364000e+03],\n",
       "       [-6.39774803e-01,  3.27310000e+02],\n",
       "       [ 2.27058069e-01,  8.40650000e+02],\n",
       "       [ 5.21883268e-01,  9.03500000e+02],\n",
       "       [ 1.46621780e-01,  5.95280000e+02],\n",
       "       [ 2.66444929e-01,  8.56620000e+02],\n",
       "       [ 1.20722740e-01,  7.59330000e+02],\n",
       "       [ 6.74439178e-01,  8.45280000e+02],\n",
       "       [ 2.68421941e-01,  7.55570000e+02],\n",
       "       [ 6.50911710e-01,  9.78740000e+02],\n",
       "       [-3.31293113e-01,  4.89050000e+02],\n",
       "       [ 5.14430263e-01,  9.33340000e+02],\n",
       "       [ 1.73712907e-01,  7.03960000e+02],\n",
       "       [ 7.59793976e-01,  9.69970000e+02],\n",
       "       [ 8.12570712e-02,  7.69170000e+02],\n",
       "       [ 1.04837957e-01,  7.17245000e+02],\n",
       "       [ 6.87472291e-01,  9.78575000e+02],\n",
       "       [-4.81807956e-02,  5.14740000e+02],\n",
       "       [ 8.38676468e-02,  8.49580000e+02],\n",
       "       [ 4.79841975e-01,  9.43990000e+02],\n",
       "       [ 1.55519643e-01,  8.84730000e+02],\n",
       "       [ 1.40721667e-01,  8.62750000e+02],\n",
       "       [-2.66400681e-01,  4.98780000e+02],\n",
       "       [ 4.47674583e-01,  1.00540000e+03],\n",
       "       [ 1.84434175e-01,  7.67290000e+02],\n",
       "       [-1.50758078e-02,  5.87495000e+02],\n",
       "       [-2.11789794e-02,  6.95530000e+02],\n",
       "       [ 6.15740151e-02,  6.24600000e+02],\n",
       "       [ 2.52650823e-01,  8.48810000e+02],\n",
       "       [ 3.60978834e-01,  1.01574000e+03],\n",
       "       [ 2.29027458e-01,  7.78885000e+02],\n",
       "       [ 3.15261253e-02,  5.90190000e+02],\n",
       "       [ 2.29482122e-02,  6.89570000e+02],\n",
       "       [ 4.08560496e-01,  7.64610000e+02],\n",
       "       [ 1.98719237e-01,  8.92660000e+02],\n",
       "       [ 6.24223640e-01,  1.04457000e+03],\n",
       "       [ 1.51871040e-01,  8.10290000e+02],\n",
       "       [ 1.74992970e-01,  8.73080000e+02],\n",
       "       [ 4.57727184e-01,  9.31710000e+02],\n",
       "       [ 5.90123635e-01,  9.90900000e+02],\n",
       "       [ 1.91126681e-01,  7.72030000e+02],\n",
       "       [ 4.08546708e-01,  9.69050000e+02],\n",
       "       [-2.95880275e-02,  6.90310000e+02],\n",
       "       [ 2.18627682e-01,  8.25670000e+02],\n",
       "       [-8.50559280e-02,  5.87440000e+02],\n",
       "       [ 1.89296155e-01,  6.87540000e+02],\n",
       "       [ 4.04836919e-01,  8.83650000e+02],\n",
       "       [ 5.59941632e-01,  9.83340000e+02],\n",
       "       [-6.74017813e-01,  2.96800000e+02],\n",
       "       [ 1.87737457e-01,  8.16200000e+02],\n",
       "       [ 2.63563542e-02,  7.04290000e+02],\n",
       "       [ 6.43700723e-02,  7.40850000e+02],\n",
       "       [ 3.52774475e-01,  1.05904000e+03],\n",
       "       [-1.41367472e-01,  5.31400000e+02],\n",
       "       [ 2.72929087e-01,  9.01495000e+02],\n",
       "       [ 8.02111207e-02,  6.60590000e+02],\n",
       "       [ 4.83602586e-01,  8.73410000e+02],\n",
       "       [ 1.80450620e-01,  8.10290000e+02],\n",
       "       [ 2.45751466e-01,  6.61520000e+02],\n",
       "       [ 4.18458220e-01,  8.04785000e+02],\n",
       "       [ 2.73949491e-02,  6.65735000e+02],\n",
       "       [ 5.53471765e-02,  7.85360000e+02],\n",
       "       [ 4.79870033e-01,  9.93590000e+02],\n",
       "       [ 5.84280142e-01,  8.49120000e+02],\n",
       "       [ 6.76693829e-01,  1.04653000e+03],\n",
       "       [-7.46592633e-01,  2.76000000e+02],\n",
       "       [ 3.76795280e-01,  9.63800000e+02],\n",
       "       [ 2.34509169e-01,  7.71640000e+02],\n",
       "       [ 1.57631030e-01,  7.46090000e+02],\n",
       "       [-1.79065318e-01,  4.95180000e+02],\n",
       "       [ 8.34787185e-01,  9.63955000e+02],\n",
       "       [ 3.33944550e-01,  9.93640000e+02],\n",
       "       [ 1.84355224e-01,  7.28990000e+02],\n",
       "       [ 3.73473782e-01,  8.96870000e+02],\n",
       "       [-2.67350101e-01,  5.45430000e+02],\n",
       "       [ 2.15994921e-01,  7.19730000e+02],\n",
       "       [ 1.80287446e-01,  8.99620000e+02],\n",
       "       [ 2.23055782e-01,  8.13080000e+02],\n",
       "       [ 6.93911800e-01,  1.05266000e+03],\n",
       "       [ 1.66370658e-01,  8.83700000e+02],\n",
       "       [ 1.12809783e-01,  7.90700000e+02],\n",
       "       [ 4.13069787e-01,  1.02776000e+03],\n",
       "       [ 2.35094506e-01,  9.04090000e+02],\n",
       "       [ 4.53274331e-01,  8.78975000e+02],\n",
       "       [ 5.01024554e-01,  9.13325000e+02],\n",
       "       [ 1.45115012e-01,  8.08110000e+02],\n",
       "       [ 1.67329760e-01,  8.33950000e+02],\n",
       "       [ 8.97796458e-01,  1.15682000e+03],\n",
       "       [-9.44277341e-02,  5.63920000e+02],\n",
       "       [ 3.83175587e-01,  9.07835000e+02],\n",
       "       [ 6.17159316e-01,  8.92520000e+02],\n",
       "       [ 5.18551469e-01,  1.04000000e+03],\n",
       "       [-5.62024527e-02,  6.16930000e+02],\n",
       "       [ 1.85278286e-01,  8.69980000e+02],\n",
       "       [ 7.56385362e-02,  7.62980000e+02],\n",
       "       [-5.30030414e-01,  3.89140000e+02],\n",
       "       [-3.40439128e-01,  4.05135000e+02],\n",
       "       [ 5.27604618e-01,  9.30915000e+02],\n",
       "       [-7.36028608e-01,  3.32785000e+02],\n",
       "       [ 1.06552757e-01,  7.14820000e+02],\n",
       "       [ 1.85756212e-01,  7.88450000e+02],\n",
       "       [ 1.89286370e-01,  7.76070000e+02],\n",
       "       [ 1.96935650e-01,  9.03900000e+02],\n",
       "       [ 2.80692294e-01,  8.61315000e+02],\n",
       "       [-1.34242315e-01,  6.06965000e+02],\n",
       "       [-6.31968746e-01,  3.21850000e+02],\n",
       "       [-6.34897329e-01,  2.95420000e+02],\n",
       "       [ 5.12314246e-01,  1.09818000e+03],\n",
       "       [-7.61120595e-01,  3.71155000e+02],\n",
       "       [ 4.82723745e-01,  1.05661000e+03],\n",
       "       [ 2.65451120e-01,  8.95050000e+02],\n",
       "       [ 5.65120858e-01,  1.03489000e+03],\n",
       "       [ 4.94671949e-01,  9.16870000e+02],\n",
       "       [-1.01339855e+00,  2.22610000e+02],\n",
       "       [ 8.32761091e-02,  6.87200000e+02],\n",
       "       [ 3.95270447e-01,  9.68410000e+02]])"
      ]
     },
     "execution_count": 110,
     "metadata": {},
     "output_type": "execute_result"
    }
   ],
   "source": [
    "X_pred_FR=DF_FR.predict(X_test_FR.drop(\"ID\",axis=1))\n",
    "X_pred_DE=DF_DE.predict(X_test_DE.drop(\"ID\",axis=1))\n"
   ]
  },
  {
   "cell_type": "code",
   "execution_count": 118,
   "metadata": {},
   "outputs": [],
   "source": [
    "RANK_FR = pd.DataFrame({'ID': X_test_FR[\"ID\"], 'TARGET': X_pred_FR[:,1]})\n",
    "TARGET_FR = pd.DataFrame({'ID': X_test_FR[\"ID\"], 'TARGET': X_pred_FR[:,0]})\n",
    "RANK_DE = pd.DataFrame({'ID': X_test_DE[\"ID\"], 'TARGET': X_pred_DE[:,1]})\n",
    "TARGET_DE = pd.DataFrame({'ID': X_test_DE[\"ID\"], 'TARGET': X_pred_DE[:,0]})"
   ]
  },
  {
   "cell_type": "code",
   "execution_count": 119,
   "metadata": {},
   "outputs": [],
   "source": [
    "TARGET_pred=pd.concat([TARGET_DE, TARGET_FR]).sort_index()\n",
    "RANK_pred=pd.concat([RANK_DE, RANK_FR]).sort_index()"
   ]
  },
  {
   "cell_type": "code",
   "execution_count": 120,
   "metadata": {},
   "outputs": [],
   "source": [
    "RANK_pred.to_csv('RANK_pred.csv', index=False)\n",
    "TARGET_pred.to_csv('TARGET_pred.csv', index=False)"
   ]
  },
  {
   "cell_type": "code",
   "execution_count": 121,
   "metadata": {},
   "outputs": [
    {
     "data": {
      "text/html": [
       "<div>\n",
       "<style scoped>\n",
       "    .dataframe tbody tr th:only-of-type {\n",
       "        vertical-align: middle;\n",
       "    }\n",
       "\n",
       "    .dataframe tbody tr th {\n",
       "        vertical-align: top;\n",
       "    }\n",
       "\n",
       "    .dataframe thead th {\n",
       "        text-align: right;\n",
       "    }\n",
       "</style>\n",
       "<table border=\"1\" class=\"dataframe\">\n",
       "  <thead>\n",
       "    <tr style=\"text-align: right;\">\n",
       "      <th></th>\n",
       "      <th>ID</th>\n",
       "      <th>TARGET</th>\n",
       "    </tr>\n",
       "  </thead>\n",
       "  <tbody>\n",
       "    <tr>\n",
       "      <th>0</th>\n",
       "      <td>1115</td>\n",
       "      <td>689.335</td>\n",
       "    </tr>\n",
       "    <tr>\n",
       "      <th>1</th>\n",
       "      <td>1202</td>\n",
       "      <td>707.100</td>\n",
       "    </tr>\n",
       "    <tr>\n",
       "      <th>2</th>\n",
       "      <td>1194</td>\n",
       "      <td>478.540</td>\n",
       "    </tr>\n",
       "    <tr>\n",
       "      <th>3</th>\n",
       "      <td>1084</td>\n",
       "      <td>792.150</td>\n",
       "    </tr>\n",
       "    <tr>\n",
       "      <th>4</th>\n",
       "      <td>1135</td>\n",
       "      <td>717.485</td>\n",
       "    </tr>\n",
       "    <tr>\n",
       "      <th>...</th>\n",
       "      <td>...</td>\n",
       "      <td>...</td>\n",
       "    </tr>\n",
       "    <tr>\n",
       "      <th>649</th>\n",
       "      <td>879</td>\n",
       "      <td>222.610</td>\n",
       "    </tr>\n",
       "    <tr>\n",
       "      <th>650</th>\n",
       "      <td>673</td>\n",
       "      <td>687.200</td>\n",
       "    </tr>\n",
       "    <tr>\n",
       "      <th>651</th>\n",
       "      <td>1641</td>\n",
       "      <td>987.610</td>\n",
       "    </tr>\n",
       "    <tr>\n",
       "      <th>652</th>\n",
       "      <td>712</td>\n",
       "      <td>968.410</td>\n",
       "    </tr>\n",
       "    <tr>\n",
       "      <th>653</th>\n",
       "      <td>1060</td>\n",
       "      <td>870.130</td>\n",
       "    </tr>\n",
       "  </tbody>\n",
       "</table>\n",
       "<p>654 rows × 2 columns</p>\n",
       "</div>"
      ],
      "text/plain": [
       "       ID   TARGET\n",
       "0    1115  689.335\n",
       "1    1202  707.100\n",
       "2    1194  478.540\n",
       "3    1084  792.150\n",
       "4    1135  717.485\n",
       "..    ...      ...\n",
       "649   879  222.610\n",
       "650   673  687.200\n",
       "651  1641  987.610\n",
       "652   712  968.410\n",
       "653  1060  870.130\n",
       "\n",
       "[654 rows x 2 columns]"
      ]
     },
     "execution_count": 121,
     "metadata": {},
     "output_type": "execute_result"
    }
   ],
   "source": [
    "pd.read_csv('RANK_pred.csv')"
   ]
  }
 ],
 "metadata": {
  "kernelspec": {
   "display_name": "nnunet",
   "language": "python",
   "name": "python3"
  },
  "language_info": {
   "codemirror_mode": {
    "name": "ipython",
    "version": 3
   },
   "file_extension": ".py",
   "mimetype": "text/x-python",
   "name": "python",
   "nbconvert_exporter": "python",
   "pygments_lexer": "ipython3",
   "version": "3.10.11"
  },
  "orig_nbformat": 4
 },
 "nbformat": 4,
 "nbformat_minor": 2
}
