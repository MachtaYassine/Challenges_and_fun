{
 "cells": [
  {
   "cell_type": "code",
   "execution_count": 24,
   "metadata": {},
   "outputs": [
    {
     "data": {
      "text/plain": [
       "Index(['DE_CONSUMPTION', 'DE_FR_EXCHANGE', 'DE_NET_EXPORT', 'DE_GAS',\n",
       "       'DE_COAL', 'DE_HYDRO', 'DE_NUCLEAR', 'DE_SOLAR', 'DE_WINDPOW',\n",
       "       'DE_LIGNITE', 'DE_RESIDUAL_LOAD', 'DE_RAIN', 'DE_WIND', 'DE_TEMP',\n",
       "       'GAS_RET', 'COAL_RET', 'CARBON_RET'],\n",
       "      dtype='object')"
      ]
     },
     "execution_count": 24,
     "metadata": {},
     "output_type": "execute_result"
    }
   ],
   "source": [
    "from catboost import CatBoostRegressor, Pool\n",
    "\n",
    "import pandas as pd\n",
    "from sklearn.model_selection import KFold\n",
    "from scipy.stats import spearmanr\n",
    "from sklearn.metrics import mean_squared_error\n",
    "\n",
    "df = pd.read_csv('X_dropped_DE.csv').drop(['ID',\"DAY_ID\"], axis=1)\n",
    "labels=pd.read_csv('Y_dropped_DE.csv').drop('ID', axis=1)\n",
    "\n",
    "\n",
    "df_FR = pd.read_csv('X_dropped_FR.csv').drop(['ID',\"DAY_ID\"], axis=1)\n",
    "labels_FR=pd.read_csv('Y_dropped_FR.csv').drop('ID', axis=1)\n",
    "\n",
    "df.columns"
   ]
  },
  {
   "cell_type": "code",
   "execution_count": 74,
   "metadata": {},
   "outputs": [
    {
     "name": "stdout",
     "output_type": "stream",
     "text": [
      "Spearman correlation for the train set [[100.          94.51046899  41.26156366]\n",
      " [ 94.51046899 100.          42.60874859]\n",
      " [ 41.26156366  42.60874859 100.        ]]\n",
      "                            OLS Regression Results                            \n",
      "==============================================================================\n",
      "Dep. Variable:                 TARGET   R-squared:                       0.109\n",
      "Model:                            OLS   Adj. R-squared:                  0.083\n",
      "Method:                 Least Squares   F-statistic:                     4.155\n",
      "Date:                Sat, 29 Jul 2023   Prob (F-statistic):           5.81e-08\n",
      "Time:                        18:21:19   Log-Likelihood:                -845.69\n",
      "No. Observations:                 596   AIC:                             1727.\n",
      "Df Residuals:                     578   BIC:                             1806.\n",
      "Df Model:                          17                                         \n",
      "Covariance Type:            nonrobust                                         \n",
      "====================================================================================\n",
      "                       coef    std err          t      P>|t|      [0.025      0.975]\n",
      "------------------------------------------------------------------------------------\n",
      "const               -0.0110      0.101     -0.109      0.913      -0.209       0.187\n",
      "DE_CONSUMPTION       0.3610      0.285      1.268      0.205      -0.198       0.920\n",
      "DE_FR_EXCHANGE       0.1852      0.081      2.296      0.022       0.027       0.344\n",
      "DE_NET_EXPORT       -0.0849      0.163     -0.520      0.603      -0.406       0.236\n",
      "DE_GAS              -0.1289      0.097     -1.328      0.185      -0.320       0.062\n",
      "DE_COAL             -0.2932      0.155     -1.896      0.058      -0.597       0.010\n",
      "DE_HYDRO             0.0232      0.048      0.484      0.629      -0.071       0.117\n",
      "DE_NUCLEAR          -0.1628      0.086     -1.903      0.058      -0.331       0.005\n",
      "DE_SOLAR            -0.2413      0.142     -1.696      0.090      -0.521       0.038\n",
      "DE_WINDPOW          -0.5122      0.381     -1.343      0.180      -1.261       0.237\n",
      "DE_LIGNITE          -0.2673      0.121     -2.205      0.028      -0.505      -0.029\n",
      "DE_RESIDUAL_LOAD     0.2112      0.516      0.409      0.683      -0.803       1.226\n",
      "DE_RAIN              0.0068      0.048      0.141      0.888      -0.088       0.102\n",
      "DE_WIND             -0.0220      0.068     -0.324      0.746      -0.155       0.111\n",
      "DE_TEMP              0.0076      0.048      0.160      0.873      -0.086       0.101\n",
      "GAS_RET              0.0132      0.042      0.315      0.753      -0.069       0.096\n",
      "COAL_RET            -0.0055      0.043     -0.127      0.899      -0.090       0.079\n",
      "CARBON_RET          -0.0216      0.043     -0.500      0.617      -0.107       0.063\n",
      "==============================================================================\n",
      "Omnibus:                      386.170   Durbin-Watson:                   1.948\n",
      "Prob(Omnibus):                  0.000   Jarque-Bera (JB):             4586.590\n",
      "Skew:                           2.731   Prob(JB):                         0.00\n",
      "Kurtosis:                      15.444   Cond. No.                         35.2\n",
      "==============================================================================\n",
      "\n",
      "Notes:\n",
      "[1] Standard Errors assume that the covariance matrix of the errors is correctly specified.\n"
     ]
    }
   ],
   "source": [
    "\n",
    "from sklearn.linear_model import LinearRegression\n",
    "import statsmodels.api as sm\n",
    "from scipy import stats\n",
    "\n",
    "lr = LinearRegression()\n",
    "\n",
    "\n",
    "\n",
    "X_train_clean = df\n",
    "Y_train_clean = labels\n",
    "\n",
    "lr.fit(X_train_clean, Y_train_clean)\n",
    "\n",
    "output_train = lr.predict(X_train_clean)\n",
    "\n",
    "# print (output_train[:,1])\n",
    "def metric_train(output):\n",
    "    if not isinstance(output, list):\n",
    "        return  100 *spearmanr(output, Y_train_clean[\"TARGET\"]).correlation\n",
    "    else:\n",
    "        return  [100 *spearmanr(output[:,0], Y_train_clean[\"TARGET\"]).correlation , 100 *spearmanr(output[:,1], Y_train_clean[\"Rank\"]).correlation ]\n",
    "\n",
    "print('Spearman correlation for the train set', ( metric_train(output_train)))\n",
    "\n",
    "\n",
    "X2 = sm.add_constant(X_train_clean)\n",
    "est = sm.OLS(Y_train_clean[\"TARGET\"], X2)\n",
    "est2 = est.fit()\n",
    "print(est2.summary())"
   ]
  },
  {
   "cell_type": "code",
   "execution_count": 28,
   "metadata": {},
   "outputs": [
    {
     "name": "stdout",
     "output_type": "stream",
     "text": [
      "Spearman correlation for the train set [41.381457021810775, 42.52897460790931]\n"
     ]
    }
   ],
   "source": [
    "from sklearn.linear_model import Ridge\n",
    "ridge = Ridge(alpha=0.5)\n",
    "# Fit the ridge regressor\n",
    "ridge.fit(X_train_clean, Y_train_clean)\n",
    "output_train = ridge.predict(X_train_clean)\n",
    "print('Spearman correlation for the train set', ( metric_train(output_train)))"
   ]
  },
  {
   "cell_type": "code",
   "execution_count": 68,
   "metadata": {},
   "outputs": [
    {
     "name": "stdout",
     "output_type": "stream",
     "text": [
      "Spearman correlation for the train set [41.363715615113335, 42.60399865233334]\n",
      "[['DE_CONSUMPTION', 14.395335702921487], ['DE_FR_EXCHANGE', 108.00423196351038], ['DE_NET_EXPORT', -50.4816326117934], ['DE_GAS', -58.13944541592827], ['DE_COAL', -137.27186466884032], ['DE_HYDRO', 41.97159425595621], ['DE_NUCLEAR', -67.45189307531568], ['DE_SOLAR', -36.26044719538377], ['DE_WINDPOW', -39.51064612508928], ['DE_LIGNITE', -120.58908559817978], ['DE_RESIDUAL_LOAD', 371.11297865256114], ['DE_RAIN', 20.30606101194104], ['DE_WIND', 10.456432002280122], ['DE_TEMP', 13.675122317052145], ['GAS_RET', -17.694134152734364], ['COAL_RET', -2.5936878206695813], ['CARBON_RET', -0.9756681528975524]]\n"
     ]
    }
   ],
   "source": [
    "from sklearn.linear_model import Lasso\n",
    "lasso = Lasso(alpha=0.001,max_iter=100000)\n",
    "# Fit the ridge regressor\n",
    "lasso.fit(X_train_clean, Y_train_clean)\n",
    "output_train = lasso.predict(X_train_clean)\n",
    "print('Spearman correlation for the train set', ( metric_train(output_train)))\n",
    "included_features = [[feature,coef] for feature,coef in zip(X_train_clean.columns,lasso.coef_[1]) ]\n",
    "print(included_features)"
   ]
  },
  {
   "cell_type": "code",
   "execution_count": 51,
   "metadata": {},
   "outputs": [
    {
     "data": {
      "text/plain": [
       "DE_CONSUMPTION      0\n",
       "DE_FR_EXCHANGE      0\n",
       "DE_NET_EXPORT       0\n",
       "DE_GAS              0\n",
       "DE_COAL             0\n",
       "DE_HYDRO            0\n",
       "DE_NUCLEAR          0\n",
       "DE_SOLAR            0\n",
       "DE_WINDPOW          0\n",
       "DE_LIGNITE          0\n",
       "DE_RESIDUAL_LOAD    0\n",
       "DE_RAIN             0\n",
       "DE_WIND             0\n",
       "DE_TEMP             0\n",
       "GAS_RET             0\n",
       "COAL_RET            0\n",
       "CARBON_RET          0\n",
       "dtype: int64"
      ]
     },
     "execution_count": 51,
     "metadata": {},
     "output_type": "execute_result"
    }
   ],
   "source": [
    "X_train_clean.isnull().sum()"
   ]
  },
  {
   "cell_type": "code",
   "execution_count": 81,
   "metadata": {},
   "outputs": [
    {
     "name": "stdout",
     "output_type": "stream",
     "text": [
      "Spearman correlation for the train set 100.0\n"
     ]
    }
   ],
   "source": [
    "from sklearn.tree import DecisionTreeRegressor\n",
    "DT = DecisionTreeRegressor()\n",
    "# Fit the ridge regressor\n",
    "DT.fit(X_train_clean, Y_train_clean[\"TARGET\"])\n",
    "output_train = DT.predict(X_train_clean)\n",
    "# print(output_train)\n",
    "print('Spearman correlation for the train set', ( metric_train(output_train)))"
   ]
  },
  {
   "cell_type": "code",
   "execution_count": 80,
   "metadata": {},
   "outputs": [
    {
     "name": "stdout",
     "output_type": "stream",
     "text": [
      "Spearman correlation for the train set 93.94370725341274\n"
     ]
    }
   ],
   "source": [
    "from sklearn.ensemble import RandomForestRegressor\n",
    "DF = RandomForestRegressor()\n",
    "# Fit the ridge regressor\n",
    "DF.fit(X_train_clean, Y_train_clean[\"TARGET\"])\n",
    "output_train = DF.predict(X_train_clean)\n",
    "# print(output_train)\n",
    "print('Spearman correlation for the train set', ( metric_train(output_train)))"
   ]
  }
 ],
 "metadata": {
  "kernelspec": {
   "display_name": "nnunet",
   "language": "python",
   "name": "python3"
  },
  "language_info": {
   "codemirror_mode": {
    "name": "ipython",
    "version": 3
   },
   "file_extension": ".py",
   "mimetype": "text/x-python",
   "name": "python",
   "nbconvert_exporter": "python",
   "pygments_lexer": "ipython3",
   "version": "3.10.11"
  },
  "orig_nbformat": 4
 },
 "nbformat": 4,
 "nbformat_minor": 2
}
