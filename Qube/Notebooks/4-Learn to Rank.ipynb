{
 "cells": [
  {
   "cell_type": "markdown",
   "metadata": {},
   "source": [
    "In the previous Notebooks i've established that using a Linear regression to predict Rank is my best bet.\n",
    "\n",
    "This method is called a pointwise ranking method. and the \"learn to rank\" Theory proposes more ranking methods that i'll try to explore in this norebook. \n",
    "\n",
    "    -Pairwise ranking \n",
    "    -Listwise ranking\n",
    "\n",
    "Let's start with Pairwise ranking there are various methods all from Microsoft researcher Burges\n",
    "RankNet, LambdaRank, LambdaRankMart"
   ]
  },
  {
   "cell_type": "code",
   "execution_count": 1,
   "metadata": {},
   "outputs": [
    {
     "data": {
      "text/html": [
       "<div>\n",
       "<style scoped>\n",
       "    .dataframe tbody tr th:only-of-type {\n",
       "        vertical-align: middle;\n",
       "    }\n",
       "\n",
       "    .dataframe tbody tr th {\n",
       "        vertical-align: top;\n",
       "    }\n",
       "\n",
       "    .dataframe thead th {\n",
       "        text-align: right;\n",
       "    }\n",
       "</style>\n",
       "<table border=\"1\" class=\"dataframe\">\n",
       "  <thead>\n",
       "    <tr style=\"text-align: right;\">\n",
       "      <th></th>\n",
       "      <th>ID</th>\n",
       "      <th>TARGET</th>\n",
       "      <th>Rank</th>\n",
       "    </tr>\n",
       "  </thead>\n",
       "  <tbody>\n",
       "    <tr>\n",
       "      <th>0</th>\n",
       "      <td>1054</td>\n",
       "      <td>0.028313</td>\n",
       "      <td>807.0</td>\n",
       "    </tr>\n",
       "    <tr>\n",
       "      <th>1</th>\n",
       "      <td>2049</td>\n",
       "      <td>-0.112516</td>\n",
       "      <td>532.0</td>\n",
       "    </tr>\n",
       "    <tr>\n",
       "      <th>2</th>\n",
       "      <td>1924</td>\n",
       "      <td>-0.180840</td>\n",
       "      <td>427.0</td>\n",
       "    </tr>\n",
       "    <tr>\n",
       "      <th>3</th>\n",
       "      <td>297</td>\n",
       "      <td>-0.260356</td>\n",
       "      <td>343.0</td>\n",
       "    </tr>\n",
       "    <tr>\n",
       "      <th>4</th>\n",
       "      <td>1101</td>\n",
       "      <td>-0.071733</td>\n",
       "      <td>593.0</td>\n",
       "    </tr>\n",
       "    <tr>\n",
       "      <th>...</th>\n",
       "      <td>...</td>\n",
       "      <td>...</td>\n",
       "      <td>...</td>\n",
       "    </tr>\n",
       "    <tr>\n",
       "      <th>1489</th>\n",
       "      <td>459</td>\n",
       "      <td>-0.172597</td>\n",
       "      <td>440.0</td>\n",
       "    </tr>\n",
       "    <tr>\n",
       "      <th>1490</th>\n",
       "      <td>1674</td>\n",
       "      <td>-0.063546</td>\n",
       "      <td>609.0</td>\n",
       "    </tr>\n",
       "    <tr>\n",
       "      <th>1491</th>\n",
       "      <td>748</td>\n",
       "      <td>0.151797</td>\n",
       "      <td>1016.0</td>\n",
       "    </tr>\n",
       "    <tr>\n",
       "      <th>1492</th>\n",
       "      <td>1454</td>\n",
       "      <td>-0.640917</td>\n",
       "      <td>163.0</td>\n",
       "    </tr>\n",
       "    <tr>\n",
       "      <th>1493</th>\n",
       "      <td>359</td>\n",
       "      <td>-0.252764</td>\n",
       "      <td>348.0</td>\n",
       "    </tr>\n",
       "  </tbody>\n",
       "</table>\n",
       "<p>1494 rows × 3 columns</p>\n",
       "</div>"
      ],
      "text/plain": [
       "        ID    TARGET    Rank\n",
       "0     1054  0.028313   807.0\n",
       "1     2049 -0.112516   532.0\n",
       "2     1924 -0.180840   427.0\n",
       "3      297 -0.260356   343.0\n",
       "4     1101 -0.071733   593.0\n",
       "...    ...       ...     ...\n",
       "1489   459 -0.172597   440.0\n",
       "1490  1674 -0.063546   609.0\n",
       "1491   748  0.151797  1016.0\n",
       "1492  1454 -0.640917   163.0\n",
       "1493   359 -0.252764   348.0\n",
       "\n",
       "[1494 rows x 3 columns]"
      ]
     },
     "execution_count": 1,
     "metadata": {},
     "output_type": "execute_result"
    }
   ],
   "source": [
    "import pandas as pd\n",
    "from scipy.stats import spearmanr\n",
    "import numpy as np\n",
    "from utils.Dataset_modification import *\n",
    "from utils.compute_model_performance import *\n",
    "\n",
    "X_train = pd.read_csv(datasets+'X_train.csv') #datasets is defined in utils\n",
    "Y_train=pd.read_csv(datasets+'Y_train.csv')\n",
    "Y_train['Rank']= Y_train['TARGET'].rank()\n",
    "Y_train"
   ]
  },
  {
   "cell_type": "code",
   "execution_count": 21,
   "metadata": {},
   "outputs": [
    {
     "name": "stdout",
     "output_type": "stream",
     "text": [
      "            ID1     ID2  Comparison\n",
      "0        1054.0  2049.0         1.0\n",
      "1        1054.0  1924.0         1.0\n",
      "2        1054.0   297.0         1.0\n",
      "3        1054.0  1101.0         1.0\n",
      "4        1054.0  1520.0         0.0\n",
      "...         ...     ...         ...\n",
      "1115266  1674.0  1454.0         1.0\n",
      "1115267  1674.0   359.0         1.0\n",
      "1115268   748.0  1454.0         1.0\n",
      "1115269   748.0   359.0         1.0\n",
      "1115270  1454.0   359.0         0.0\n",
      "\n",
      "[1115271 rows x 3 columns]\n"
     ]
    }
   ],
   "source": [
    "df=create_pairwise_dataset(Y_train)\n",
    "print(df)\n"
   ]
  },
  {
   "cell_type": "code",
   "execution_count": 22,
   "metadata": {},
   "outputs": [
    {
     "data": {
      "text/html": [
       "<div>\n",
       "<style scoped>\n",
       "    .dataframe tbody tr th:only-of-type {\n",
       "        vertical-align: middle;\n",
       "    }\n",
       "\n",
       "    .dataframe tbody tr th {\n",
       "        vertical-align: top;\n",
       "    }\n",
       "\n",
       "    .dataframe thead th {\n",
       "        text-align: right;\n",
       "    }\n",
       "</style>\n",
       "<table border=\"1\" class=\"dataframe\">\n",
       "  <thead>\n",
       "    <tr style=\"text-align: right;\">\n",
       "      <th></th>\n",
       "      <th>ID1</th>\n",
       "      <th>ID2</th>\n",
       "      <th>Comparison</th>\n",
       "    </tr>\n",
       "  </thead>\n",
       "  <tbody>\n",
       "    <tr>\n",
       "      <th>0</th>\n",
       "      <td>1054.0</td>\n",
       "      <td>2049.0</td>\n",
       "      <td>0.970357</td>\n",
       "    </tr>\n",
       "    <tr>\n",
       "      <th>1</th>\n",
       "      <td>1054.0</td>\n",
       "      <td>1924.0</td>\n",
       "      <td>0.970357</td>\n",
       "    </tr>\n",
       "    <tr>\n",
       "      <th>2</th>\n",
       "      <td>1054.0</td>\n",
       "      <td>297.0</td>\n",
       "      <td>0.970357</td>\n",
       "    </tr>\n",
       "    <tr>\n",
       "      <th>3</th>\n",
       "      <td>1054.0</td>\n",
       "      <td>1101.0</td>\n",
       "      <td>0.970357</td>\n",
       "    </tr>\n",
       "    <tr>\n",
       "      <th>4</th>\n",
       "      <td>1054.0</td>\n",
       "      <td>1520.0</td>\n",
       "      <td>0.191529</td>\n",
       "    </tr>\n",
       "    <tr>\n",
       "      <th>...</th>\n",
       "      <td>...</td>\n",
       "      <td>...</td>\n",
       "      <td>...</td>\n",
       "    </tr>\n",
       "    <tr>\n",
       "      <th>1115266</th>\n",
       "      <td>1674.0</td>\n",
       "      <td>1454.0</td>\n",
       "      <td>0.970357</td>\n",
       "    </tr>\n",
       "    <tr>\n",
       "      <th>1115267</th>\n",
       "      <td>1674.0</td>\n",
       "      <td>359.0</td>\n",
       "      <td>0.970357</td>\n",
       "    </tr>\n",
       "    <tr>\n",
       "      <th>1115268</th>\n",
       "      <td>748.0</td>\n",
       "      <td>1454.0</td>\n",
       "      <td>0.970357</td>\n",
       "    </tr>\n",
       "    <tr>\n",
       "      <th>1115269</th>\n",
       "      <td>748.0</td>\n",
       "      <td>359.0</td>\n",
       "      <td>0.970357</td>\n",
       "    </tr>\n",
       "    <tr>\n",
       "      <th>1115270</th>\n",
       "      <td>1454.0</td>\n",
       "      <td>359.0</td>\n",
       "      <td>0.191529</td>\n",
       "    </tr>\n",
       "  </tbody>\n",
       "</table>\n",
       "<p>1115271 rows × 3 columns</p>\n",
       "</div>"
      ],
      "text/plain": [
       "            ID1     ID2  Comparison\n",
       "0        1054.0  2049.0    0.970357\n",
       "1        1054.0  1924.0    0.970357\n",
       "2        1054.0   297.0    0.970357\n",
       "3        1054.0  1101.0    0.970357\n",
       "4        1054.0  1520.0    0.191529\n",
       "...         ...     ...         ...\n",
       "1115266  1674.0  1454.0    0.970357\n",
       "1115267  1674.0   359.0    0.970357\n",
       "1115268   748.0  1454.0    0.970357\n",
       "1115269   748.0   359.0    0.970357\n",
       "1115270  1454.0   359.0    0.191529\n",
       "\n",
       "[1115271 rows x 3 columns]"
      ]
     },
     "execution_count": 22,
     "metadata": {},
     "output_type": "execute_result"
    }
   ],
   "source": [
    "import numpy.random as np_random\n",
    "Comp_map = {1.0:np_random.uniform(0.66,1), 0.0: np_random.uniform(0,0.33), 0.5:np_random.uniform(0.33,0.66) } \n",
    "df['Comparison']=df['Comparison'].map(Comp_map)\n",
    "df"
   ]
  },
  {
   "cell_type": "code",
   "execution_count": 23,
   "metadata": {},
   "outputs": [
    {
     "data": {
      "text/html": [
       "<div>\n",
       "<style scoped>\n",
       "    .dataframe tbody tr th:only-of-type {\n",
       "        vertical-align: middle;\n",
       "    }\n",
       "\n",
       "    .dataframe tbody tr th {\n",
       "        vertical-align: top;\n",
       "    }\n",
       "\n",
       "    .dataframe thead th {\n",
       "        text-align: right;\n",
       "    }\n",
       "</style>\n",
       "<table border=\"1\" class=\"dataframe\">\n",
       "  <thead>\n",
       "    <tr style=\"text-align: right;\">\n",
       "      <th></th>\n",
       "      <th>ID</th>\n",
       "      <th>Rank_recreated</th>\n",
       "    </tr>\n",
       "  </thead>\n",
       "  <tbody>\n",
       "    <tr>\n",
       "      <th>0</th>\n",
       "      <td>0.0</td>\n",
       "      <td>455</td>\n",
       "    </tr>\n",
       "    <tr>\n",
       "      <th>1</th>\n",
       "      <td>2.0</td>\n",
       "      <td>778</td>\n",
       "    </tr>\n",
       "    <tr>\n",
       "      <th>2</th>\n",
       "      <td>3.0</td>\n",
       "      <td>364</td>\n",
       "    </tr>\n",
       "    <tr>\n",
       "      <th>3</th>\n",
       "      <td>4.0</td>\n",
       "      <td>810</td>\n",
       "    </tr>\n",
       "    <tr>\n",
       "      <th>4</th>\n",
       "      <td>5.0</td>\n",
       "      <td>589</td>\n",
       "    </tr>\n",
       "    <tr>\n",
       "      <th>...</th>\n",
       "      <td>...</td>\n",
       "      <td>...</td>\n",
       "    </tr>\n",
       "    <tr>\n",
       "      <th>1489</th>\n",
       "      <td>2142.0</td>\n",
       "      <td>1357</td>\n",
       "    </tr>\n",
       "    <tr>\n",
       "      <th>1490</th>\n",
       "      <td>2143.0</td>\n",
       "      <td>1314</td>\n",
       "    </tr>\n",
       "    <tr>\n",
       "      <th>1491</th>\n",
       "      <td>2144.0</td>\n",
       "      <td>571</td>\n",
       "    </tr>\n",
       "    <tr>\n",
       "      <th>1492</th>\n",
       "      <td>2145.0</td>\n",
       "      <td>434</td>\n",
       "    </tr>\n",
       "    <tr>\n",
       "      <th>1493</th>\n",
       "      <td>2146.0</td>\n",
       "      <td>701</td>\n",
       "    </tr>\n",
       "  </tbody>\n",
       "</table>\n",
       "<p>1494 rows × 2 columns</p>\n",
       "</div>"
      ],
      "text/plain": [
       "          ID  Rank_recreated\n",
       "0        0.0             455\n",
       "1        2.0             778\n",
       "2        3.0             364\n",
       "3        4.0             810\n",
       "4        5.0             589\n",
       "...      ...             ...\n",
       "1489  2142.0            1357\n",
       "1490  2143.0            1314\n",
       "1491  2144.0             571\n",
       "1492  2145.0             434\n",
       "1493  2146.0             701\n",
       "\n",
       "[1494 rows x 2 columns]"
      ]
     },
     "execution_count": 23,
     "metadata": {},
     "output_type": "execute_result"
    }
   ],
   "source": [
    "remade=reconstruct_original_dataset(df)\n",
    "remade"
   ]
  },
  {
   "cell_type": "code",
   "execution_count": 24,
   "metadata": {},
   "outputs": [
    {
     "data": {
      "text/plain": [
       "True"
      ]
     },
     "execution_count": 24,
     "metadata": {},
     "output_type": "execute_result"
    }
   ],
   "source": [
    "sorted=remade.sort_values(by=['ID'], key=lambda x: x.map({k: i for i, k in enumerate(Y_train['ID'].tolist())}))\n",
    "sorted['ID'].tolist()==Y_train['ID'].tolist()"
   ]
  },
  {
   "cell_type": "code",
   "execution_count": 25,
   "metadata": {},
   "outputs": [
    {
     "name": "stdout",
     "output_type": "stream",
     "text": [
      "TARGET AND reconstructed Rank : 0.9999998515590814\n"
     ]
    }
   ],
   "source": [
    "from scipy.stats import spearmanr\n",
    "print(\"TARGET AND reconstructed Rank :\" ,spearmanr(sorted[\"Rank_recreated\"], Y_train[\"TARGET\"]).correlation)\n"
   ]
  },
  {
   "cell_type": "markdown",
   "metadata": {},
   "source": [
    "Predicting Pairwise ranking accurately -> predicting Ranking accurately -> high spearman score\n",
    "\n",
    "meaning our method of creating pairwise ranking and prediction a pairwise ranking ID by ID might help determine a more accurate ranking. Now let's Get a  X_train_pairwise that matches our Y_train_Pairwise"
   ]
  },
  {
   "cell_type": "code",
   "execution_count": 6,
   "metadata": {},
   "outputs": [
    {
     "name": "stdout",
     "output_type": "stream",
     "text": [
      "Country remapped\n"
     ]
    }
   ],
   "source": [
    "X_train_pairwise=get_training_pairwise(X_train)"
   ]
  },
  {
   "cell_type": "code",
   "execution_count": 13,
   "metadata": {},
   "outputs": [
    {
     "name": "stdout",
     "output_type": "stream",
     "text": [
      "[7.786577856046542, 7.138604025388376, 6.836019876868637, 6.681753850368199, 6.151133366269985, 6.094297093901249, 6.009904429692065, 5.57011518732641, 5.0164912760257, 5.015579833097478]\n"
     ]
    }
   ],
   "source": [
    "print(sorted(Y_train['TARGET'].tolist(),reverse=True)[:10])"
   ]
  },
  {
   "cell_type": "code",
   "execution_count": 1,
   "metadata": {},
   "outputs": [
    {
     "name": "stdout",
     "output_type": "stream",
     "text": [
      "X_train and Y_train same ID ? True\n",
      "X_test and Y_test same ID ? True\n",
      "Country remapped\n",
      "Country remapped\n",
      "pairwise creation done\n",
      "list length is 69751\n",
      "error_val (0.03487844588601563, [2.12197347021395, 2.1171241082318657, 2.051565838784735, 2.047340904632818, 1.9967309744246213, 1.9825621361476666, 1.9481150934506246, 1.940040703897176, 1.935191341915091, 1.935083837448751, 1.9319930185943597, 1.9236743218718537, 1.921064752781457, 1.9108217275462605, 1.9021964383517564, 1.900966597654162, 1.8967282698922778, 1.8966815572643538, 1.8953863368053414, 1.8876776549537981, 1.8853187543153809, 1.8762663259383512, 1.8738773253348393, 1.86963307246796, 1.8654081383160435, 1.8637120251152044, 1.8445358292522522, 1.8421158752682398, 1.8363204403376936, 1.8312784621554572, 1.8312775049114867, 1.8311490679557378, 1.8296232038282936, 1.8288926365552842, 1.8264546784456053, 1.8256197962683585, 1.823958770675031, 1.8227686891078392, 1.8222677529392288, 1.8213424809174414, 1.8212799115985836, 1.8184954206693433, 1.8183379110762887, 1.814798208107847, 1.8139172602400246, 1.8124098714346462, 1.8117383348668445, 1.807654135229197, 1.807054590280689, 1.8038718035360826, 1.8006293698308924, 1.7999353084761416, 1.7994578731353146, 1.7987316370736823, 1.7912676362718203, 1.7867954026286799, 1.786559396368674, 1.785034126875086, 1.7783658445711121, 1.7738603506497301, 1.769503197215113, 1.7693686237674782, 1.7669926488923087, 1.7661823271338501, 1.765508801831241, 1.7641772396968811, 1.7629220114334307, 1.7622392810751655, 1.761452276443396, 1.7614009067318481, 1.7594453592430859, 1.75925325241051, 1.758256230319057, 1.7562623566486777, 1.7562487081765386, 1.7544217199785161, 1.7544038904284252, 1.7542177069447664, 1.7531510711319767, 1.752866059758675, 1.7522104878630669, 1.751915178004141, 1.7508153836182536, 1.7500602522775848, 1.7491691420156197, 1.7478033812200577, 1.747696596874948, 1.7452358653409723, 1.7451730886161192, 1.7438908194301932, 1.743536275500034, 1.7421794761857274, 1.7421246255709602, 1.7417415555550795, 1.7402773012947912, 1.7399385459146997, 1.7362929297100513, 1.736223722758508, 1.7356036978062979, 1.7355537736206545])\n",
      "accuracy_val [0.03318948832274806, 0.020246277205040093, 8.613759044446996e-05]\n",
      "list length is 626640\n",
      "error_train (-3.869583632768025e-16, [2.008470310578272, 1.9833852097860087, 1.9629070763025203, 1.9492987414478096, 1.9469853601230023, 1.9450296422295357, 1.938487959961924, 1.9376301921948649, 1.9355897410108247, 1.9325100856128514, 1.9272333879033705, 1.9245537900781144, 1.9219712296358362, 1.9217907224849649, 1.9186475120611286, 1.9128988917848033, 1.9086297925665292, 1.900132392405451, 1.8991898913478185, 1.8982329882750348, 1.8968448539871623, 1.8953666148495718, 1.8943415792481186, 1.894250735503014, 1.8908335382403645, 1.8902288865267387, 1.8898380722309085, 1.8874084066766048, 1.8855296555141008, 1.8853908728219586, 1.8837866728080794, 1.883139307458331, 1.8816728705097574, 1.880291944504655, 1.876387222773409, 1.8744855714476778, 1.8735960632268545, 1.8733367296405707, 1.872868644956292, 1.872066053477874, 1.8691415003547323, 1.8678444543588264, 1.865469194921622, 1.8633799390967298, 1.862427139901384, 1.8604450043241565, 1.8579417295851126, 1.8578508858400082, 1.8577701265566866, 1.8547862731797435, 1.85377441143807, 1.8534382225679025, 1.8524814333515294, 1.8500824132207918, 1.84975415144141, 1.8491298058510943, 1.8490528391201315, 1.8473868231450732, 1.8448710706340368, 1.8438682453279562, 1.8395095948886553, 1.838593941438338, 1.8372276896542812, 1.8369368799775638, 1.8364687952932863, 1.835666240289931, 1.8353438386831469, 1.8349555580826178, 1.8337104859214008, 1.8302737182671043, 1.8297916277916757, 1.8292713941195446, 1.8287573298385014, 1.826987485575693, 1.8266888336772658, 1.8263828338620676, 1.8258005944516704, 1.8251066632380364, 1.8238285410629964, 1.8224881457113993, 1.8215448201572872, 1.8213702768936804, 1.8182190464931258, 1.8179124193874947, 1.8174442413442167, 1.8171811311151145, 1.8136825635577858, 1.8130836104687251, 1.8121166076502728, 1.812028034808861, 1.812001575925811, 1.808139982445403, 1.8065245855420504, 1.806363876923089, 1.8050290370103403, 1.8041786176275565, 1.8036716817014067, 1.803435786254711, 1.8030670299877811, 1.8021940917753319])\n",
      "accuracy_train [0.046144516787948425, 0.03780659776116272, 5.683145684282313e-05]\n",
      "       ID1     ID2  Comparison    ID1     ID2  Comparison\n",
      "0    302.0   368.0    0.940434  302.0   368.0         0.0\n",
      "1    302.0   565.0    0.859399  302.0   565.0         0.0\n",
      "2    302.0  1124.0    1.368326  302.0  1124.0         0.0\n",
      "3    302.0  1948.0    1.460966  302.0  1948.0         2.0\n",
      "4    302.0  1394.0    1.106040  302.0  1394.0         2.0\n",
      "..     ...     ...         ...    ...     ...         ...\n",
      "995  565.0  1879.0    0.908511  565.0  1879.0         0.0\n",
      "996  565.0   852.0    1.035313  565.0   852.0         2.0\n",
      "997  565.0   964.0    1.282661  565.0   964.0         2.0\n",
      "998  565.0   160.0    0.964699  565.0   160.0         2.0\n",
      "999  565.0    40.0    1.119601  565.0    40.0         2.0\n",
      "\n",
      "[1000 rows x 6 columns]\n",
      "reconstructing rank ...\n",
      "Y_pred and Y_test same ID ? True\n",
      "Same length ? True\n",
      "validation 11.429358685880672\n",
      "average Rank_recreated evaluation score at  11.429358685880672 training at : nan training at : nan training at : nan\n",
      "\n",
      "\n"
     ]
    }
   ],
   "source": [
    "import pandas as pd\n",
    "from scipy.stats import spearmanr\n",
    "import numpy as np\n",
    "from utils.Dataset_modification import *\n",
    "from utils.compute_model_performance import *\n",
    "\n",
    "X_train = pd.read_csv(datasets+'X_train.csv') #datasets is defined in utils\n",
    "Y_train=pd.read_csv(datasets+'Y_train.csv')\n",
    "\n",
    "from sklearn.linear_model import LinearRegression\n",
    "from utils.compute_model_performance import *\n",
    "\n",
    "model=Model(LinearRegression,LinearRegression)\n",
    "model.get_data_and_order(X_train,Y_train) \n",
    "# model.Compute(iterations=100,custom_group=2,group=True)\n",
    "model.Compute(iterations=1,columns='Rank_recreated',split=False)\n",
    "\n"
   ]
  },
  {
   "cell_type": "code",
   "execution_count": 2,
   "metadata": {},
   "outputs": [
    {
     "name": "stdout",
     "output_type": "stream",
     "text": [
      "X_train and Y_train same ID ? True\n",
      "X_test and Y_test same ID ? True\n",
      "Country remapped\n",
      "Country remapped\n",
      "pairwise creation done\n"
     ]
    },
    {
     "name": "stderr",
     "output_type": "stream",
     "text": [
      "/home/ymachta/miniconda3/envs/qube/lib/python3.11/site-packages/sklearn/linear_model/_logistic.py:458: ConvergenceWarning: lbfgs failed to converge (status=1):\n",
      "STOP: TOTAL NO. of ITERATIONS REACHED LIMIT.\n",
      "\n",
      "Increase the number of iterations (max_iter) or scale the data as shown in:\n",
      "    https://scikit-learn.org/stable/modules/preprocessing.html\n",
      "Please also refer to the documentation for alternative solver options:\n",
      "    https://scikit-learn.org/stable/modules/linear_model.html#logistic-regression\n",
      "  n_iter_i = _check_optimize_result(\n"
     ]
    },
    {
     "name": "stdout",
     "output_type": "stream",
     "text": [
      "list length is 69751\n",
      "error_val (-0.06846496824418288, [1.0, 1.0, 1.0, 1.0, 1.0, 1.0, 1.0, 1.0, 1.0, 1.0, 1.0, 1.0, 1.0, 1.0, 1.0, 1.0, 1.0, 1.0, 1.0, 1.0, 1.0, 1.0, 1.0, 1.0, 1.0, 1.0, 1.0, 1.0, 1.0, 1.0, 1.0, 1.0, 1.0, 1.0, 1.0, 1.0, 1.0, 1.0, 1.0, 1.0, 1.0, 1.0, 1.0, 1.0, 1.0, 1.0, 1.0, 1.0, 1.0, 1.0, 1.0, 1.0, 1.0, 1.0, 1.0, 1.0, 1.0, 1.0, 1.0, 1.0, 1.0, 1.0, 1.0, 1.0, 1.0, 1.0, 1.0, 1.0, 1.0, 1.0, 1.0, 1.0, 1.0, 1.0, 1.0, 1.0, 1.0, 1.0, 1.0, 1.0, 1.0, 1.0, 1.0, 1.0, 1.0, 1.0, 1.0, 1.0, 1.0, 1.0, 1.0, 1.0, 1.0, 1.0, 1.0, 1.0, 1.0, 1.0, 1.0, 1.0])\n",
      "accuracy_val [0.5761781193101174, 0.6379914704679558, 0.5166122311071066]\n",
      "list length is 626640\n",
      "error_train (-0.026073981871569004, [1.0, 1.0, 1.0, 1.0, 1.0, 1.0, 1.0, 1.0, 1.0, 1.0, 1.0, 1.0, 1.0, 1.0, 1.0, 1.0, 1.0, 1.0, 1.0, 1.0, 1.0, 1.0, 1.0, 1.0, 1.0, 1.0, 1.0, 1.0, 1.0, 1.0, 1.0, 1.0, 1.0, 1.0, 1.0, 1.0, 1.0, 1.0, 1.0, 1.0, 1.0, 1.0, 1.0, 1.0, 1.0, 1.0, 1.0, 1.0, 1.0, 1.0, 1.0, 1.0, 1.0, 1.0, 1.0, 1.0, 1.0, 1.0, 1.0, 1.0, 1.0, 1.0, 1.0, 1.0, 1.0, 1.0, 1.0, 1.0, 1.0, 1.0, 1.0, 1.0, 1.0, 1.0, 1.0, 1.0, 1.0, 1.0, 1.0, 1.0, 1.0, 1.0, 1.0, 1.0, 1.0, 1.0, 1.0, 1.0, 1.0, 1.0, 1.0, 1.0, 1.0, 1.0, 1.0, 1.0, 1.0, 1.0, 1.0, 1.0])\n",
      "accuracy_train [0.6076056427933103, 0.6419769262926704, 0.5716656756209283]\n",
      "        ID1     ID2  Comparison     ID1     ID2  Comparison\n",
      "0     197.0  1059.0           1   197.0  1059.0         0.0\n",
      "1     197.0  2085.0           1   197.0  2085.0         1.0\n",
      "2     197.0  2143.0           1   197.0  2143.0         0.0\n",
      "3     197.0    98.0           1   197.0    98.0         1.0\n",
      "4     197.0  1584.0           0   197.0  1584.0         0.0\n",
      "..      ...     ...         ...     ...     ...         ...\n",
      "995  2085.0   801.0           0  2085.0   801.0         0.0\n",
      "996  2085.0   289.0           0  2085.0   289.0         0.0\n",
      "997  2085.0  1055.0           0  2085.0  1055.0         0.0\n",
      "998  2085.0   561.0           0  2085.0   561.0         0.0\n",
      "999  2085.0   279.0           0  2085.0   279.0         0.0\n",
      "\n",
      "[1000 rows x 6 columns]\n",
      "reconstructing rank ...\n",
      "Y_pred and Y_test same ID ? True\n",
      "Same length ? True\n",
      "validation -0.04070869349323111\n",
      "X_train and Y_train same ID ? True\n",
      "X_test and Y_test same ID ? True\n",
      "Country remapped\n",
      "Country remapped\n",
      "pairwise creation done\n"
     ]
    },
    {
     "name": "stderr",
     "output_type": "stream",
     "text": [
      "/home/ymachta/miniconda3/envs/qube/lib/python3.11/site-packages/sklearn/linear_model/_logistic.py:458: ConvergenceWarning: lbfgs failed to converge (status=1):\n",
      "STOP: TOTAL NO. of ITERATIONS REACHED LIMIT.\n",
      "\n",
      "Increase the number of iterations (max_iter) or scale the data as shown in:\n",
      "    https://scikit-learn.org/stable/modules/preprocessing.html\n",
      "Please also refer to the documentation for alternative solver options:\n",
      "    https://scikit-learn.org/stable/modules/linear_model.html#logistic-regression\n",
      "  n_iter_i = _check_optimize_result(\n"
     ]
    },
    {
     "name": "stdout",
     "output_type": "stream",
     "text": [
      "list length is 69751\n",
      "error_val (-0.06108872991068228, [1.0, 1.0, 1.0, 1.0, 1.0, 1.0, 1.0, 1.0, 1.0, 1.0, 1.0, 1.0, 1.0, 1.0, 1.0, 1.0, 1.0, 1.0, 1.0, 1.0, 1.0, 1.0, 1.0, 1.0, 1.0, 1.0, 1.0, 1.0, 1.0, 1.0, 1.0, 1.0, 1.0, 1.0, 1.0, 1.0, 1.0, 1.0, 1.0, 1.0, 1.0, 1.0, 1.0, 1.0, 1.0, 1.0, 1.0, 1.0, 1.0, 1.0, 1.0, 1.0, 1.0, 1.0, 1.0, 1.0, 1.0, 1.0, 1.0, 1.0, 1.0, 1.0, 1.0, 1.0, 1.0, 1.0, 1.0, 1.0, 1.0, 1.0, 1.0, 1.0, 1.0, 1.0, 1.0, 1.0, 1.0, 1.0, 1.0, 1.0, 1.0, 1.0, 1.0, 1.0, 1.0, 1.0, 1.0, 1.0, 1.0, 1.0, 1.0, 1.0, 1.0, 1.0, 1.0, 1.0, 1.0, 1.0, 1.0, 1.0])\n",
      "accuracy_val [0.5640635976545139, 0.6177708905911935, 0.5123913471546316]\n",
      "list length is 626640\n",
      "error_train (-0.026129835312140942, [1.0, 1.0, 1.0, 1.0, 1.0, 1.0, 1.0, 1.0, 1.0, 1.0, 1.0, 1.0, 1.0, 1.0, 1.0, 1.0, 1.0, 1.0, 1.0, 1.0, 1.0, 1.0, 1.0, 1.0, 1.0, 1.0, 1.0, 1.0, 1.0, 1.0, 1.0, 1.0, 1.0, 1.0, 1.0, 1.0, 1.0, 1.0, 1.0, 1.0, 1.0, 1.0, 1.0, 1.0, 1.0, 1.0, 1.0, 1.0, 1.0, 1.0, 1.0, 1.0, 1.0, 1.0, 1.0, 1.0, 1.0, 1.0, 1.0, 1.0, 1.0, 1.0, 1.0, 1.0, 1.0, 1.0, 1.0, 1.0, 1.0, 1.0, 1.0, 1.0, 1.0, 1.0, 1.0, 1.0, 1.0, 1.0, 1.0, 1.0, 1.0, 1.0, 1.0, 1.0, 1.0, 1.0, 1.0, 1.0, 1.0, 1.0, 1.0, 1.0, 1.0, 1.0, 1.0, 1.0, 1.0, 1.0, 1.0, 1.0])\n",
      "accuracy_train [0.6071875398953147, 0.6406280796268313, 0.5724370689627089]\n",
      "        ID1     ID2  Comparison     ID1     ID2  Comparison\n",
      "0    1549.0  2057.0           1  1549.0  2057.0         1.0\n",
      "1    1549.0  1750.0           1  1549.0  1750.0         1.0\n",
      "2    1549.0  1108.0           1  1549.0  1108.0         0.0\n",
      "3    1549.0   286.0           1  1549.0   286.0         1.0\n",
      "4    1549.0  1375.0           1  1549.0  1375.0         0.0\n",
      "..      ...     ...         ...     ...     ...         ...\n",
      "995  1750.0  1153.0           1  1750.0  1153.0         0.0\n",
      "996  1750.0  1953.0           1  1750.0  1953.0         1.0\n",
      "997  1750.0   518.0           1  1750.0   518.0         0.0\n",
      "998  1750.0  1269.0           1  1750.0  1269.0         0.0\n",
      "999  1750.0  1990.0           1  1750.0  1990.0         0.0\n",
      "\n",
      "[1000 rows x 6 columns]\n",
      "reconstructing rank ...\n",
      "Y_pred and Y_test same ID ? True\n",
      "Same length ? True\n",
      "validation 11.58344736626594\n",
      "average Rank_recreated evaluation score at  5.771369336386354 training at : nan training at : nan training at : nan\n",
      "\n",
      "\n"
     ]
    }
   ],
   "source": [
    "\n",
    "\n",
    "from sklearn.linear_model import LogisticRegression\n",
    "from utils.compute_model_performance import *\n",
    "\n",
    "model=Model(LogisticRegression,LogisticRegression)\n",
    "model.get_data_and_order(X_train,Y_train) \n",
    "# model.Compute(iterations=100,custom_group=2,group=True)\n",
    "model.Compute(iterations=2,columns='Rank_recreated',split=False)\n",
    "\n"
   ]
  },
  {
   "cell_type": "code",
   "execution_count": 5,
   "metadata": {},
   "outputs": [
    {
     "name": "stdout",
     "output_type": "stream",
     "text": [
      "X_train and Y_train same ID ? True\n",
      "X_test and Y_test same ID ? True\n",
      "Country remapped\n",
      "Country remapped\n",
      "pairwise creation done\n"
     ]
    },
    {
     "name": "stderr",
     "output_type": "stream",
     "text": [
      "/home/ymachta/miniconda3/envs/qube/lib/python3.11/site-packages/sklearn/base.py:432: UserWarning: X has feature names, but OrdinalRidge was fitted without feature names\n",
      "  warnings.warn(\n",
      "/home/ymachta/miniconda3/envs/qube/lib/python3.11/site-packages/sklearn/base.py:432: UserWarning: X has feature names, but OrdinalRidge was fitted without feature names\n",
      "  warnings.warn(\n"
     ]
    },
    {
     "name": "stdout",
     "output_type": "stream",
     "text": [
      "list length is 69751\n",
      "error_val (-0.049913262892288285, [1.0, 1.0, 1.0, 1.0, 1.0, 1.0, 1.0, 1.0, 1.0, 1.0, 1.0, 1.0, 1.0, 1.0, 1.0, 1.0, 1.0, 1.0, 1.0, 1.0, 1.0, 1.0, 1.0, 1.0, 1.0, 1.0, 1.0, 1.0, 1.0, 1.0, 1.0, 1.0, 1.0, 1.0, 1.0, 1.0, 1.0, 1.0, 1.0, 1.0, 1.0, 1.0, 1.0, 1.0, 1.0, 1.0, 1.0, 1.0, 1.0, 1.0, 1.0, 1.0, 1.0, 1.0, 1.0, 1.0, 1.0, 1.0, 1.0, 1.0, 1.0, 1.0, 1.0, 1.0, 1.0, 1.0, 1.0, 1.0, 1.0, 1.0, 1.0, 1.0, 1.0, 1.0, 1.0, 1.0, 1.0, 1.0, 1.0, 1.0, 1.0, 1.0, 1.0, 1.0, 1.0, 1.0, 1.0, 1.0, 1.0, 1.0, 1.0, 1.0, 1.0, 1.0, 1.0, 1.0, 1.0, 1.0, 1.0, 1.0])\n",
      "accuracy_val 0.5784003096729796\n",
      "list length is 626640\n",
      "error_train (0.003501212817566705, [1.0, 1.0, 1.0, 1.0, 1.0, 1.0, 1.0, 1.0, 1.0, 1.0, 1.0, 1.0, 1.0, 1.0, 1.0, 1.0, 1.0, 1.0, 1.0, 1.0, 1.0, 1.0, 1.0, 1.0, 1.0, 1.0, 1.0, 1.0, 1.0, 1.0, 1.0, 1.0, 1.0, 1.0, 1.0, 1.0, 1.0, 1.0, 1.0, 1.0, 1.0, 1.0, 1.0, 1.0, 1.0, 1.0, 1.0, 1.0, 1.0, 1.0, 1.0, 1.0, 1.0, 1.0, 1.0, 1.0, 1.0, 1.0, 1.0, 1.0, 1.0, 1.0, 1.0, 1.0, 1.0, 1.0, 1.0, 1.0, 1.0, 1.0, 1.0, 1.0, 1.0, 1.0, 1.0, 1.0, 1.0, 1.0, 1.0, 1.0, 1.0, 1.0, 1.0, 1.0, 1.0, 1.0, 1.0, 1.0, 1.0, 1.0, 1.0, 1.0, 1.0, 1.0, 1.0, 1.0, 1.0, 1.0, 1.0, 1.0])\n",
      "accuracy_train 0.6059029107621601\n",
      "reconstructing rank ...\n",
      "Y_pred and Y_test same ID ? True\n",
      "Same length ? True\n",
      "         ID  Rank_recreated    ID    TARGET    Rank\n",
      "0    1758.0             291  1758 -0.122647   513.0\n",
      "1     701.0              21   701 -0.413809   239.0\n",
      "2     336.0             329   336  0.234468  1096.0\n",
      "3    1275.0             352  1275  0.485351  1255.0\n",
      "4    1983.0             157  1983 -0.053419   628.0\n",
      "..      ...             ...   ...       ...     ...\n",
      "369   359.0             370   359 -0.252764   348.0\n",
      "370   451.0             370   451 -0.888604   107.0\n",
      "371  1094.0             370  1094  0.053652   867.0\n",
      "372  1333.0             370  1333 -0.586868   181.0\n",
      "373  1714.0             370  1714 -0.143463   479.0\n",
      "\n",
      "[374 rows x 5 columns]\n",
      "validation 7.99782435754458\n",
      "X_train and Y_train same ID ? True\n",
      "X_test and Y_test same ID ? True\n",
      "Country remapped\n",
      "Country remapped\n",
      "pairwise creation done\n"
     ]
    },
    {
     "name": "stderr",
     "output_type": "stream",
     "text": [
      "/home/ymachta/miniconda3/envs/qube/lib/python3.11/site-packages/sklearn/base.py:432: UserWarning: X has feature names, but OrdinalRidge was fitted without feature names\n",
      "  warnings.warn(\n",
      "/home/ymachta/miniconda3/envs/qube/lib/python3.11/site-packages/sklearn/base.py:432: UserWarning: X has feature names, but OrdinalRidge was fitted without feature names\n",
      "  warnings.warn(\n"
     ]
    },
    {
     "name": "stdout",
     "output_type": "stream",
     "text": [
      "list length is 69751\n",
      "error_val (-0.02602830066952445, [1.0, 1.0, 1.0, 1.0, 1.0, 1.0, 1.0, 1.0, 1.0, 1.0, 1.0, 1.0, 1.0, 1.0, 1.0, 1.0, 1.0, 1.0, 1.0, 1.0, 1.0, 1.0, 1.0, 1.0, 1.0, 1.0, 1.0, 1.0, 1.0, 1.0, 1.0, 1.0, 1.0, 1.0, 1.0, 1.0, 1.0, 1.0, 1.0, 1.0, 1.0, 1.0, 1.0, 1.0, 1.0, 1.0, 1.0, 1.0, 1.0, 1.0, 1.0, 1.0, 1.0, 1.0, 1.0, 1.0, 1.0, 1.0, 1.0, 1.0, 1.0, 1.0, 1.0, 1.0, 1.0, 1.0, 1.0, 1.0, 1.0, 1.0, 1.0, 1.0, 1.0, 1.0, 1.0, 1.0, 1.0, 1.0, 1.0, 1.0, 1.0, 1.0, 1.0, 1.0, 1.0, 1.0, 1.0, 1.0, 1.0, 1.0, 1.0, 1.0, 1.0, 1.0, 1.0, 1.0, 1.0, 1.0, 1.0, 1.0])\n",
      "accuracy_val 0.572808991985778\n",
      "list length is 626640\n",
      "error_train (-0.017856344950848972, [1.0, 1.0, 1.0, 1.0, 1.0, 1.0, 1.0, 1.0, 1.0, 1.0, 1.0, 1.0, 1.0, 1.0, 1.0, 1.0, 1.0, 1.0, 1.0, 1.0, 1.0, 1.0, 1.0, 1.0, 1.0, 1.0, 1.0, 1.0, 1.0, 1.0, 1.0, 1.0, 1.0, 1.0, 1.0, 1.0, 1.0, 1.0, 1.0, 1.0, 1.0, 1.0, 1.0, 1.0, 1.0, 1.0, 1.0, 1.0, 1.0, 1.0, 1.0, 1.0, 1.0, 1.0, 1.0, 1.0, 1.0, 1.0, 1.0, 1.0, 1.0, 1.0, 1.0, 1.0, 1.0, 1.0, 1.0, 1.0, 1.0, 1.0, 1.0, 1.0, 1.0, 1.0, 1.0, 1.0, 1.0, 1.0, 1.0, 1.0, 1.0, 1.0, 1.0, 1.0, 1.0, 1.0, 1.0, 1.0, 1.0, 1.0, 1.0, 1.0, 1.0, 1.0, 1.0, 1.0, 1.0, 1.0, 1.0, 1.0])\n",
      "accuracy_train 0.6054353376739435\n",
      "reconstructing rank ...\n",
      "Y_pred and Y_test same ID ? True\n",
      "Same length ? True\n",
      "         ID  Rank_recreated    ID    TARGET    Rank\n",
      "0     279.0             299   279  0.482113  1253.0\n",
      "1     128.0              76   128 -0.385832   265.0\n",
      "2    1309.0             299  1309 -0.199550   396.0\n",
      "3    1169.0             263  1169 -1.105776    80.0\n",
      "4    1059.0             104  1059 -0.164854   451.0\n",
      "..      ...             ...   ...       ...     ...\n",
      "369   561.0             369   561  0.397478  1222.0\n",
      "370   794.0             369   794 -0.017533   708.0\n",
      "371   829.0             369   829  0.750951  1323.0\n",
      "372  1258.0             369  1258  0.452958  1248.0\n",
      "373   684.0             369   684  0.346107  1184.0\n",
      "\n",
      "[374 rows x 5 columns]\n",
      "validation 11.84952095401927\n",
      "average Rank_recreated evaluation score at  9.923672655781925 training at : nan training at : nan training at : nan\n",
      "\n",
      "\n"
     ]
    }
   ],
   "source": [
    "from mord import OrdinalRidge\n",
    "from utils.compute_model_performance import *\n",
    "model=Model(OrdinalRidge,OrdinalRidge)\n",
    "model.get_data_and_order(X_train,Y_train) \n",
    "model.Compute(iterations=2,columns='Rank_recreated',split=False)"
   ]
  },
  {
   "cell_type": "code",
   "execution_count": 2,
   "metadata": {},
   "outputs": [
    {
     "name": "stdout",
     "output_type": "stream",
     "text": [
      "X_train and Y_train same ID ? True\n",
      "X_test and Y_test same ID ? True\n",
      "Country remapped\n",
      "Country remapped\n",
      "pairwise creation done\n",
      "list length is 69751\n",
      "error_val (0.020804848536370525, [2.0, 2.0, 2.0, 2.0, 2.0, 2.0, 2.0, 2.0, 2.0, 1.995382585751979, 1.9641786109305692, 1.9641786109305692, 1.9641786109305692, 1.9641786109305692, 1.9641786109305692, 1.954921803127875, 1.954921803127875, 1.954921803127875, 1.954921803127875, 1.954921803127875, 1.9405391349570946, 1.9405391349570946, 1.9303952917188005, 1.9303952917188005, 1.9303952917188005, 1.9303952917188005, 1.9303952917188005, 1.9303952917188005, 1.930131004366812, 1.9270386266094421, 1.9270386266094421, 1.9270386266094421, 1.9161490683229814, 1.9063694963399977, 1.9063694963399977, 1.9063694963399977, 1.9063694963399977, 1.9063694963399977, 1.9063694963399977, 1.905140904868599, 1.905140904868599, 1.905140904868599, 1.905140904868599, 1.905140904868599, 1.905140904868599, 1.905140904868599, 1.905140904868599, 1.905140904868599, 1.905140904868599, 1.905140904868599, 1.905140904868599, 1.905140904868599, 1.905140904868599, 1.905140904868599, 1.905140904868599, 1.905140904868599, 1.905140904868599, 1.905140904868599, 1.905140904868599, 1.905140904868599, 1.905140904868599, 1.905140904868599, 1.905140904868599, 1.905140904868599, 1.905140904868599, 1.905140904868599, 1.905140904868599, 1.905140904868599, 1.905140904868599, 1.905140904868599, 1.905140904868599, 1.905140904868599, 1.905140904868599, 1.905140904868599, 1.905140904868599, 1.905140904868599, 1.905140904868599, 1.905140904868599, 1.905140904868599, 1.905140904868599, 1.905140904868599, 1.905140904868599, 1.905140904868599, 1.905140904868599, 1.905140904868599, 1.905140904868599, 1.905140904868599, 1.905140904868599, 1.905140904868599, 1.905140904868599, 1.905140904868599, 1.905140904868599, 1.905140904868599, 1.905140904868599, 1.905140904868599, 1.905140904868599, 1.905140904868599, 1.905140904868599, 1.905140904868599, 1.905140904868599])\n",
      "accuracy_val [0.19806167653510343, 0.22212958231354724, 3.0705929314950715e-05, 0.0]\n",
      "list length is 626640\n",
      "error_train (-0.00016870637125851405, [2.0, 2.0, 2.0, 2.0, 1.9975903614457833, 1.9975903614457833, 1.9975903614457833, 1.9855909133577396, 1.9855909133577396, 1.9755043465560924, 1.9755043465560924, 1.9755043465560924, 1.9755043465560924, 1.9755043465560924, 1.9755043465560924, 1.9755043465560924, 1.9755043465560924, 1.9706387736036877, 1.9706387736036877, 1.9706387736036877, 1.9706387736036877, 1.9706387736036877, 1.9706387736036877, 1.9706387736036877, 1.9706387736036877, 1.9706387736036877, 1.9706387736036877, 1.9706387736036877, 1.9706387736036877, 1.9706387736036877, 1.9706387736036877, 1.96907358299239, 1.96907358299239, 1.96907358299239, 1.96907358299239, 1.96907358299239, 1.96907358299239, 1.96907358299239, 1.96907358299239, 1.96907358299239, 1.9675962466017713, 1.9675962466017713, 1.9675962466017713, 1.9675962466017713, 1.9675962466017713, 1.9675962466017713, 1.9675962466017713, 1.9675962466017713, 1.9675962466017713, 1.96245389877908, 1.96245389877908, 1.96245389877908, 1.96245389877908, 1.96245389877908, 1.96245389877908, 1.96245389877908, 1.96245389877908, 1.96245389877908, 1.96245389877908, 1.96245389877908, 1.96245389877908, 1.96245389877908, 1.96245389877908, 1.96245389877908, 1.96245389877908, 1.96245389877908, 1.96245389877908, 1.96245389877908, 1.96245389877908, 1.96245389877908, 1.96245389877908, 1.96245389877908, 1.96245389877908, 1.9543726235741445, 1.9433962264150944, 1.9351724137931035, 1.9351724137931035, 1.9351724137931035, 1.9325137326706776, 1.9325137326706776, 1.9285714285714286, 1.9285714285714286, 1.9285714285714286, 1.9258614879244178, 1.9258614879244178, 1.9258614879244178, 1.9258614879244178, 1.9258614879244178, 1.9258614879244178, 1.9258614879244178, 1.9258614879244178, 1.9258614879244178, 1.9258614879244178, 1.9258614879244178, 1.9258614879244178, 1.9258614879244178, 1.9258614879244178, 1.9258614879244178, 1.9258614879244178, 1.9258614879244178])\n",
      "accuracy_train [0.3745563641006, 0.36165625905557697, 6.078327244342357e-05, 0.0]\n",
      "        ID1     ID2  Comparison     ID1     ID2  Comparison\n",
      "0    1104.0  1864.0    0.320130  1104.0  1864.0         0.0\n",
      "1    1104.0   110.0    0.080305  1104.0   110.0         2.0\n",
      "2    1104.0  1970.0    0.080305  1104.0  1970.0         0.0\n",
      "3    1104.0  1911.0    0.080305  1104.0  1911.0         2.0\n",
      "4    1104.0  1560.0    0.080305  1104.0  1560.0         2.0\n",
      "..      ...     ...         ...     ...     ...         ...\n",
      "995   110.0   584.0    1.214645   110.0   584.0         0.0\n",
      "996   110.0  2015.0    0.855584   110.0  2015.0         0.0\n",
      "997   110.0  1558.0    0.934953   110.0  1558.0         0.0\n",
      "998   110.0   342.0    0.648750   110.0   342.0         0.0\n",
      "999   110.0   487.0    0.745363   110.0   487.0         0.0\n",
      "\n",
      "[1000 rows x 6 columns]\n",
      "reconstructing rank ...\n",
      "Y_pred and Y_test same ID ? True\n",
      "Same length ? True\n",
      "validation 7.792309145111978\n",
      "average Rank_recreated evaluation score at  7.792309145111978 training at : nan training at : nan training at : nan\n",
      "\n",
      "\n"
     ]
    }
   ],
   "source": [
    "from sklearn.ensemble import RandomForestRegressor\n",
    "model=Model(RandomForestRegressor,RandomForestRegressor,depth=10,n_estimators=2)\n",
    "model.get_data_and_order(X_train,Y_train) \n",
    "model.Compute(iterations=1,columns='Rank_recreated',split=False)"
   ]
  },
  {
   "cell_type": "code",
   "execution_count": 2,
   "metadata": {},
   "outputs": [
    {
     "name": "stdout",
     "output_type": "stream",
     "text": [
      "X_train and Y_train same ID ? True\n",
      "X_test and Y_test same ID ? True\n",
      "Country remapped\n",
      "Country remapped\n",
      "pairwise creation done\n",
      "error_val 0.12432796662413442\n",
      "accuracy_val 0.5497412223480667\n",
      "error_train 0.03807050300012767\n",
      "accuracy_train 0.8162980339588919\n",
      "reconstructing rank ...\n",
      "Y_pred and Y_test same ID ? True\n",
      "Same length ? True\n",
      "         ID  Rank_recreated    ID    TARGET    Rank\n",
      "0    1405.0             302  1405  0.246768  1107.0\n",
      "1    1080.0             373  1080  0.001998   760.0\n",
      "2    1846.0             373  1846 -1.155310    74.0\n",
      "3    1199.0              59  1199 -0.637658   165.0\n",
      "4    1639.0             321  1639 -0.121041   515.0\n",
      "..      ...             ...   ...       ...     ...\n",
      "369  1328.0              80  1328 -0.205207   389.0\n",
      "370   711.0              80   711  1.017795  1365.0\n",
      "371   627.0             373   627 -2.567250    15.0\n",
      "372   914.0             373   914  1.732405  1426.0\n",
      "373   456.0             373   456  1.608778  1419.0\n",
      "\n",
      "[374 rows x 5 columns]\n",
      "validation 0.5586297375217139\n",
      "average Rank_recreated evaluation score at  0.5586297375217139 training at : nan training at : nan training at : nan\n",
      "\n",
      "\n"
     ]
    }
   ],
   "source": [
    "from sklearn.ensemble import RandomForestRegressor, RandomForestClassifier\n",
    "from utils.compute_model_performance import *\n",
    "\n",
    "# model=Model(RandomForestRegressor,RandomForestRegressor,depth=3,n_estimators=10)\n",
    "# model.get_data_and_order(X_train,Y_train) \n",
    "# model.Compute(iterations=1,columns='Rank_recreated',split=False)\n",
    "\n",
    "model=Model(RandomForestClassifier,RandomForestClassifier,depth=10,n_estimators=100)\n",
    "model.get_data_and_order(X_train,Y_train) \n",
    "model.Compute(iterations=1,columns='Rank_recreated',split=False)"
   ]
  },
  {
   "cell_type": "code",
   "execution_count": 2,
   "metadata": {},
   "outputs": [
    {
     "name": "stdout",
     "output_type": "stream",
     "text": [
      "X_train and Y_train same ID ? True\n",
      "X_test and Y_test same ID ? True\n",
      "Country remapped\n",
      "Country remapped\n",
      "pairwise creation done\n"
     ]
    },
    {
     "ename": "TypeError",
     "evalue": "'NoneType' object is not subscriptable",
     "output_type": "error",
     "traceback": [
      "\u001b[0;31m---------------------------------------------------------------------------\u001b[0m",
      "\u001b[0;31mTypeError\u001b[0m                                 Traceback (most recent call last)",
      "Cell \u001b[0;32mIn[2], line 5\u001b[0m\n\u001b[1;32m      3\u001b[0m model\u001b[39m=\u001b[39mModel(xgb\u001b[39m.\u001b[39mXGBClassifier,xgb\u001b[39m.\u001b[39mXGBClassifier,depth\u001b[39m=\u001b[39m\u001b[39m10\u001b[39m,n_estimators\u001b[39m=\u001b[39m\u001b[39m50\u001b[39m)\n\u001b[1;32m      4\u001b[0m model\u001b[39m.\u001b[39mget_data_and_order(X_train,Y_train) \n\u001b[0;32m----> 5\u001b[0m model\u001b[39m.\u001b[39;49mCompute(iterations\u001b[39m=\u001b[39;49m\u001b[39m1\u001b[39;49m,columns\u001b[39m=\u001b[39;49m\u001b[39m'\u001b[39;49m\u001b[39mRank_recreated\u001b[39;49m\u001b[39m'\u001b[39;49m,split\u001b[39m=\u001b[39;49m\u001b[39mFalse\u001b[39;49;00m)\n",
      "File \u001b[0;32m~/Challenges_and_fun/Qube/utils/compute_model_performance.py:220\u001b[0m, in \u001b[0;36mModel.Compute\u001b[0;34m(self, iterations, columns, custom_group, group, rank_before, split_countries, split, verbose)\u001b[0m\n\u001b[1;32m    216\u001b[0m Y_pred_pairwise_list\u001b[39m=\u001b[39m\u001b[39mself\u001b[39m\u001b[39m.\u001b[39mregressor_FR\u001b[39m.\u001b[39mpredict(X_test_pairwise\u001b[39m.\u001b[39mdrop([\u001b[39m'\u001b[39m\u001b[39mID1\u001b[39m\u001b[39m'\u001b[39m,\u001b[39m'\u001b[39m\u001b[39mID2\u001b[39m\u001b[39m'\u001b[39m],axis\u001b[39m=\u001b[39m\u001b[39m1\u001b[39m))\n\u001b[1;32m    218\u001b[0m Y_train_pred_pairwise_list\u001b[39m=\u001b[39m\u001b[39mself\u001b[39m\u001b[39m.\u001b[39mregressor_FR\u001b[39m.\u001b[39mpredict(X_train_pairwise\u001b[39m.\u001b[39mdrop([\u001b[39m'\u001b[39m\u001b[39mID1\u001b[39m\u001b[39m'\u001b[39m,\u001b[39m'\u001b[39m\u001b[39mID2\u001b[39m\u001b[39m'\u001b[39m],axis\u001b[39m=\u001b[39m\u001b[39m1\u001b[39m))\n\u001b[0;32m--> 220\u001b[0m \u001b[39mprint\u001b[39m(\u001b[39m\"\u001b[39m\u001b[39merror_val\u001b[39m\u001b[39m\"\u001b[39m,mean_error(Y_pred_pairwise_list, Y_test_pairwise[\u001b[39m'\u001b[39;49m\u001b[39mComparison\u001b[39;49m\u001b[39m'\u001b[39;49m]))\n\u001b[1;32m    222\u001b[0m \u001b[39mprint\u001b[39m(\u001b[39m'\u001b[39m\u001b[39maccuracy_val\u001b[39m\u001b[39m'\u001b[39m,accuracy(Y_pred_pairwise_list, Y_test_pairwise[\u001b[39m'\u001b[39m\u001b[39mComparison\u001b[39m\u001b[39m'\u001b[39m]) )\n\u001b[1;32m    224\u001b[0m \u001b[39mprint\u001b[39m(\u001b[39m\"\u001b[39m\u001b[39merror_train\u001b[39m\u001b[39m\"\u001b[39m,mean_error(Y_train_pred_pairwise_list, Y_train_pairwise[\u001b[39m'\u001b[39m\u001b[39mComparison\u001b[39m\u001b[39m'\u001b[39m]))\n",
      "File \u001b[0;32m~/Challenges_and_fun/Qube/utils/compute_model_performance.py:78\u001b[0m, in \u001b[0;36mmean_error\u001b[0;34m(list1, list2)\u001b[0m\n\u001b[1;32m     76\u001b[0m squared_errors \u001b[39m=\u001b[39m [(x \u001b[39m-\u001b[39m y) \u001b[39mfor\u001b[39;00m x, y \u001b[39min\u001b[39;00m \u001b[39mzip\u001b[39m(list1, list2)]\n\u001b[1;32m     77\u001b[0m mse \u001b[39m=\u001b[39m \u001b[39msum\u001b[39m(squared_errors) \u001b[39m/\u001b[39m \u001b[39mlen\u001b[39m(list1)\n\u001b[0;32m---> 78\u001b[0m \u001b[39mreturn\u001b[39;00m mse , squared_errors\u001b[39m.\u001b[39;49msort(reverse\u001b[39m=\u001b[39;49m\u001b[39mTrue\u001b[39;49;00m)[:\u001b[39m100\u001b[39;49m]\n",
      "\u001b[0;31mTypeError\u001b[0m: 'NoneType' object is not subscriptable"
     ]
    }
   ],
   "source": [
    "import xgboost as xgb\n",
    "\n",
    "model=Model(xgb.XGBClassifier,xgb.XGBClassifier,depth=10,n_estimators=50)\n",
    "model.get_data_and_order(X_train,Y_train) \n",
    "model.Compute(iterations=1,columns='Rank_recreated',split=False)"
   ]
  }
 ],
 "metadata": {
  "kernelspec": {
   "display_name": "qube2",
   "language": "python",
   "name": "python3"
  },
  "language_info": {
   "codemirror_mode": {
    "name": "ipython",
    "version": 3
   },
   "file_extension": ".py",
   "mimetype": "text/x-python",
   "name": "python",
   "nbconvert_exporter": "python",
   "pygments_lexer": "ipython3",
   "version": "3.11.0"
  },
  "orig_nbformat": 4
 },
 "nbformat": 4,
 "nbformat_minor": 2
}
