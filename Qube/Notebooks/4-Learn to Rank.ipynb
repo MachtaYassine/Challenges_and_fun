{
 "cells": [
  {
   "cell_type": "markdown",
   "metadata": {},
   "source": [
    "In the previous Notebooks i've established that using a Linear regression to predict Rank is my best bet.\n",
    "\n",
    "This method is called a pointwise ranking method. and the \"learn to rank\" Theory proposes more ranking methods that i'll try to explore in this norebook. \n",
    "\n",
    "    -Pairwise ranking \n",
    "    -Listwise ranking\n",
    "\n",
    "Let's start with Pairwise ranking there are various methods all from Microsoft researcher Burges\n",
    "RankNet, LambdaRank, LambdaRankMart"
   ]
  },
  {
   "cell_type": "code",
   "execution_count": 1,
   "metadata": {},
   "outputs": [
    {
     "data": {
      "text/html": [
       "<div>\n",
       "<style scoped>\n",
       "    .dataframe tbody tr th:only-of-type {\n",
       "        vertical-align: middle;\n",
       "    }\n",
       "\n",
       "    .dataframe tbody tr th {\n",
       "        vertical-align: top;\n",
       "    }\n",
       "\n",
       "    .dataframe thead th {\n",
       "        text-align: right;\n",
       "    }\n",
       "</style>\n",
       "<table border=\"1\" class=\"dataframe\">\n",
       "  <thead>\n",
       "    <tr style=\"text-align: right;\">\n",
       "      <th></th>\n",
       "      <th>ID</th>\n",
       "      <th>TARGET</th>\n",
       "      <th>Rank</th>\n",
       "    </tr>\n",
       "  </thead>\n",
       "  <tbody>\n",
       "    <tr>\n",
       "      <th>0</th>\n",
       "      <td>1054</td>\n",
       "      <td>0.028313</td>\n",
       "      <td>807.0</td>\n",
       "    </tr>\n",
       "    <tr>\n",
       "      <th>1</th>\n",
       "      <td>2049</td>\n",
       "      <td>-0.112516</td>\n",
       "      <td>532.0</td>\n",
       "    </tr>\n",
       "    <tr>\n",
       "      <th>2</th>\n",
       "      <td>1924</td>\n",
       "      <td>-0.180840</td>\n",
       "      <td>427.0</td>\n",
       "    </tr>\n",
       "    <tr>\n",
       "      <th>3</th>\n",
       "      <td>297</td>\n",
       "      <td>-0.260356</td>\n",
       "      <td>343.0</td>\n",
       "    </tr>\n",
       "    <tr>\n",
       "      <th>4</th>\n",
       "      <td>1101</td>\n",
       "      <td>-0.071733</td>\n",
       "      <td>593.0</td>\n",
       "    </tr>\n",
       "    <tr>\n",
       "      <th>...</th>\n",
       "      <td>...</td>\n",
       "      <td>...</td>\n",
       "      <td>...</td>\n",
       "    </tr>\n",
       "    <tr>\n",
       "      <th>1489</th>\n",
       "      <td>459</td>\n",
       "      <td>-0.172597</td>\n",
       "      <td>440.0</td>\n",
       "    </tr>\n",
       "    <tr>\n",
       "      <th>1490</th>\n",
       "      <td>1674</td>\n",
       "      <td>-0.063546</td>\n",
       "      <td>609.0</td>\n",
       "    </tr>\n",
       "    <tr>\n",
       "      <th>1491</th>\n",
       "      <td>748</td>\n",
       "      <td>0.151797</td>\n",
       "      <td>1016.0</td>\n",
       "    </tr>\n",
       "    <tr>\n",
       "      <th>1492</th>\n",
       "      <td>1454</td>\n",
       "      <td>-0.640917</td>\n",
       "      <td>163.0</td>\n",
       "    </tr>\n",
       "    <tr>\n",
       "      <th>1493</th>\n",
       "      <td>359</td>\n",
       "      <td>-0.252764</td>\n",
       "      <td>348.0</td>\n",
       "    </tr>\n",
       "  </tbody>\n",
       "</table>\n",
       "<p>1494 rows × 3 columns</p>\n",
       "</div>"
      ],
      "text/plain": [
       "        ID    TARGET    Rank\n",
       "0     1054  0.028313   807.0\n",
       "1     2049 -0.112516   532.0\n",
       "2     1924 -0.180840   427.0\n",
       "3      297 -0.260356   343.0\n",
       "4     1101 -0.071733   593.0\n",
       "...    ...       ...     ...\n",
       "1489   459 -0.172597   440.0\n",
       "1490  1674 -0.063546   609.0\n",
       "1491   748  0.151797  1016.0\n",
       "1492  1454 -0.640917   163.0\n",
       "1493   359 -0.252764   348.0\n",
       "\n",
       "[1494 rows x 3 columns]"
      ]
     },
     "execution_count": 1,
     "metadata": {},
     "output_type": "execute_result"
    }
   ],
   "source": [
    "import pandas as pd\n",
    "from scipy.stats import spearmanr\n",
    "import numpy as np\n",
    "from utils.Dataset_modification import *\n",
    "from utils.compute_model_performance import *\n",
    "\n",
    "X_train = pd.read_csv(datasets+'X_train.csv') #datasets is defined in utils\n",
    "Y_train=pd.read_csv(datasets+'Y_train.csv')\n",
    "Y_train['Rank']= Y_train['TARGET'].rank()\n",
    "Y_train"
   ]
  },
  {
   "cell_type": "code",
   "execution_count": 4,
   "metadata": {},
   "outputs": [
    {
     "name": "stdout",
     "output_type": "stream",
     "text": [
      "            ID1     ID2  Comparison\n",
      "0        1054.0  2049.0         2.0\n",
      "1        1054.0  1924.0         2.0\n",
      "2        1054.0   297.0         2.0\n",
      "3        1054.0  1101.0         2.0\n",
      "4        1054.0  1520.0         0.0\n",
      "...         ...     ...         ...\n",
      "1115266  1674.0  1454.0         2.0\n",
      "1115267  1674.0   359.0         2.0\n",
      "1115268   748.0  1454.0         2.0\n",
      "1115269   748.0   359.0         2.0\n",
      "1115270  1454.0   359.0         0.0\n",
      "\n",
      "[1115271 rows x 3 columns]\n"
     ]
    }
   ],
   "source": [
    "df=create_pairwise_dataset(Y_train)\n",
    "print(df)\n"
   ]
  },
  {
   "cell_type": "code",
   "execution_count": 22,
   "metadata": {},
   "outputs": [
    {
     "data": {
      "text/html": [
       "<div>\n",
       "<style scoped>\n",
       "    .dataframe tbody tr th:only-of-type {\n",
       "        vertical-align: middle;\n",
       "    }\n",
       "\n",
       "    .dataframe tbody tr th {\n",
       "        vertical-align: top;\n",
       "    }\n",
       "\n",
       "    .dataframe thead th {\n",
       "        text-align: right;\n",
       "    }\n",
       "</style>\n",
       "<table border=\"1\" class=\"dataframe\">\n",
       "  <thead>\n",
       "    <tr style=\"text-align: right;\">\n",
       "      <th></th>\n",
       "      <th>ID1</th>\n",
       "      <th>ID2</th>\n",
       "      <th>Comparison</th>\n",
       "    </tr>\n",
       "  </thead>\n",
       "  <tbody>\n",
       "    <tr>\n",
       "      <th>0</th>\n",
       "      <td>1054.0</td>\n",
       "      <td>2049.0</td>\n",
       "      <td>0.970357</td>\n",
       "    </tr>\n",
       "    <tr>\n",
       "      <th>1</th>\n",
       "      <td>1054.0</td>\n",
       "      <td>1924.0</td>\n",
       "      <td>0.970357</td>\n",
       "    </tr>\n",
       "    <tr>\n",
       "      <th>2</th>\n",
       "      <td>1054.0</td>\n",
       "      <td>297.0</td>\n",
       "      <td>0.970357</td>\n",
       "    </tr>\n",
       "    <tr>\n",
       "      <th>3</th>\n",
       "      <td>1054.0</td>\n",
       "      <td>1101.0</td>\n",
       "      <td>0.970357</td>\n",
       "    </tr>\n",
       "    <tr>\n",
       "      <th>4</th>\n",
       "      <td>1054.0</td>\n",
       "      <td>1520.0</td>\n",
       "      <td>0.191529</td>\n",
       "    </tr>\n",
       "    <tr>\n",
       "      <th>...</th>\n",
       "      <td>...</td>\n",
       "      <td>...</td>\n",
       "      <td>...</td>\n",
       "    </tr>\n",
       "    <tr>\n",
       "      <th>1115266</th>\n",
       "      <td>1674.0</td>\n",
       "      <td>1454.0</td>\n",
       "      <td>0.970357</td>\n",
       "    </tr>\n",
       "    <tr>\n",
       "      <th>1115267</th>\n",
       "      <td>1674.0</td>\n",
       "      <td>359.0</td>\n",
       "      <td>0.970357</td>\n",
       "    </tr>\n",
       "    <tr>\n",
       "      <th>1115268</th>\n",
       "      <td>748.0</td>\n",
       "      <td>1454.0</td>\n",
       "      <td>0.970357</td>\n",
       "    </tr>\n",
       "    <tr>\n",
       "      <th>1115269</th>\n",
       "      <td>748.0</td>\n",
       "      <td>359.0</td>\n",
       "      <td>0.970357</td>\n",
       "    </tr>\n",
       "    <tr>\n",
       "      <th>1115270</th>\n",
       "      <td>1454.0</td>\n",
       "      <td>359.0</td>\n",
       "      <td>0.191529</td>\n",
       "    </tr>\n",
       "  </tbody>\n",
       "</table>\n",
       "<p>1115271 rows × 3 columns</p>\n",
       "</div>"
      ],
      "text/plain": [
       "            ID1     ID2  Comparison\n",
       "0        1054.0  2049.0    0.970357\n",
       "1        1054.0  1924.0    0.970357\n",
       "2        1054.0   297.0    0.970357\n",
       "3        1054.0  1101.0    0.970357\n",
       "4        1054.0  1520.0    0.191529\n",
       "...         ...     ...         ...\n",
       "1115266  1674.0  1454.0    0.970357\n",
       "1115267  1674.0   359.0    0.970357\n",
       "1115268   748.0  1454.0    0.970357\n",
       "1115269   748.0   359.0    0.970357\n",
       "1115270  1454.0   359.0    0.191529\n",
       "\n",
       "[1115271 rows x 3 columns]"
      ]
     },
     "execution_count": 22,
     "metadata": {},
     "output_type": "execute_result"
    }
   ],
   "source": [
    "import numpy.random as np_random\n",
    "Comp_map = {1.0:np_random.uniform(0.66,1), 0.0: np_random.uniform(0,0.33), 0.5:np_random.uniform(0.33,0.66) } \n",
    "df['Comparison']=df['Comparison'].map(Comp_map)\n",
    "df"
   ]
  },
  {
   "cell_type": "code",
   "execution_count": 23,
   "metadata": {},
   "outputs": [
    {
     "data": {
      "text/html": [
       "<div>\n",
       "<style scoped>\n",
       "    .dataframe tbody tr th:only-of-type {\n",
       "        vertical-align: middle;\n",
       "    }\n",
       "\n",
       "    .dataframe tbody tr th {\n",
       "        vertical-align: top;\n",
       "    }\n",
       "\n",
       "    .dataframe thead th {\n",
       "        text-align: right;\n",
       "    }\n",
       "</style>\n",
       "<table border=\"1\" class=\"dataframe\">\n",
       "  <thead>\n",
       "    <tr style=\"text-align: right;\">\n",
       "      <th></th>\n",
       "      <th>ID</th>\n",
       "      <th>Rank_recreated</th>\n",
       "    </tr>\n",
       "  </thead>\n",
       "  <tbody>\n",
       "    <tr>\n",
       "      <th>0</th>\n",
       "      <td>0.0</td>\n",
       "      <td>455</td>\n",
       "    </tr>\n",
       "    <tr>\n",
       "      <th>1</th>\n",
       "      <td>2.0</td>\n",
       "      <td>778</td>\n",
       "    </tr>\n",
       "    <tr>\n",
       "      <th>2</th>\n",
       "      <td>3.0</td>\n",
       "      <td>364</td>\n",
       "    </tr>\n",
       "    <tr>\n",
       "      <th>3</th>\n",
       "      <td>4.0</td>\n",
       "      <td>810</td>\n",
       "    </tr>\n",
       "    <tr>\n",
       "      <th>4</th>\n",
       "      <td>5.0</td>\n",
       "      <td>589</td>\n",
       "    </tr>\n",
       "    <tr>\n",
       "      <th>...</th>\n",
       "      <td>...</td>\n",
       "      <td>...</td>\n",
       "    </tr>\n",
       "    <tr>\n",
       "      <th>1489</th>\n",
       "      <td>2142.0</td>\n",
       "      <td>1357</td>\n",
       "    </tr>\n",
       "    <tr>\n",
       "      <th>1490</th>\n",
       "      <td>2143.0</td>\n",
       "      <td>1314</td>\n",
       "    </tr>\n",
       "    <tr>\n",
       "      <th>1491</th>\n",
       "      <td>2144.0</td>\n",
       "      <td>571</td>\n",
       "    </tr>\n",
       "    <tr>\n",
       "      <th>1492</th>\n",
       "      <td>2145.0</td>\n",
       "      <td>434</td>\n",
       "    </tr>\n",
       "    <tr>\n",
       "      <th>1493</th>\n",
       "      <td>2146.0</td>\n",
       "      <td>701</td>\n",
       "    </tr>\n",
       "  </tbody>\n",
       "</table>\n",
       "<p>1494 rows × 2 columns</p>\n",
       "</div>"
      ],
      "text/plain": [
       "          ID  Rank_recreated\n",
       "0        0.0             455\n",
       "1        2.0             778\n",
       "2        3.0             364\n",
       "3        4.0             810\n",
       "4        5.0             589\n",
       "...      ...             ...\n",
       "1489  2142.0            1357\n",
       "1490  2143.0            1314\n",
       "1491  2144.0             571\n",
       "1492  2145.0             434\n",
       "1493  2146.0             701\n",
       "\n",
       "[1494 rows x 2 columns]"
      ]
     },
     "execution_count": 23,
     "metadata": {},
     "output_type": "execute_result"
    }
   ],
   "source": [
    "remade=reconstruct_original_dataset(df)\n",
    "remade"
   ]
  },
  {
   "cell_type": "code",
   "execution_count": 24,
   "metadata": {},
   "outputs": [
    {
     "data": {
      "text/plain": [
       "True"
      ]
     },
     "execution_count": 24,
     "metadata": {},
     "output_type": "execute_result"
    }
   ],
   "source": [
    "sorted=remade.sort_values(by=['ID'], key=lambda x: x.map({k: i for i, k in enumerate(Y_train['ID'].tolist())}))\n",
    "sorted['ID'].tolist()==Y_train['ID'].tolist()"
   ]
  },
  {
   "cell_type": "code",
   "execution_count": 25,
   "metadata": {},
   "outputs": [
    {
     "name": "stdout",
     "output_type": "stream",
     "text": [
      "TARGET AND reconstructed Rank : 0.9999998515590814\n"
     ]
    }
   ],
   "source": [
    "from scipy.stats import spearmanr\n",
    "print(\"TARGET AND reconstructed Rank :\" ,spearmanr(sorted[\"Rank_recreated\"], Y_train[\"TARGET\"]).correlation)\n"
   ]
  },
  {
   "cell_type": "markdown",
   "metadata": {},
   "source": [
    "Predicting Pairwise ranking accurately -> predicting Ranking accurately -> high spearman score\n",
    "\n",
    "meaning our method of creating pairwise ranking and prediction a pairwise ranking ID by ID might help determine a more accurate ranking. Now let's Get a  X_train_pairwise that matches our Y_train_Pairwise"
   ]
  },
  {
   "cell_type": "code",
   "execution_count": 6,
   "metadata": {},
   "outputs": [
    {
     "name": "stdout",
     "output_type": "stream",
     "text": [
      "Country remapped\n"
     ]
    }
   ],
   "source": [
    "X_train_pairwise=get_training_pairwise(X_train)"
   ]
  },
  {
   "cell_type": "code",
   "execution_count": 13,
   "metadata": {},
   "outputs": [
    {
     "name": "stdout",
     "output_type": "stream",
     "text": [
      "[7.786577856046542, 7.138604025388376, 6.836019876868637, 6.681753850368199, 6.151133366269985, 6.094297093901249, 6.009904429692065, 5.57011518732641, 5.0164912760257, 5.015579833097478]\n"
     ]
    }
   ],
   "source": [
    "print(sorted(Y_train['TARGET'].tolist(),reverse=True)[:10])"
   ]
  },
  {
   "cell_type": "code",
   "execution_count": 1,
   "metadata": {},
   "outputs": [
    {
     "name": "stdout",
     "output_type": "stream",
     "text": [
      "X_train and Y_train same ID ? True\n",
      "X_test and Y_test same ID ? True\n",
      "Country remapped\n",
      "Country remapped\n",
      "pairwise creation done\n",
      "list length is 69751\n",
      "error_val -0.04701839328939873\n",
      "accuracy_val [0.40577196025863427, (0.4740220488759679, 34741), (0.3380466763790099, 35007)]\n",
      "list length is 626640\n",
      "error_train -4.811549331934183e-16\n",
      "accuracy_train [0.44191561343035873, (0.4974421885542538, 326060), (0.38169876796236346, 300559)]\n",
      "        ID1     ID2  Comparison     ID1     ID2  Comparison\n",
      "0     256.0   276.0    0.608195   256.0   276.0         2.0\n",
      "1     256.0  1150.0    1.086770   256.0  1150.0         0.0\n",
      "2     256.0   347.0    0.917707   256.0   347.0         2.0\n",
      "3     256.0  1109.0    0.985450   256.0  1109.0         2.0\n",
      "4     256.0  1898.0    0.694000   256.0  1898.0         2.0\n",
      "..      ...     ...         ...     ...     ...         ...\n",
      "995  1150.0   343.0    0.756570  1150.0   343.0         2.0\n",
      "996  1150.0  1249.0    0.596868  1150.0  1249.0         2.0\n",
      "997  1150.0   737.0    0.610526  1150.0   737.0         0.0\n",
      "998  1150.0  1754.0    1.040789  1150.0  1754.0         0.0\n",
      "999  1150.0  1511.0    0.734300  1150.0  1511.0         2.0\n",
      "\n",
      "[1000 rows x 6 columns]\n",
      "reconstructing rank ...\n",
      "         ID  Rank_recreated    ID    TARGET\n",
      "0     256.0              26   256  0.047890\n",
      "1     276.0              99   276 -0.564676\n",
      "2    1150.0              10  1150  0.248210\n",
      "3     347.0              22   347 -0.314016\n",
      "4    1109.0              45  1109 -0.272195\n",
      "..      ...             ...   ...       ...\n",
      "369  1880.0             348  1880  0.009669\n",
      "370  1421.0              54  1421 -0.184553\n",
      "371  1098.0             208  1098  0.000000\n",
      "372   755.0             282   755  0.013988\n",
      "373   565.0             277   565  0.135251\n",
      "\n",
      "[374 rows x 4 columns]\n",
      "Y_pred and Y_test same ID ? True\n",
      "Same length ? True\n",
      "evaluate 24.916122783012483\n",
      "evaluate 32.56923521914853\n",
      "validation 24.916122783012483 training 32.56923521914853\n",
      "average Rank_recreated evaluation score at  24.916122783012483 training at : 32.56923521914853 training at : nan training at : nan\n",
      "\n",
      "\n"
     ]
    }
   ],
   "source": [
    "import pandas as pd\n",
    "from scipy.stats import spearmanr\n",
    "import numpy as np\n",
    "from utils.Dataset_modification import *\n",
    "from utils.compute_model_performance import *\n",
    "\n",
    "X_train = pd.read_csv(datasets+'X_train.csv') #datasets is defined in utils\n",
    "Y_train=pd.read_csv(datasets+'Y_train.csv')\n",
    "\n",
    "from sklearn.linear_model import LinearRegression\n",
    "from utils.compute_model_performance import *\n",
    "\n",
    "model=Model(LinearRegression,LinearRegression)\n",
    "model.get_data_and_order(X_train,Y_train) \n",
    "# model.Compute(iterations=100,custom_group=2,group=True)\n",
    "model.Compute(iterations=1,columns='Rank_recreated',split=False)\n",
    "\n"
   ]
  },
  {
   "cell_type": "code",
   "execution_count": 2,
   "metadata": {},
   "outputs": [
    {
     "ename": "TypeError",
     "evalue": "Model.__init__() got an unexpected keyword argument 'solver'",
     "output_type": "error",
     "traceback": [
      "\u001b[0;31m---------------------------------------------------------------------------\u001b[0m",
      "\u001b[0;31mTypeError\u001b[0m                                 Traceback (most recent call last)",
      "Cell \u001b[0;32mIn[2], line 13\u001b[0m\n\u001b[1;32m     10\u001b[0m \u001b[39mfrom\u001b[39;00m \u001b[39msklearn\u001b[39;00m\u001b[39m.\u001b[39;00m\u001b[39mlinear_model\u001b[39;00m \u001b[39mimport\u001b[39;00m LogisticRegression\n\u001b[1;32m     11\u001b[0m \u001b[39mfrom\u001b[39;00m \u001b[39mutils\u001b[39;00m\u001b[39m.\u001b[39;00m\u001b[39mcompute_model_performance\u001b[39;00m \u001b[39mimport\u001b[39;00m \u001b[39m*\u001b[39m\n\u001b[0;32m---> 13\u001b[0m model\u001b[39m=\u001b[39mModel(LogisticRegression,LogisticRegression,max_iter\u001b[39m=\u001b[39;49m\u001b[39m1000000\u001b[39;49m,solver\u001b[39m=\u001b[39;49m\u001b[39m'\u001b[39;49m\u001b[39mlbfgs\u001b[39;49m\u001b[39m'\u001b[39;49m)\n\u001b[1;32m     14\u001b[0m model\u001b[39m.\u001b[39mget_data_and_order(X_train,Y_train) \n\u001b[1;32m     15\u001b[0m \u001b[39m# model.Compute(iterations=100,custom_group=2,group=True)\u001b[39;00m\n",
      "\u001b[0;31mTypeError\u001b[0m: Model.__init__() got an unexpected keyword argument 'solver'"
     ]
    }
   ],
   "source": [
    "import pandas as pd\n",
    "from scipy.stats import spearmanr\n",
    "import numpy as np\n",
    "from utils.Dataset_modification import *\n",
    "from utils.compute_model_performance import *\n",
    "\n",
    "X_train = pd.read_csv(datasets+'X_train.csv') #datasets is defined in utils\n",
    "Y_train=pd.read_csv(datasets+'Y_train.csv')\n",
    "\n",
    "from sklearn.linear_model import LogisticRegression\n",
    "from utils.compute_model_performance import *\n",
    "\n",
    "model=Model(LogisticRegression,LogisticRegression,max_iter=1000000,Solver='lbfgs')\n",
    "model.get_data_and_order(X_train,Y_train) \n",
    "# model.Compute(iterations=100,custom_group=2,group=True)\n",
    "model.Compute(iterations=1,columns='Rank_recreated',split=False)\n",
    "\n"
   ]
  },
  {
   "cell_type": "code",
   "execution_count": 5,
   "metadata": {},
   "outputs": [
    {
     "name": "stdout",
     "output_type": "stream",
     "text": [
      "X_train and Y_train same ID ? True\n",
      "X_test and Y_test same ID ? True\n",
      "Country remapped\n",
      "Country remapped\n",
      "pairwise creation done\n"
     ]
    },
    {
     "name": "stderr",
     "output_type": "stream",
     "text": [
      "/home/ymachta/miniconda3/envs/qube/lib/python3.11/site-packages/sklearn/base.py:432: UserWarning: X has feature names, but OrdinalRidge was fitted without feature names\n",
      "  warnings.warn(\n",
      "/home/ymachta/miniconda3/envs/qube/lib/python3.11/site-packages/sklearn/base.py:432: UserWarning: X has feature names, but OrdinalRidge was fitted without feature names\n",
      "  warnings.warn(\n"
     ]
    },
    {
     "name": "stdout",
     "output_type": "stream",
     "text": [
      "list length is 69751\n",
      "error_val (-0.031211022064199796, [2.0, 2.0, 2.0, 2.0, 2.0, 2.0, 2.0, 2.0, 2.0, 2.0, 2.0, 2.0, 2.0, 2.0, 2.0, 2.0, 2.0, 2.0, 2.0, 2.0, 2.0, 2.0, 2.0, 2.0, 2.0, 2.0, 2.0, 2.0, 2.0, 2.0, 2.0, 2.0, 2.0, 2.0, 2.0, 2.0, 2.0, 2.0, 2.0, 2.0, 2.0, 2.0, 2.0, 2.0, 2.0, 2.0, 2.0, 2.0, 2.0, 2.0, 2.0, 2.0, 2.0, 2.0, 2.0, 2.0, 2.0, 2.0, 2.0, 2.0, 2.0, 2.0, 2.0, 2.0, 2.0, 2.0, 2.0, 2.0, 2.0, 2.0, 2.0, 2.0, 2.0, 2.0, 2.0, 2.0, 2.0, 2.0, 2.0, 2.0, 2.0, 2.0, 2.0, 2.0, 2.0, 2.0, 2.0, 2.0, 2.0, 2.0, 2.0, 2.0, 2.0, 2.0, 2.0, 2.0, 2.0, 2.0, 2.0, 2.0])\n",
      "accuracy_val [0.03346188585109891, 0.04778986345753298, 0.01930073905628198, 1.0]\n",
      "list length is 626640\n",
      "error_train (0.0028708668453976765, [2.0, 2.0, 2.0, 2.0, 2.0, 2.0, 2.0, 2.0, 2.0, 2.0, 2.0, 2.0, 2.0, 2.0, 2.0, 2.0, 2.0, 2.0, 2.0, 2.0, 2.0, 2.0, 2.0, 2.0, 2.0, 2.0, 2.0, 2.0, 2.0, 2.0, 2.0, 2.0, 2.0, 2.0, 2.0, 2.0, 2.0, 2.0, 2.0, 2.0, 2.0, 2.0, 2.0, 2.0, 2.0, 2.0, 2.0, 2.0, 2.0, 2.0, 2.0, 2.0, 2.0, 2.0, 2.0, 2.0, 2.0, 2.0, 2.0, 2.0, 2.0, 2.0, 2.0, 2.0, 2.0, 2.0, 2.0, 2.0, 2.0, 2.0, 2.0, 2.0, 2.0, 2.0, 2.0, 2.0, 2.0, 2.0, 2.0, 2.0, 2.0, 2.0, 2.0, 2.0, 2.0, 2.0, 2.0, 2.0, 2.0, 2.0, 2.0, 2.0, 2.0, 2.0, 2.0, 2.0, 2.0, 2.0, 2.0, 2.0])\n",
      "accuracy_train [0.053446955189582535, 0.06206467348940129, 0.044500708341573006, 0.9047619047619048]\n",
      "        ID1     ID2  Comparison     ID1     ID2  Comparison\n",
      "0    1909.0  1611.0         1.0  1909.0  1611.0         0.0\n",
      "1    1909.0   621.0         0.0  1909.0   621.0         0.0\n",
      "2    1909.0  1721.0         1.0  1909.0  1721.0         2.0\n",
      "3    1909.0   909.0         1.0  1909.0   909.0         0.0\n",
      "4    1909.0  1139.0         1.0  1909.0  1139.0         0.0\n",
      "..      ...     ...         ...     ...     ...         ...\n",
      "995   621.0   308.0         1.0   621.0   308.0         2.0\n",
      "996   621.0   444.0         1.0   621.0   444.0         0.0\n",
      "997   621.0   443.0         1.0   621.0   443.0         2.0\n",
      "998   621.0   575.0         1.0   621.0   575.0         2.0\n",
      "999   621.0   282.0         1.0   621.0   282.0         2.0\n",
      "\n",
      "[1000 rows x 6 columns]\n",
      "reconstructing rank ...\n",
      "Y_pred and Y_test same ID ? True\n",
      "Same length ? True\n",
      "validation 11.696574840130635\n",
      "X_train and Y_train same ID ? True\n",
      "X_test and Y_test same ID ? True\n",
      "Country remapped\n",
      "Country remapped\n",
      "pairwise creation done\n"
     ]
    },
    {
     "name": "stderr",
     "output_type": "stream",
     "text": [
      "/home/ymachta/miniconda3/envs/qube/lib/python3.11/site-packages/sklearn/base.py:432: UserWarning: X has feature names, but OrdinalRidge was fitted without feature names\n",
      "  warnings.warn(\n",
      "/home/ymachta/miniconda3/envs/qube/lib/python3.11/site-packages/sklearn/base.py:432: UserWarning: X has feature names, but OrdinalRidge was fitted without feature names\n",
      "  warnings.warn(\n"
     ]
    },
    {
     "name": "stdout",
     "output_type": "stream",
     "text": [
      "list length is 69751\n",
      "error_val (-0.04789895485369385, [2.0, 2.0, 2.0, 2.0, 2.0, 2.0, 2.0, 2.0, 2.0, 2.0, 2.0, 2.0, 2.0, 2.0, 2.0, 2.0, 2.0, 2.0, 2.0, 2.0, 2.0, 2.0, 2.0, 2.0, 2.0, 2.0, 2.0, 2.0, 2.0, 2.0, 2.0, 2.0, 2.0, 2.0, 2.0, 2.0, 2.0, 2.0, 2.0, 2.0, 2.0, 2.0, 2.0, 2.0, 2.0, 2.0, 2.0, 2.0, 2.0, 2.0, 2.0, 2.0, 2.0, 2.0, 2.0, 2.0, 2.0, 2.0, 2.0, 2.0, 2.0, 2.0, 2.0, 2.0, 2.0, 2.0, 2.0, 2.0, 2.0, 2.0, 2.0, 2.0, 2.0, 2.0, 2.0, 2.0, 2.0, 2.0, 2.0, 2.0, 2.0, 2.0, 2.0, 2.0, 2.0, 2.0, 2.0, 2.0, 2.0, 2.0, 2.0, 2.0, 2.0, 2.0, 2.0, 2.0, 2.0, 2.0, 2.0, 2.0])\n",
      "accuracy_val [0.03852274519361729, 0.04162912236438998, 0.03565942506034672, 1.0]\n",
      "list length is 626640\n",
      "error_train (-0.0047060513213328225, [2.0, 2.0, 2.0, 2.0, 2.0, 2.0, 2.0, 2.0, 2.0, 2.0, 2.0, 2.0, 2.0, 2.0, 2.0, 2.0, 2.0, 2.0, 2.0, 2.0, 2.0, 2.0, 2.0, 2.0, 2.0, 2.0, 2.0, 2.0, 2.0, 2.0, 2.0, 2.0, 2.0, 2.0, 2.0, 2.0, 2.0, 2.0, 2.0, 2.0, 2.0, 2.0, 2.0, 2.0, 2.0, 2.0, 2.0, 2.0, 2.0, 2.0, 2.0, 2.0, 2.0, 2.0, 2.0, 2.0, 2.0, 2.0, 2.0, 2.0, 2.0, 2.0, 2.0, 2.0, 2.0, 2.0, 2.0, 2.0, 2.0, 2.0, 2.0, 2.0, 2.0, 2.0, 2.0, 2.0, 2.0, 2.0, 2.0, 2.0, 2.0, 2.0, 2.0, 2.0, 2.0, 2.0, 2.0, 2.0, 2.0, 2.0, 2.0, 2.0, 2.0, 2.0, 2.0, 2.0, 2.0, 2.0, 2.0, 2.0])\n",
      "accuracy_train [0.04999042512447338, 0.047739379208260956, 0.05214629518578803, 0.8214285714285714]\n",
      "       ID1     ID2  Comparison    ID1     ID2  Comparison\n",
      "0    107.0   405.0         1.0  107.0   405.0         0.0\n",
      "1    107.0   905.0         2.0  107.0   905.0         2.0\n",
      "2    107.0   779.0         1.0  107.0   779.0         0.0\n",
      "3    107.0  1394.0         1.0  107.0  1394.0         0.0\n",
      "4    107.0  1312.0         1.0  107.0  1312.0         0.0\n",
      "..     ...     ...         ...    ...     ...         ...\n",
      "995  905.0  1857.0         1.0  905.0  1857.0         0.0\n",
      "996  905.0   322.0         0.0  905.0   322.0         0.0\n",
      "997  905.0  1517.0         1.0  905.0  1517.0         0.0\n",
      "998  905.0   237.0         0.0  905.0   237.0         0.0\n",
      "999  905.0  1147.0         1.0  905.0  1147.0         0.0\n",
      "\n",
      "[1000 rows x 6 columns]\n",
      "reconstructing rank ...\n",
      "Y_pred and Y_test same ID ? True\n",
      "Same length ? True\n",
      "validation 21.37509232543512\n",
      "average Rank_recreated evaluation score at  16.535833582782878 training at : nan training at : nan training at : nan\n",
      "\n",
      "\n"
     ]
    }
   ],
   "source": [
    "from mord import OrdinalRidge\n",
    "from utils.compute_model_performance import *\n",
    "model=Model(OrdinalRidge,OrdinalRidge)\n",
    "model.get_data_and_order(X_train,Y_train) \n",
    "model.Compute(iterations=2,columns='Rank_recreated',split=False)"
   ]
  },
  {
   "cell_type": "code",
   "execution_count": 7,
   "metadata": {},
   "outputs": [
    {
     "name": "stdout",
     "output_type": "stream",
     "text": [
      "X_train and Y_train same ID ? True\n",
      "X_test and Y_test same ID ? True\n",
      "Country remapped\n",
      "Country remapped\n",
      "pairwise creation done\n",
      "list length is 69751\n",
      "error_val (-0.043252548783399083, [2.0, 2.0, 2.0, 2.0, 2.0, 2.0, 2.0, 2.0, 2.0, 2.0, 2.0, 2.0, 2.0, 2.0, 2.0, 2.0, 2.0, 2.0, 2.0, 2.0, 2.0, 2.0, 2.0, 2.0, 2.0, 2.0, 2.0, 2.0, 2.0, 2.0, 2.0, 2.0, 2.0, 2.0, 2.0, 2.0, 2.0, 2.0, 2.0, 2.0, 2.0, 2.0, 2.0, 2.0, 2.0, 2.0, 2.0, 2.0, 2.0, 2.0, 2.0, 2.0, 2.0, 2.0, 2.0, 2.0, 2.0, 2.0, 2.0, 2.0, 2.0, 2.0, 2.0, 2.0, 2.0, 2.0, 2.0, 2.0, 2.0, 2.0, 2.0, 2.0, 2.0, 2.0, 2.0, 2.0, 2.0, 2.0, 2.0, 1.9971509971509973, 1.9971509971509973, 1.9940968122786304, 1.9940968122786304, 1.9922813036020584, 1.9922813036020584, 1.9922813036020584, 1.9922813036020584, 1.9902912621359223, 1.989648033126294, 1.989648033126294, 1.989648033126294, 1.989648033126294, 1.989648033126294, 1.989648033126294, 1.989648033126294, 1.989648033126294, 1.989648033126294, 1.989648033126294, 1.9876543209876543, 1.9876543209876543])\n",
      "accuracy_val [0.22844116930223224, (0.2211924802768572, 34097), (0.23530896749039298, 35651), (1.0, 3)]\n",
      "list length is 626640\n",
      "error_train (0.0006912045746452818, [2.0, 2.0, 2.0, 2.0, 2.0, 2.0, 2.0, 2.0, 2.0, 2.0, 2.0, 2.0, 2.0, 2.0, 2.0, 2.0, 2.0, 2.0, 2.0, 2.0, 2.0, 2.0, 2.0, 2.0, 2.0, 2.0, 2.0, 2.0, 2.0, 2.0, 2.0, 2.0, 2.0, 2.0, 2.0, 1.997491938373343, 1.997491938373343, 1.997491938373343, 1.997491938373343, 1.9915254237288136, 1.9893617021276597, 1.988628762541806, 1.9884421646176869, 1.986120700915149, 1.986120700915149, 1.986120700915149, 1.986120700915149, 1.986120700915149, 1.986120700915149, 1.986120700915149, 1.9846153846153847, 1.9830508474576272, 1.9816272965879265, 1.980891719745223, 1.980884109916368, 1.980884109916368, 1.9804459280265734, 1.9804459280265734, 1.9804459280265734, 1.9804459280265734, 1.9804459280265734, 1.9804459280265734, 1.9804459280265734, 1.9795918367346939, 1.9795918367346939, 1.9795918367346939, 1.9778600491952347, 1.9778600491952347, 1.9778600491952347, 1.9778600491952347, 1.9778600491952347, 1.9778600491952347, 1.9778600491952347, 1.9778600491952347, 1.9775512473846284, 1.9775512473846284, 1.9775512473846284, 1.9775512473846284, 1.9775512473846284, 1.9775512473846284, 1.9775512473846284, 1.9775512473846284, 1.9764705882352942, 1.974814968559986, 1.974814968559986, 1.974814968559986, 1.974814968559986, 1.974814968559986, 1.974814968559986, 1.974814968559986, 1.974814968559986, 1.974814968559986, 1.974814968559986, 1.974814968559986, 1.974814968559986, 1.972972972972973, 1.9726648262069866, 1.9726648262069866, 1.9726648262069866, 1.9726648262069866])\n",
      "accuracy_train [0.4833508872717988, (0.4625866874068313, 308580), (0.5034728445253569, 318039), (0.8571428571428571, 21)]\n",
      "        ID1     ID2  Comparison     ID1     ID2  Comparison\n",
      "0    1973.0  1110.0    1.803176  1973.0  1110.0         0.0\n",
      "1    1973.0  1876.0    1.725689  1973.0  1876.0         0.0\n",
      "2    1973.0  1391.0    1.263816  1973.0  1391.0         2.0\n",
      "3    1973.0   497.0    1.277519  1973.0   497.0         0.0\n",
      "4    1973.0  1891.0    1.932203  1973.0  1891.0         0.0\n",
      "..      ...     ...         ...     ...     ...         ...\n",
      "995  1876.0   725.0    1.536082  1876.0   725.0         2.0\n",
      "996  1876.0   522.0    0.364608  1876.0   522.0         2.0\n",
      "997  1876.0   372.0    0.783345  1876.0   372.0         2.0\n",
      "998  1876.0  1180.0    0.218980  1876.0  1180.0         2.0\n",
      "999  1876.0  2065.0    0.783345  1876.0  2065.0         2.0\n",
      "\n",
      "[1000 rows x 6 columns]\n",
      "reconstructing rank ...\n",
      "Y_pred and Y_test same ID ? True\n",
      "Same length ? True\n",
      "validation 13.47579386795927\n",
      "average Rank_recreated evaluation score at  13.47579386795927 training at : nan training at : nan training at : nan\n",
      "\n",
      "\n"
     ]
    }
   ],
   "source": [
    "from sklearn.ensemble import RandomForestRegressor\n",
    "model=Model(RandomForestRegressor,RandomForestRegressor,depth=13,n_estimators=2)\n",
    "model.get_data_and_order(X_train,Y_train) \n",
    "model.Compute(iterations=1,columns='Rank_recreated',split=False)"
   ]
  },
  {
   "cell_type": "code",
   "execution_count": 10,
   "metadata": {},
   "outputs": [
    {
     "name": "stdout",
     "output_type": "stream",
     "text": [
      "X_train and Y_train same ID ? True\n",
      "X_test and Y_test same ID ? True\n",
      "Country remapped\n",
      "Country remapped\n",
      "pairwise creation done\n",
      "list length is 69751\n",
      "error_val (-0.04143309773336583, [2.0, 2.0, 2.0, 2.0, 2.0, 2.0, 2.0, 2.0, 2.0, 2.0, 2.0, 2.0, 2.0, 2.0, 2.0, 2.0, 2.0, 2.0, 2.0, 2.0, 2.0, 2.0, 2.0, 2.0, 2.0, 2.0, 2.0, 2.0, 2.0, 2.0, 2.0, 2.0, 2.0, 2.0, 2.0, 2.0, 2.0, 2.0, 2.0, 2.0, 2.0, 2.0, 2.0, 2.0, 2.0, 2.0, 2.0, 2.0, 2.0, 2.0, 2.0, 2.0, 2.0, 2.0, 2.0, 2.0, 2.0, 2.0, 2.0, 2.0, 2.0, 2.0, 2.0, 2.0, 2.0, 2.0, 2.0, 2.0, 2.0, 2.0, 2.0, 2.0, 2.0, 2.0, 2.0, 2.0, 2.0, 2.0, 2.0, 2.0, 2.0, 2.0, 2.0, 2.0, 2.0, 2.0, 2.0, 2.0, 2.0, 2.0, 2.0, 2.0, 2.0, 2.0, 2.0, 2.0, 2.0, 2.0, 2.0, 2.0])\n",
      "accuracy_val [0.530200283866898, 0.5290898704110165, 0.0]\n",
      "list length is 626640\n",
      "error_train (0.0012894165709179113, [2.0, 2.0, 2.0, 2.0, 2.0, 2.0, 2.0, 2.0, 2.0, 2.0, 2.0, 2.0, 2.0, 2.0, 2.0, 2.0, 2.0, 2.0, 2.0, 2.0, 2.0, 2.0, 2.0, 2.0, 2.0, 2.0, 2.0, 2.0, 2.0, 2.0, 2.0, 2.0, 2.0, 2.0, 2.0, 2.0, 2.0, 2.0, 2.0, 2.0, 2.0, 2.0, 2.0, 2.0, 2.0, 2.0, 2.0, 2.0, 2.0, 2.0, 2.0, 2.0, 2.0, 2.0, 2.0, 2.0, 2.0, 2.0, 2.0, 2.0, 2.0, 2.0, 2.0, 2.0, 2.0, 2.0, 2.0, 2.0, 2.0, 2.0, 2.0, 2.0, 2.0, 2.0, 2.0, 2.0, 2.0, 2.0, 2.0, 2.0, 2.0, 2.0, 2.0, 2.0, 2.0, 2.0, 2.0, 2.0, 2.0, 2.0, 2.0, 2.0, 2.0, 2.0, 2.0, 2.0, 2.0, 2.0, 2.0, 2.0])\n",
      "accuracy_train [0.7864164432529044, 0.7871213947645573, 0.0]\n",
      "        ID1     ID2  Comparison     ID1     ID2  Comparison\n",
      "0     156.0  1443.0         0.0   156.0  1443.0         2.0\n",
      "1     156.0  1364.0         2.0   156.0  1364.0         2.0\n",
      "2     156.0   637.0         2.0   156.0   637.0         0.0\n",
      "3     156.0  1654.0         0.0   156.0  1654.0         0.0\n",
      "4     156.0  2118.0         2.0   156.0  2118.0         2.0\n",
      "..      ...     ...         ...     ...     ...         ...\n",
      "995  1364.0  1686.0         0.0  1364.0  1686.0         0.0\n",
      "996  1364.0  1800.0         0.0  1364.0  1800.0         0.0\n",
      "997  1364.0  1201.0         0.0  1364.0  1201.0         0.0\n",
      "998  1364.0  2001.0         0.0  1364.0  2001.0         0.0\n",
      "999  1364.0  1943.0         0.0  1364.0  1943.0         0.0\n",
      "\n",
      "[1000 rows x 6 columns]\n",
      "reconstructing rank ...\n",
      "Y_pred and Y_test same ID ? True\n",
      "Same length ? True\n",
      "validation 8.697983480442929\n",
      "average Rank_recreated evaluation score at  8.697983480442929 training at : nan training at : nan training at : nan\n",
      "\n",
      "\n"
     ]
    }
   ],
   "source": [
    "from sklearn.ensemble import RandomForestRegressor, RandomForestClassifier\n",
    "from utils.compute_model_performance import *\n",
    "\n",
    "# model=Model(RandomForestRegressor,RandomForestRegressor,depth=3,n_estimators=10)\n",
    "# model.get_data_and_order(X_train,Y_train) \n",
    "# model.Compute(iterations=1,columns='Rank_recreated',split=False)\n",
    "\n",
    "model=Model(RandomForestClassifier,RandomForestClassifier,depth=10,n_estimators=5)\n",
    "model.get_data_and_order(X_train,Y_train) \n",
    "model.Compute(iterations=1,columns='Rank_recreated',split=False)"
   ]
  },
  {
   "cell_type": "code",
   "execution_count": 2,
   "metadata": {},
   "outputs": [
    {
     "name": "stdout",
     "output_type": "stream",
     "text": [
      "X_train and Y_train same ID ? True\n",
      "X_test and Y_test same ID ? True\n",
      "Country remapped\n",
      "Country remapped\n",
      "pairwise creation done\n"
     ]
    },
    {
     "ename": "TypeError",
     "evalue": "'NoneType' object is not subscriptable",
     "output_type": "error",
     "traceback": [
      "\u001b[0;31m---------------------------------------------------------------------------\u001b[0m",
      "\u001b[0;31mTypeError\u001b[0m                                 Traceback (most recent call last)",
      "Cell \u001b[0;32mIn[2], line 5\u001b[0m\n\u001b[1;32m      3\u001b[0m model\u001b[39m=\u001b[39mModel(xgb\u001b[39m.\u001b[39mXGBClassifier,xgb\u001b[39m.\u001b[39mXGBClassifier,depth\u001b[39m=\u001b[39m\u001b[39m10\u001b[39m,n_estimators\u001b[39m=\u001b[39m\u001b[39m50\u001b[39m)\n\u001b[1;32m      4\u001b[0m model\u001b[39m.\u001b[39mget_data_and_order(X_train,Y_train) \n\u001b[0;32m----> 5\u001b[0m model\u001b[39m.\u001b[39;49mCompute(iterations\u001b[39m=\u001b[39;49m\u001b[39m1\u001b[39;49m,columns\u001b[39m=\u001b[39;49m\u001b[39m'\u001b[39;49m\u001b[39mRank_recreated\u001b[39;49m\u001b[39m'\u001b[39;49m,split\u001b[39m=\u001b[39;49m\u001b[39mFalse\u001b[39;49;00m)\n",
      "File \u001b[0;32m~/Challenges_and_fun/Qube/utils/compute_model_performance.py:220\u001b[0m, in \u001b[0;36mModel.Compute\u001b[0;34m(self, iterations, columns, custom_group, group, rank_before, split_countries, split, verbose)\u001b[0m\n\u001b[1;32m    216\u001b[0m Y_pred_pairwise_list\u001b[39m=\u001b[39m\u001b[39mself\u001b[39m\u001b[39m.\u001b[39mregressor_FR\u001b[39m.\u001b[39mpredict(X_test_pairwise\u001b[39m.\u001b[39mdrop([\u001b[39m'\u001b[39m\u001b[39mID1\u001b[39m\u001b[39m'\u001b[39m,\u001b[39m'\u001b[39m\u001b[39mID2\u001b[39m\u001b[39m'\u001b[39m],axis\u001b[39m=\u001b[39m\u001b[39m1\u001b[39m))\n\u001b[1;32m    218\u001b[0m Y_train_pred_pairwise_list\u001b[39m=\u001b[39m\u001b[39mself\u001b[39m\u001b[39m.\u001b[39mregressor_FR\u001b[39m.\u001b[39mpredict(X_train_pairwise\u001b[39m.\u001b[39mdrop([\u001b[39m'\u001b[39m\u001b[39mID1\u001b[39m\u001b[39m'\u001b[39m,\u001b[39m'\u001b[39m\u001b[39mID2\u001b[39m\u001b[39m'\u001b[39m],axis\u001b[39m=\u001b[39m\u001b[39m1\u001b[39m))\n\u001b[0;32m--> 220\u001b[0m \u001b[39mprint\u001b[39m(\u001b[39m\"\u001b[39m\u001b[39merror_val\u001b[39m\u001b[39m\"\u001b[39m,mean_error(Y_pred_pairwise_list, Y_test_pairwise[\u001b[39m'\u001b[39;49m\u001b[39mComparison\u001b[39;49m\u001b[39m'\u001b[39;49m]))\n\u001b[1;32m    222\u001b[0m \u001b[39mprint\u001b[39m(\u001b[39m'\u001b[39m\u001b[39maccuracy_val\u001b[39m\u001b[39m'\u001b[39m,accuracy(Y_pred_pairwise_list, Y_test_pairwise[\u001b[39m'\u001b[39m\u001b[39mComparison\u001b[39m\u001b[39m'\u001b[39m]) )\n\u001b[1;32m    224\u001b[0m \u001b[39mprint\u001b[39m(\u001b[39m\"\u001b[39m\u001b[39merror_train\u001b[39m\u001b[39m\"\u001b[39m,mean_error(Y_train_pred_pairwise_list, Y_train_pairwise[\u001b[39m'\u001b[39m\u001b[39mComparison\u001b[39m\u001b[39m'\u001b[39m]))\n",
      "File \u001b[0;32m~/Challenges_and_fun/Qube/utils/compute_model_performance.py:78\u001b[0m, in \u001b[0;36mmean_error\u001b[0;34m(list1, list2)\u001b[0m\n\u001b[1;32m     76\u001b[0m squared_errors \u001b[39m=\u001b[39m [(x \u001b[39m-\u001b[39m y) \u001b[39mfor\u001b[39;00m x, y \u001b[39min\u001b[39;00m \u001b[39mzip\u001b[39m(list1, list2)]\n\u001b[1;32m     77\u001b[0m mse \u001b[39m=\u001b[39m \u001b[39msum\u001b[39m(squared_errors) \u001b[39m/\u001b[39m \u001b[39mlen\u001b[39m(list1)\n\u001b[0;32m---> 78\u001b[0m \u001b[39mreturn\u001b[39;00m mse , squared_errors\u001b[39m.\u001b[39;49msort(reverse\u001b[39m=\u001b[39;49m\u001b[39mTrue\u001b[39;49;00m)[:\u001b[39m100\u001b[39;49m]\n",
      "\u001b[0;31mTypeError\u001b[0m: 'NoneType' object is not subscriptable"
     ]
    }
   ],
   "source": [
    "import xgboost as xgb\n",
    "\n",
    "model=Model(xgb.XGBClassifier,xgb.XGBClassifier,depth=10,n_estimators=50)\n",
    "model.get_data_and_order(X_train,Y_train) \n",
    "model.Compute(iterations=1,columns='Rank_recreated',split=False)"
   ]
  },
  {
   "cell_type": "markdown",
   "metadata": {},
   "source": [
    "Conclusion Pairwise prediction with \"traditional\" means is not accurate enough to construct a robust ranking representation\n",
    "\n",
    "\n",
    "Actually let's study our required accuracy to get an acceptable validation"
   ]
  },
  {
   "cell_type": "code",
   "execution_count": null,
   "metadata": {},
   "outputs": [],
   "source": []
  },
  {
   "cell_type": "code",
   "execution_count": 6,
   "metadata": {},
   "outputs": [
    {
     "name": "stdout",
     "output_type": "stream",
     "text": [
      "            ID1     ID2  Comparison\n",
      "0        1054.0  2049.0           2\n",
      "1        1054.0  1924.0           2\n",
      "2        1054.0   297.0           2\n",
      "3        1054.0  1101.0           2\n",
      "4        1054.0  1520.0           0\n",
      "...         ...     ...         ...\n",
      "1115266  1674.0  1454.0           2\n",
      "1115267  1674.0   359.0           0\n",
      "1115268   748.0  1454.0           0\n",
      "1115269   748.0   359.0           2\n",
      "1115270  1454.0   359.0           2\n",
      "\n",
      "[1115271 rows x 3 columns]\n",
      "accuract between df and df scrambled is  [0.524919055547934, (0.5288227059850982, 562213), (0.5209895608240674, 553013), (0.044444444444444446, 45)]\n",
      "          ID  Rank_recreated    ID    TARGET\n",
      "0     1054.0             753  1054  0.028313\n",
      "1     2049.0             752  2049 -0.112516\n",
      "2     1924.0             726  1924 -0.180840\n",
      "3      297.0             704   297 -0.260356\n",
      "4     1101.0             717  1101 -0.071733\n",
      "...      ...             ...   ...       ...\n",
      "1489   459.0             762   459 -0.172597\n",
      "1490  1674.0             789  1674 -0.063546\n",
      "1491   748.0             765   748  0.151797\n",
      "1492  1454.0             697  1454 -0.640917\n",
      "1493   359.0             705   359 -0.252764\n",
      "\n",
      "[1494 rows x 4 columns]\n",
      "TARGET AND reconstructed Rank : 0.7419541489523666\n"
     ]
    }
   ],
   "source": [
    "sub_df=select_precentage_of_df(df,95)\n",
    "sub_df['Comparison']= np.random.permutation(sub_df['Comparison'].values)\n",
    "df2 = pd.merge(df, sub_df, on=['ID1','ID2'], how='left', suffixes=('', '_modified'))\n",
    "# Replace the original 'Value' column with the modified values\n",
    "df2['Comparison'] = df2['Comparison_modified'].fillna(df2['Comparison']).astype(int)\n",
    "df2.drop(['Comparison_modified'], axis=1, inplace=True)\n",
    "print(df2)\n",
    "print(\"accuract between df and df scrambled is \",accuracy(df['Comparison'],df2['Comparison']))\n",
    "remade=reconstruct_original_dataset(df2)\n",
    "sorted=remade.sort_values(by=['ID'], key=lambda x: x.map({k: i for i, k in enumerate(Y_train['ID'].tolist())}))\n",
    "# print(np.unique(sorted['Rank_recreated']))\n",
    "print(pd.concat((sorted.reset_index(drop=True),Y_train.reset_index(drop=True)),axis=1))\n",
    "from scipy.stats import spearmanr\n",
    "print(\"TARGET AND reconstructed Rank :\" ,spearmanr(sorted[\"Rank_recreated\"], Y_train[\"TARGET\"]).correlation)\n",
    "\n"
   ]
  }
 ],
 "metadata": {
  "kernelspec": {
   "display_name": "qube2",
   "language": "python",
   "name": "python3"
  },
  "language_info": {
   "codemirror_mode": {
    "name": "ipython",
    "version": 3
   },
   "file_extension": ".py",
   "mimetype": "text/x-python",
   "name": "python",
   "nbconvert_exporter": "python",
   "pygments_lexer": "ipython3",
   "version": "3.11.0"
  },
  "orig_nbformat": 4
 },
 "nbformat": 4,
 "nbformat_minor": 2
}
