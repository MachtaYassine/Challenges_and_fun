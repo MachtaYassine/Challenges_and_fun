{
 "cells": [
  {
   "cell_type": "markdown",
   "metadata": {},
   "source": [
    "In the previous Notebooks i've established that using a Linear regression to predict Rank is my best bet.\n",
    "\n",
    "This method is called  a pointwise ranking method. and the \"learn to rank\" Theory proposes more ranking methods that i'll try to explore in this norebook. \n",
    "    -Pairwise ranking\n",
    "    -Listwise ranking\n",
    "\n",
    "Let's start with Pairwise ranking there are various methods all from Microsoft researcher Burges\n",
    "RankNet, LambdaRank, LambdaRankMart"
   ]
  },
  {
   "cell_type": "code",
   "execution_count": null,
   "metadata": {},
   "outputs": [],
   "source": []
  }
 ],
 "metadata": {
  "language_info": {
   "name": "python"
  },
  "orig_nbformat": 4
 },
 "nbformat": 4,
 "nbformat_minor": 2
}
